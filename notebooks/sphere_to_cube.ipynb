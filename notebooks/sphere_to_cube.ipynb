{
 "cells": [
  {
   "cell_type": "markdown",
   "id": "3e40459c",
   "metadata": {},
   "source": [
    "# Deform a sphere into a cube\n",
    "\n",
    "---\n"
   ]
  },
  {
   "cell_type": "markdown",
   "id": "31fe7381",
   "metadata": {},
   "source": [
    "This notebook solves the problem of deforming a sphere into a cube using different methods.\n"
   ]
  },
  {
   "cell_type": "markdown",
   "id": "6a3a8804",
   "metadata": {},
   "source": [
    "Import the required modules.\n"
   ]
  },
  {
   "cell_type": "code",
   "execution_count": null,
   "id": "c3f3b072",
   "metadata": {},
   "outputs": [],
   "source": [
    "import numpy as np\n",
    "import pyvista as pv\n",
    "import torch\n",
    "from torch import nn\n",
    "from torch.utils.data import DataLoader, TensorDataset\n",
    "import matplotlib.pyplot as plt\n",
    "\n",
    "import numerical_geometry as ng"
   ]
  },
  {
   "cell_type": "markdown",
   "id": "cd93cb3c",
   "metadata": {},
   "source": [
    "---\n",
    "\n",
    "## 1 - Create source and target meshes\n"
   ]
  },
  {
   "cell_type": "markdown",
   "id": "64633103",
   "metadata": {},
   "source": [
    "We can create a sphere (source) mesh and a cube (target) mesh using the `utils.sphere()` and `utils.cube()` functions respectively. Generating meshes of spheres and cubes is discussed in the `sphere.ipynb` and `cube.ipynb` notebooks respectively. We will also calculate vertex normals for the sphere mesh.\n"
   ]
  },
  {
   "cell_type": "code",
   "execution_count": null,
   "id": "1a88b371",
   "metadata": {},
   "outputs": [],
   "source": [
    "sphere_mesh = ng.sphere(num_polar_angles=100, num_azimuthal_angles=200)\n",
    "cube_mesh = ng.cube(num_points_per_side=50)\n",
    "\n",
    "normals = sphere_mesh.points / np.linalg.norm(sphere_mesh.points, axis=1, keepdims=True)\n",
    "sphere_mesh.point_data[\"normals\"] = normals"
   ]
  },
  {
   "cell_type": "markdown",
   "id": "467e537a",
   "metadata": {},
   "source": [
    "Plot the sphere (source) mesh and the cube (target) mesh.\n"
   ]
  },
  {
   "cell_type": "code",
   "execution_count": null,
   "id": "e839d644",
   "metadata": {},
   "outputs": [],
   "source": [
    "pl = pv.Plotter(shape=(1, 2))\n",
    "\n",
    "pl.subplot(0, 0)\n",
    "pl.add_mesh(sphere_mesh, show_edges=True)\n",
    "pl.add_text(\"Sphere (source)\", font_size=12)\n",
    "\n",
    "pl.subplot(0, 1)\n",
    "pl.add_mesh(cube_mesh, show_edges=True)\n",
    "pl.add_text(\"Cube (target)\", font_size=12)\n",
    "\n",
    "pl.show()"
   ]
  },
  {
   "cell_type": "markdown",
   "id": "346b6b1d",
   "metadata": {},
   "source": [
    "---\n",
    "\n",
    "## 2 - Deform a sphere into a cube using ray tracing\n"
   ]
  },
  {
   "cell_type": "markdown",
   "id": "abe951b8",
   "metadata": {},
   "source": [
    "The first step to solve this problem is to find where the vertex normals of the sphere intersect the faces of the cube. This is a ray tracing problem, and can be solved using PyVista's built in ray tracing functionality. The ray tracing logic is implemented in the `ng.get_intersection_points()` function, which uses PyVista's `ray_trace()` method to find where the sphere's vertex normals intersect the faces of the cube.\n"
   ]
  },
  {
   "cell_type": "code",
   "execution_count": null,
   "id": "4dfc897d",
   "metadata": {},
   "outputs": [],
   "source": [
    "intersection_points, intersection_rays, intersection_cells = ng.get_intersection_points(\n",
    "    sphere_mesh,\n",
    "    cube_mesh,\n",
    ")\n",
    "\n",
    "deformation = intersection_points - sphere_mesh.points\n",
    "\n",
    "print(sphere_mesh.points.shape)\n",
    "print(intersection_points.shape)"
   ]
  },
  {
   "cell_type": "markdown",
   "id": "78a4f98f",
   "metadata": {},
   "source": [
    "To deform the sphere, we simply need to multiply the deformation field, $\\vec{d}$, by a scalar, $t \\in [0, 1]$, and evolve the position of each vertex according to this new deformation field. This is handled by the `utils.animate_deformation()` function.\n"
   ]
  },
  {
   "cell_type": "code",
   "execution_count": null,
   "id": "ca401816",
   "metadata": {},
   "outputs": [],
   "source": [
    "ng.animate_deformation(\n",
    "    source_mesh=sphere_mesh,\n",
    "    target_mesh=cube_mesh,\n",
    "    deformation=deformation,\n",
    ")"
   ]
  },
  {
   "cell_type": "markdown",
   "id": "8e732fa0",
   "metadata": {},
   "source": [
    "---\n",
    "\n",
    "## 3 - Deform a sphere into a cube using a neural network\n"
   ]
  },
  {
   "cell_type": "markdown",
   "id": "e9eec82f",
   "metadata": {},
   "source": [
    "We will now try to solve the problem using a neural network. We will aim to learn a function $f: \\mathbb{R}^3 \\rightarrow \\mathbb{R}^3$ that maps the points of the source mesh to the deformation field. One benefit of this approach is that we can learn the function on a low dimensional representation (i.e. sparse source and target meshes), and then apply the function to a dense source mesh.\n"
   ]
  },
  {
   "cell_type": "markdown",
   "id": "88b9debc",
   "metadata": {},
   "source": [
    "Set the device to MPS if available (you will need to modify this block of code if you aren't using an Apple silicon device).\n"
   ]
  },
  {
   "cell_type": "code",
   "execution_count": null,
   "id": "2e95d393",
   "metadata": {},
   "outputs": [],
   "source": [
    "if torch.backends.mps.is_available():\n",
    "    device = torch.device(\"mps\")\n",
    "else:\n",
    "    device = torch.device(\"cpu\")\n",
    "print(f\"Using {device} device.\")"
   ]
  },
  {
   "cell_type": "markdown",
   "id": "03a78ce4",
   "metadata": {},
   "source": [
    "### 3.1 - Create the model\n"
   ]
  },
  {
   "cell_type": "markdown",
   "id": "1d611ee5",
   "metadata": {},
   "source": [
    "We can initialize a multilayer perceptron (MLP) and an optimizer using the `ng.new_network()` function.\n"
   ]
  },
  {
   "cell_type": "code",
   "execution_count": null,
   "id": "5aebd795",
   "metadata": {},
   "outputs": [],
   "source": [
    "model = ng.core.NeuralNetwork(parameters=128, layers=4).to(device)"
   ]
  },
  {
   "cell_type": "markdown",
   "id": "3bfe3194",
   "metadata": {},
   "source": [
    "### 3.2 - Loss function\n"
   ]
  },
  {
   "cell_type": "markdown",
   "id": "ba31567b",
   "metadata": {},
   "source": [
    "In order to optimize the parameters, we need a loss function. To start with, the loss function will have two terms: a Chamfer distance term, and a term which penalizes large deformations. The Chamfer distance provides a measure of how close two point clouds are.\n"
   ]
  },
  {
   "cell_type": "code",
   "execution_count": null,
   "id": "1457e8f9",
   "metadata": {},
   "outputs": [],
   "source": [
    "lambda_chamfer = 1\n",
    "lambda_deformation = 1e-6\n",
    "\n",
    "\n",
    "def loss_function(source, target, deformation):\n",
    "    \"\"\"\n",
    "    Loss function\n",
    "    =============\n",
    "\n",
    "    Computes the loss.\n",
    "    \"\"\"\n",
    "\n",
    "    chamfer_distance = ng.get_chamfer_distance(source + deformation, target)\n",
    "    average_deformation = ng.get_average_deformation(deformation)\n",
    "\n",
    "    loss = (lambda_chamfer * chamfer_distance) + (\n",
    "        lambda_deformation * average_deformation\n",
    "    )\n",
    "    return loss"
   ]
  },
  {
   "cell_type": "markdown",
   "id": "948f658f",
   "metadata": {},
   "source": [
    "### 3.3 - Training\n"
   ]
  },
  {
   "cell_type": "markdown",
   "id": "34a6313b",
   "metadata": {},
   "source": [
    "We now have everything we need to train the model. The training is handled by the `train_model()` function.\n"
   ]
  },
  {
   "cell_type": "code",
   "execution_count": null,
   "id": "4c5cb796",
   "metadata": {},
   "outputs": [],
   "source": [
    "model.train_model(\n",
    "    source_mesh=sphere_mesh,\n",
    "    target_mesh=cube_mesh,\n",
    "    device=device,\n",
    "    loss_function=loss_function,\n",
    "    optimizer_type=\"SGD\",\n",
    "    epochs=100,\n",
    "    batch_size=512,\n",
    "    target_batch_size=1000,\n",
    "    learning_rate=1e-1,\n",
    ")"
   ]
  },
  {
   "cell_type": "markdown",
   "id": "088811ad",
   "metadata": {},
   "source": [
    "### 3.4 - Testing\n"
   ]
  },
  {
   "cell_type": "markdown",
   "id": "97ffada4",
   "metadata": {},
   "source": [
    "Now that we have trained the model, we can use it to calculate a deformation field.\n"
   ]
  },
  {
   "cell_type": "code",
   "execution_count": null,
   "id": "5609418f",
   "metadata": {},
   "outputs": [],
   "source": [
    "deformation = model.get_deformation_field(sphere_mesh, device)"
   ]
  },
  {
   "cell_type": "markdown",
   "id": "9323e90d",
   "metadata": {},
   "source": [
    "We can now apply the deformation field to the source.\n"
   ]
  },
  {
   "cell_type": "code",
   "execution_count": null,
   "id": "5b95db11",
   "metadata": {},
   "outputs": [],
   "source": [
    "ng.animate_deformation(\n",
    "    source_mesh=sphere_mesh, target_mesh=cube_mesh, deformation=deformation\n",
    ")"
   ]
  }
 ],
 "metadata": {
  "kernelspec": {
   "display_name": "numerical_geometry",
   "language": "python",
   "name": "python3"
  },
  "language_info": {
   "codemirror_mode": {
    "name": "ipython",
    "version": 3
   },
   "file_extension": ".py",
   "mimetype": "text/x-python",
   "name": "python",
   "nbconvert_exporter": "python",
   "pygments_lexer": "ipython3",
   "version": "3.13.5"
  }
 },
 "nbformat": 4,
 "nbformat_minor": 5
}
