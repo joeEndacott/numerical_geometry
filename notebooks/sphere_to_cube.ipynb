{
 "cells": [
  {
   "cell_type": "markdown",
   "id": "3e40459c",
   "metadata": {},
   "source": [
    "# Deform a sphere into a cube\n",
    "\n",
    "---\n"
   ]
  },
  {
   "cell_type": "markdown",
   "id": "31fe7381",
   "metadata": {},
   "source": [
    "This notebook solves the problem of deforming a sphere into a cube using different methods.\n"
   ]
  },
  {
   "cell_type": "markdown",
   "id": "6a3a8804",
   "metadata": {},
   "source": [
    "Import the required modules.\n"
   ]
  },
  {
   "cell_type": "code",
   "execution_count": 1,
   "id": "c3f3b072",
   "metadata": {},
   "outputs": [],
   "source": [
    "import numpy as np\n",
    "import pyvista as pv\n",
    "import torch\n",
    "from torch import nn\n",
    "from torch.utils.data import DataLoader, TensorDataset\n",
    "import matplotlib.pyplot as plt\n",
    "\n",
    "import numerical_geometry as ng"
   ]
  },
  {
   "cell_type": "markdown",
   "id": "cd93cb3c",
   "metadata": {},
   "source": [
    "---\n",
    "\n",
    "## 1 - Create source and target meshes\n"
   ]
  },
  {
   "cell_type": "markdown",
   "id": "64633103",
   "metadata": {},
   "source": [
    "We can create a sphere (source) mesh and a cube (target) mesh using the `utils.sphere()` and `utils.cube()` functions respectively. Generating meshes of spheres and cubes is discussed in the `sphere.ipynb` and `cube.ipynb` notebooks respectively. We will also calculate vertex normals for both meshes using the `compute_normals()` function.\n"
   ]
  },
  {
   "cell_type": "code",
   "execution_count": 13,
   "id": "1a88b371",
   "metadata": {},
   "outputs": [],
   "source": [
    "sphere_mesh = ng.sphere(\n",
    "    num_polar_angles=100, num_azimuthal_angles=200\n",
    ").compute_normals()\n",
    "cube_mesh = ng.cube(num_points_per_side=50).compute_normals()"
   ]
  },
  {
   "cell_type": "markdown",
   "id": "467e537a",
   "metadata": {},
   "source": [
    "Plot the sphere (source) mesh and the cube (target) mesh.\n"
   ]
  },
  {
   "cell_type": "code",
   "execution_count": 14,
   "id": "e839d644",
   "metadata": {},
   "outputs": [
    {
     "data": {
      "application/vnd.jupyter.widget-view+json": {
       "model_id": "28c4dd09bb734bb495918a084086d9b3",
       "version_major": 2,
       "version_minor": 0
      },
      "text/plain": [
       "Widget(value='<iframe src=\"http://localhost:61132/index.html?ui=P_0x178263250_4&reconnect=auto\" class=\"pyvista…"
      ]
     },
     "metadata": {},
     "output_type": "display_data"
    }
   ],
   "source": [
    "pl = pv.Plotter(shape=(1, 2))\n",
    "\n",
    "pl.subplot(0, 0)\n",
    "pl.add_mesh(sphere_mesh, show_edges=True)\n",
    "pl.add_text(\"Sphere (source)\", font_size=12)\n",
    "\n",
    "pl.subplot(0, 1)\n",
    "pl.add_mesh(cube_mesh, show_edges=True)\n",
    "pl.add_text(\"Cube (target)\", font_size=12)\n",
    "\n",
    "pl.show()"
   ]
  },
  {
   "cell_type": "markdown",
   "id": "346b6b1d",
   "metadata": {},
   "source": [
    "---\n",
    "\n",
    "## 2 - Deform a sphere into a cube using ray tracing\n"
   ]
  },
  {
   "cell_type": "markdown",
   "id": "abe951b8",
   "metadata": {},
   "source": [
    "The first step to solve this problem is to find where the vertex normals of the sphere intersect the faces of the cube. This is a ray tracing problem, and can be solved using PyVista's built in ray tracing functionality. The ray tracing logic is implemented in the `ng.get_intersection_points()` function, which uses PyVista's `ray_trace()` method to find where the sphere's vertex normals intersect the faces of the cube.\n"
   ]
  },
  {
   "cell_type": "code",
   "execution_count": 5,
   "id": "4dfc897d",
   "metadata": {},
   "outputs": [],
   "source": [
    "intersection_points, intersection_rays, intersection_cells = (\n",
    "    ng.geometry.RayTracing.get_intersection_points(\n",
    "        sphere_mesh,\n",
    "        cube_mesh,\n",
    "    )\n",
    ")\n",
    "\n",
    "deformation = intersection_points - sphere_mesh.points"
   ]
  },
  {
   "cell_type": "markdown",
   "id": "78a4f98f",
   "metadata": {},
   "source": [
    "To deform the sphere, we simply need to multiply the deformation field, $\\vec{d}$, by a scalar, $t \\in [0, 1]$, and evolve the position of each vertex according to this new deformation field. This is handled by the `utils.animate_deformation()` function.\n"
   ]
  },
  {
   "cell_type": "code",
   "execution_count": 6,
   "id": "ca401816",
   "metadata": {},
   "outputs": [
    {
     "data": {
      "application/vnd.jupyter.widget-view+json": {
       "model_id": "a3014dbd7c204881a502d6dde32d1e63",
       "version_major": 2,
       "version_minor": 0
      },
      "text/plain": [
       "Widget(value='<iframe src=\"http://localhost:61132/index.html?ui=P_0x178262e90_1&reconnect=auto\" class=\"pyvista…"
      ]
     },
     "metadata": {},
     "output_type": "display_data"
    }
   ],
   "source": [
    "ng.plot_deformation(\n",
    "    source_mesh=sphere_mesh,\n",
    "    deformation=deformation,\n",
    ")"
   ]
  },
  {
   "cell_type": "markdown",
   "id": "8e732fa0",
   "metadata": {},
   "source": [
    "---\n",
    "\n",
    "## 3 - Deform a sphere into a cube using a neural network\n"
   ]
  },
  {
   "cell_type": "markdown",
   "id": "e9eec82f",
   "metadata": {},
   "source": [
    "We will now try to solve the problem using a neural network. We will aim to learn a function $f: \\mathbb{R}^3 \\rightarrow \\mathbb{R}^3$ that maps the points of the source mesh to the deformation field. One benefit of this approach is that we can learn the function on a low dimensional representation (i.e. sparse source and target meshes), and then apply the function to a dense source mesh.\n"
   ]
  },
  {
   "cell_type": "markdown",
   "id": "88b9debc",
   "metadata": {},
   "source": [
    "Set the device to MPS if available (you will need to modify this block of code if you aren't using an Apple silicon device).\n"
   ]
  },
  {
   "cell_type": "code",
   "execution_count": 7,
   "id": "2e95d393",
   "metadata": {},
   "outputs": [
    {
     "name": "stdout",
     "output_type": "stream",
     "text": [
      "Using mps device.\n"
     ]
    }
   ],
   "source": [
    "if torch.backends.mps.is_available():\n",
    "    device = torch.device(\"mps\")\n",
    "else:\n",
    "    device = torch.device(\"cpu\")\n",
    "print(f\"Using {device} device.\")"
   ]
  },
  {
   "cell_type": "markdown",
   "id": "53e5051a",
   "metadata": {},
   "source": [
    "### 3.1 - Loss function\n"
   ]
  },
  {
   "cell_type": "markdown",
   "id": "a9083a4a",
   "metadata": {},
   "source": [
    "In order to optimize the parameters, we need a loss function. Our loss function will include 3 terms: a Chamfer distance term, a deformation magnitude regularization term, and a Laplacian regularization term.\n"
   ]
  },
  {
   "cell_type": "code",
   "execution_count": 15,
   "id": "fb7efc1c",
   "metadata": {},
   "outputs": [],
   "source": [
    "lambda_deformation = 1e-3\n",
    "lambda_laplacian = 1e-3\n",
    "\n",
    "\n",
    "def loss_function(source, target, deformation):\n",
    "    \"\"\"\n",
    "    Loss function\n",
    "    =============\n",
    "\n",
    "    Computes the loss.\n",
    "    \"\"\"\n",
    "\n",
    "    chamfer_distance = ng.chamfer_distance(source + deformation, target)\n",
    "    deformation_loss = ng.deformation_loss(deformation)\n",
    "    laplacian_loss = ng.laplacian_loss(source, deformation)\n",
    "\n",
    "    loss = (\n",
    "        chamfer_distance\n",
    "        + (lambda_deformation * deformation_loss)\n",
    "        + (lambda_laplacian * laplacian_loss)\n",
    "    )\n",
    "    return loss"
   ]
  },
  {
   "cell_type": "markdown",
   "id": "13a67700",
   "metadata": {},
   "source": [
    "### 3.2 - Create and train the model\n"
   ]
  },
  {
   "cell_type": "markdown",
   "id": "e3729924",
   "metadata": {},
   "source": [
    "We can initialize a multilayer perceptron (MLP) using `ng.NeuralNetwork()`. We can train the model using the `train_model()` function.\n"
   ]
  },
  {
   "cell_type": "code",
   "execution_count": 16,
   "id": "6cd88d6c",
   "metadata": {},
   "outputs": [
    {
     "name": "stdout",
     "output_type": "stream",
     "text": [
      "[10/200]: loss = 0.053161\n",
      "[20/200]: loss = 0.032777\n",
      "[30/200]: loss = 0.026131\n",
      "[40/200]: loss = 0.025336\n",
      "[50/200]: loss = 0.024499\n",
      "[60/200]: loss = 0.024202\n",
      "[70/200]: loss = 0.024412\n",
      "[80/200]: loss = 0.024269\n",
      "[90/200]: loss = 0.023794\n",
      "[100/200]: loss = 0.024110\n",
      "[110/200]: loss = 0.023667\n",
      "[120/200]: loss = 0.023625\n",
      "[130/200]: loss = 0.023525\n",
      "[140/200]: loss = 0.023460\n",
      "[150/200]: loss = 0.023632\n",
      "[160/200]: loss = 0.023358\n",
      "[170/200]: loss = 0.023401\n",
      "[180/200]: loss = 0.023163\n",
      "[190/200]: loss = 0.022957\n",
      "[200/200]: loss = 0.023192\n"
     ]
    },
    {
     "data": {
      "image/png": "[encoded data removed]",
      "text/plain": [
       "<Figure size 1000x600 with 1 Axes>"
      ]
     },
     "metadata": {},
     "output_type": "display_data"
    }
   ],
   "source": [
    "model = ng.NeuralNetwork(parameters=128, layers=4).to(device)\n",
    "\n",
    "model.train_model(\n",
    "    source_mesh=sphere_mesh,\n",
    "    target_mesh=cube_mesh,\n",
    "    device=device,\n",
    "    loss_function=loss_function,\n",
    "    optimizer_type=\"SGD\",\n",
    "    epochs=200,\n",
    "    batch_size=512,\n",
    "    target_batch_size=1000,\n",
    "    learning_rate=1e-1,\n",
    "    print_every=10,\n",
    ")"
   ]
  },
  {
   "cell_type": "markdown",
   "id": "675b1ea7",
   "metadata": {},
   "source": [
    "### 3.3 - Testing\n"
   ]
  },
  {
   "cell_type": "markdown",
   "id": "a48cf13e",
   "metadata": {},
   "source": [
    "Now that we have trained the model, we can use it to calculate a deformation field, and then apply the deformation field.\n"
   ]
  },
  {
   "cell_type": "code",
   "execution_count": 18,
   "id": "8d30523b",
   "metadata": {},
   "outputs": [
    {
     "data": {
      "application/vnd.jupyter.widget-view+json": {
       "model_id": "8dca784ad52c4c91b2f8e48b9fb76956",
       "version_major": 2,
       "version_minor": 0
      },
      "text/plain": [
       "Widget(value='<iframe src=\"http://localhost:61132/index.html?ui=P_0x335964e10_6&reconnect=auto\" class=\"pyvista…"
      ]
     },
     "metadata": {},
     "output_type": "display_data"
    }
   ],
   "source": [
    "sphere_mesh = pv.Sphere(radius=1, theta_resolution=200, phi_resolution=200)\n",
    "deformation = model.get_deformation_field(sphere_mesh, device)\n",
    "\n",
    "ng.plot_deformation(source_mesh=sphere_mesh, deformation=deformation, show_edges=False)"
   ]
  }
 ],
 "metadata": {
  "kernelspec": {
   "display_name": "numerical_geometry",
   "language": "python",
   "name": "python3"
  },
  "language_info": {
   "codemirror_mode": {
    "name": "ipython",
    "version": 3
   },
   "file_extension": ".py",
   "mimetype": "text/x-python",
   "name": "python",
   "nbconvert_exporter": "python",
   "pygments_lexer": "ipython3",
   "version": "3.13.5"
  }
 },
 "nbformat": 4,
 "nbformat_minor": 5
}
