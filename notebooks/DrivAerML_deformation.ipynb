{
 "cells": [
  {
   "cell_type": "markdown",
   "id": "08a36b39",
   "metadata": {},
   "source": [
    "# Predict deformations for the DrivAerML dataset\n"
   ]
  },
  {
   "cell_type": "markdown",
   "id": "b2fce9c2",
   "metadata": {},
   "source": [
    "---\n",
    "\n",
    "## Introduction\n"
   ]
  },
  {
   "cell_type": "markdown",
   "id": "f1db2f6b",
   "metadata": {},
   "source": [
    "This notebook attempts to deform meshes from the DrivAerML dataset into one another.\n"
   ]
  },
  {
   "cell_type": "markdown",
   "id": "9d19d7f1",
   "metadata": {},
   "source": [
    "Import required modules.\n"
   ]
  },
  {
   "cell_type": "code",
   "execution_count": null,
   "id": "a514aff5",
   "metadata": {},
   "outputs": [],
   "source": [
    "import os\n",
    "import glob\n",
    "from pathlib import Path\n",
    "import numpy as np\n",
    "import pyvista as pv\n",
    "import pycpd as cpd\n",
    "import torch\n",
    "import numerical_geometry as ng"
   ]
  },
  {
   "cell_type": "markdown",
   "id": "7682b061",
   "metadata": {},
   "source": [
    "Set the device to MPS if available (you will need to modify this block of code if you aren't using an Apple silicon device).\n"
   ]
  },
  {
   "cell_type": "code",
   "execution_count": null,
   "id": "0daa6f43",
   "metadata": {},
   "outputs": [],
   "source": [
    "if torch.backends.mps.is_available():\n",
    "    device = torch.device(\"mps\")\n",
    "else:\n",
    "    device = torch.device(\"cpu\")\n",
    "print(f\"Using {device} device.\")"
   ]
  },
  {
   "cell_type": "markdown",
   "id": "fdeb31d3",
   "metadata": {},
   "source": [
    "---\n",
    "\n",
    "## 1 - Create source and target meshes\n"
   ]
  },
  {
   "cell_type": "markdown",
   "id": "7ad6ccf0",
   "metadata": {},
   "source": [
    "Find all of the STL files in the dataset, and read them into PyVista meshes.\n"
   ]
  },
  {
   "cell_type": "code",
   "execution_count": null,
   "id": "78dd5956",
   "metadata": {},
   "outputs": [],
   "source": [
    "data_dir = Path(\"../drivaer_data/\")\n",
    "files = sorted(list(data_dir.glob(\"*.stl\")))\n",
    "meshes = []\n",
    "for file in files:\n",
    "    meshes.append(pv.read(file))\n",
    "\n",
    "\n",
    "print(f\"{len(meshes)} meshes successfully imported from {len(files)} files.\")"
   ]
  },
  {
   "cell_type": "markdown",
   "id": "7ed822c9",
   "metadata": {},
   "source": [
    "Pick 9 random meshes and plot them.\n"
   ]
  },
  {
   "cell_type": "code",
   "execution_count": null,
   "id": "8150f11c",
   "metadata": {},
   "outputs": [],
   "source": [
    "pl = pv.Plotter(shape=(3, 3), window_size=[1200, 1200])\n",
    "\n",
    "indices = np.random.choice(range(len(meshes)), size=9, replace=False)\n",
    "for i, index in enumerate(indices):\n",
    "    pl.subplot(i // 3, i % 3)\n",
    "    pl.add_mesh(meshes[index])\n",
    "    pl.add_text(\n",
    "        files[index].name,\n",
    "        font_size=12,\n",
    "        position=\"upper_right\",\n",
    "    )\n",
    "\n",
    "pl.show()"
   ]
  },
  {
   "cell_type": "markdown",
   "id": "395811e8",
   "metadata": {},
   "source": [
    "Pick two meshes at random to be source and target meshes, and plot them.\n"
   ]
  },
  {
   "cell_type": "code",
   "execution_count": null,
   "id": "bc213704",
   "metadata": {},
   "outputs": [],
   "source": [
    "indices = np.random.choice(len(meshes), size=2, replace=False)\n",
    "source_mesh, target_mesh = meshes[indices[0]], meshes[indices[1]]\n",
    "ng.plot_source_and_target(source_mesh, target_mesh)\n",
    "print(f\"Source mesh: {files[indices[0].name]}. Target mesh: {files[indices[1].name]}.\")"
   ]
  },
  {
   "cell_type": "markdown",
   "id": "d55f31b3",
   "metadata": {},
   "source": [
    "---\n",
    "\n",
    "## 2 - Predict the deformation using a neural network\n"
   ]
  },
  {
   "cell_type": "markdown",
   "id": "ed3d2ede",
   "metadata": {},
   "source": [
    "We will aim to learn a function $f: \\mathbb{R}^6 \\rightarrow \\mathbb{R}^3$ that maps the source points (as well as their vertex normals) to the deformation field.\n"
   ]
  },
  {
   "cell_type": "markdown",
   "id": "0071bf1e",
   "metadata": {},
   "source": [
    "We can initialize a neural network using `ng.NeuralNetwork()`.\n"
   ]
  },
  {
   "cell_type": "code",
   "execution_count": null,
   "id": "b1a1a9f0",
   "metadata": {},
   "outputs": [],
   "source": [
    "model = ng.NeuralNetwork(\n",
    "    input_dim=6, layers=2, hidden_dim=1000, output_dim=3, dropout_prob=0.1, verbose=True\n",
    ").to(device)"
   ]
  },
  {
   "cell_type": "markdown",
   "id": "142f580c",
   "metadata": {},
   "source": [
    "In order to optimize the parameters, we need a loss function. We will use only the chamfer distance in the loss function (no regularization terms). We can prevent wild deformations by not making our network too non-linear.\n"
   ]
  },
  {
   "cell_type": "code",
   "execution_count": null,
   "id": "50c98e6b",
   "metadata": {},
   "outputs": [],
   "source": [
    "def loss_function(source, target, deformation):\n",
    "    \"\"\"\n",
    "    Loss function\n",
    "    =============\n",
    "\n",
    "    Computes the loss.\n",
    "    \"\"\"\n",
    "    return ng.chamfer_distance(source + deformation, target)"
   ]
  },
  {
   "cell_type": "markdown",
   "id": "b6974301",
   "metadata": {},
   "source": [
    "We can estimate the optimal learning rate using the `find_optimal_lr()` method.\n"
   ]
  },
  {
   "cell_type": "code",
   "execution_count": null,
   "id": "f49a8f7e",
   "metadata": {},
   "outputs": [],
   "source": [
    "_ = model.find_optimal_lr(\n",
    "    source=source_mesh,\n",
    "    target=target_mesh,\n",
    "    device=device,\n",
    "    loss_function=loss_function,\n",
    "    optimizer_type=\"Adam\",\n",
    "    initial_lr=1e-4,\n",
    "    final_lr=1e-1,\n",
    "    early_stopping=True,\n",
    "    loss_threshold=1,\n",
    ")"
   ]
  },
  {
   "cell_type": "markdown",
   "id": "01c3413f",
   "metadata": {},
   "source": [
    "We can train the model using the `train_model()` function, and then save the parameters to the `Parameters/` directory.\n"
   ]
  },
  {
   "cell_type": "code",
   "execution_count": null,
   "id": "c6073c54",
   "metadata": {},
   "outputs": [],
   "source": [
    "model.train_model(\n",
    "    source=source_mesh,\n",
    "    target=target_mesh,\n",
    "    device=device,\n",
    "    loss_function=loss_function,\n",
    "    epochs=50,\n",
    "    optimizer_type=\"Adam\",\n",
    "    lr=1e-3,\n",
    "    batch_size=5000,\n",
    "    early_stopping=True,\n",
    "    validation_fraction=0.1,\n",
    "    patience=5,\n",
    "    min_epochs=5,\n",
    ")\n",
    "# torch.save(model.state_dict(), \"Parameters/model_parameters.pth\")"
   ]
  },
  {
   "cell_type": "markdown",
   "id": "52cf057e",
   "metadata": {},
   "source": [
    "Now that we have trained the model, we can use it to calculate a deformation field, and then apply the deformation field to the source.\n"
   ]
  },
  {
   "cell_type": "code",
   "execution_count": null,
   "id": "d62838b0",
   "metadata": {},
   "outputs": [],
   "source": [
    "deformation = model.evaluate_model(source_mesh, device)\n",
    "ng.plot_deformation(source_mesh, target_mesh, deformation)\n",
    "ng.animate_deformation(source_mesh, target_mesh, deformation)"
   ]
  },
  {
   "cell_type": "code",
   "execution_count": null,
   "id": "c153216c",
   "metadata": {},
   "outputs": [],
   "source": [
    "import pyvista as pv\n",
    "import imageio\n",
    "\n",
    "# Animate the deformation from source_mesh to deformed source and save as gif/mp4\n",
    "\n",
    "\n",
    "# Compute deformed source points\n",
    "deformed_points = source_mesh.points + deformation\n",
    "\n",
    "# Create deformed mesh\n",
    "deformed_mesh = source_mesh.copy()\n",
    "deformed_mesh.points = deformed_points\n",
    "\n",
    "# Setup plotter\n",
    "plotter = pv.Plotter(off_screen=True)\n",
    "plotter.add_mesh(source_mesh, color=\"blue\", opacity=0.5, label=\"Source\")\n",
    "plotter.add_mesh(deformed_mesh, color=\"red\", opacity=0.5, label=\"Deformed Source\")\n",
    "plotter.add_legend()\n",
    "\n",
    "n_frames = 30\n",
    "frames = []\n",
    "\n",
    "for t in np.linspace(0, 1, n_frames):\n",
    "    intermediate_points = source_mesh.points + deformation * t\n",
    "    intermediate_mesh = source_mesh.copy()\n",
    "    intermediate_mesh.points = intermediate_points\n",
    "    plotter.clear()\n",
    "    plotter.add_mesh(intermediate_mesh, color=\"purple\")\n",
    "    plotter.camera_position = \"xy\"\n",
    "    img = plotter.screenshot(return_img=True)\n",
    "    frames.append(img)\n",
    "\n",
    "\n",
    "# Save as gif\n",
    "imageio.mimsave(\"deformation_animation.gif\", frames, duration=0.05)\n",
    "\n",
    "# Save as mp4\n",
    "imageio.mimsave(\"deformation_animation.mp4\", frames, fps=20)"
   ]
  },
  {
   "cell_type": "code",
   "execution_count": null,
   "id": "7054fd9e",
   "metadata": {},
   "outputs": [],
   "source": []
  }
 ],
 "metadata": {
  "kernelspec": {
   "display_name": "numerical_geometry",
   "language": "python",
   "name": "python3"
  },
  "language_info": {
   "codemirror_mode": {
    "name": "ipython",
    "version": 3
   },
   "file_extension": ".py",
   "mimetype": "text/x-python",
   "name": "python",
   "nbconvert_exporter": "python",
   "pygments_lexer": "ipython3",
   "version": "3.13.5"
  }
 },
 "nbformat": 4,
 "nbformat_minor": 5
}
