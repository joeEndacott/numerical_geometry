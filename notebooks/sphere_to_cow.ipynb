{
 "cells": [
  {
   "cell_type": "markdown",
   "id": "8d389b06",
   "metadata": {},
   "source": [
    "# Deform a sphere into a cow's head\n"
   ]
  },
  {
   "cell_type": "markdown",
   "id": "3cd48a90",
   "metadata": {},
   "source": [
    "---\n",
    "\n",
    "## Introduction\n"
   ]
  },
  {
   "cell_type": "markdown",
   "id": "dae3c243",
   "metadata": {},
   "source": [
    "This notebook attempts to solve the problem of deforming a sphere into a cow's head.\n"
   ]
  },
  {
   "cell_type": "markdown",
   "id": "e2cb446f",
   "metadata": {},
   "source": [
    "Import the required modules.\n"
   ]
  },
  {
   "cell_type": "code",
   "execution_count": null,
   "id": "a2f98094",
   "metadata": {},
   "outputs": [],
   "source": [
    "import numpy as np\n",
    "import pyvista as pv\n",
    "import pycpd as cpd\n",
    "import torch\n",
    "import numerical_geometry as ng"
   ]
  },
  {
   "cell_type": "markdown",
   "id": "b3ab915f",
   "metadata": {},
   "source": [
    "Set the device to MPS if available (you will need to modify this block of code if you aren't using an Apple silicon device).\n"
   ]
  },
  {
   "cell_type": "code",
   "execution_count": null,
   "id": "2672fec2",
   "metadata": {},
   "outputs": [],
   "source": [
    "if torch.backends.mps.is_available():\n",
    "    device = torch.device(\"mps\")\n",
    "else:\n",
    "    device = torch.device(\"cpu\")\n",
    "print(f\"Using {device} device.\")"
   ]
  },
  {
   "cell_type": "markdown",
   "id": "cc530598",
   "metadata": {},
   "source": [
    "---\n",
    "\n",
    "## 1 - Create source and target meshes\n"
   ]
  },
  {
   "cell_type": "markdown",
   "id": "8cb48ee7",
   "metadata": {},
   "source": [
    "We will create a mesh of a sphere using the `pv.Sphere()` function.\n"
   ]
  },
  {
   "cell_type": "code",
   "execution_count": null,
   "id": "c386a249",
   "metadata": {},
   "outputs": [],
   "source": [
    "sphere_mesh = pv.Sphere(radius=1, theta_resolution=500, phi_resolution=500)"
   ]
  },
  {
   "cell_type": "markdown",
   "id": "593ac501",
   "metadata": {},
   "source": [
    "Import a mesh of a cow's head from PyVista; it should be a good mesh to benchmark different deformation algorithms. We will compute the vertex normals using the `compute_normals()` function. We will rotate, translate and scale the cow's head mesh so that it lines up nicely with the sphere mesh.\n"
   ]
  },
  {
   "cell_type": "code",
   "execution_count": null,
   "id": "6bfe1489",
   "metadata": {},
   "outputs": [],
   "source": [
    "cow_head_filename = pv.examples.download_cow_head(load=False)\n",
    "cow_head_mesh = pv.get_reader(cow_head_filename).read()\n",
    "\n",
    "cow_head_mesh = cow_head_mesh.rotate_x(angle=90)\n",
    "cow_head_mesh = cow_head_mesh.rotate_y(angle=-62)\n",
    "cow_head_mesh = cow_head_mesh.translate(-np.array(cow_head_mesh.center))\n",
    "cow_head_mesh.points = cow_head_mesh.points / np.mean(\n",
    "    np.linalg.norm(cow_head_mesh.points, axis=1)\n",
    ")"
   ]
  },
  {
   "cell_type": "markdown",
   "id": "5ef7da9a",
   "metadata": {},
   "source": [
    "Plot the source and target mesh.\n"
   ]
  },
  {
   "cell_type": "code",
   "execution_count": null,
   "id": "c049b945",
   "metadata": {},
   "outputs": [],
   "source": [
    "ng.plot_source_and_target(sphere_mesh, cow_head_mesh)"
   ]
  },
  {
   "cell_type": "markdown",
   "id": "a1e06018",
   "metadata": {},
   "source": [
    "---\n",
    "\n",
    "## 2 - Use a neural network to learn the deformation\n"
   ]
  },
  {
   "cell_type": "markdown",
   "id": "8c4bb463",
   "metadata": {},
   "source": [
    "We will aim to learn a function $f: \\mathbb{R}^6 \\rightarrow \\mathbb{R}^3$ that maps the source points (as well as their vertex normals) to the deformation field. One benefit of this approach is that we can learn the function on a low dimensional representation (i.e. a sparse source mesh), and then apply the function to a dense source mesh.\n"
   ]
  },
  {
   "cell_type": "markdown",
   "id": "0b970b79",
   "metadata": {},
   "source": [
    "We can initialize a multilayer perceptron (MLP) using `ng.NeuralNetwork()`.\n"
   ]
  },
  {
   "cell_type": "code",
   "execution_count": null,
   "id": "e3aca702",
   "metadata": {},
   "outputs": [],
   "source": [
    "model = ng.NeuralNetwork(layers=2, input_dim=6, hidden_dim=64, output_dim=3).to(device)\n",
    "print(f\"Total number of parameters: {model.num_parameters}\")"
   ]
  },
  {
   "cell_type": "markdown",
   "id": "1d84c201",
   "metadata": {},
   "source": [
    "In order to optimize the parameters, we need a loss function. We will use only the chamfer distance in the loss function (no regularization terms). We can prevent wild deformations by not making our network too non-linear.\n"
   ]
  },
  {
   "cell_type": "code",
   "execution_count": null,
   "id": "54ff40f6",
   "metadata": {},
   "outputs": [],
   "source": [
    "def loss_function(source, target, deformation):\n",
    "    \"\"\"\n",
    "    Loss function\n",
    "    =============\n",
    "\n",
    "    Computes the loss.\n",
    "    \"\"\"\n",
    "    return ng.chamfer_distance(source + deformation, target)"
   ]
  },
  {
   "cell_type": "markdown",
   "id": "a600b436",
   "metadata": {},
   "source": [
    "We can estimate the optimal learning rate using the `find_optimal_lr()` method.\n"
   ]
  },
  {
   "cell_type": "code",
   "execution_count": null,
   "id": "f6e66e05",
   "metadata": {},
   "outputs": [],
   "source": [
    "model.find_optimal_lr(\n",
    "    source_mesh=sphere_mesh,\n",
    "    target_mesh=cow_head_mesh,\n",
    "    device=device,\n",
    "    loss_function=loss_function,\n",
    "    optimizer_type=\"Adam\",\n",
    "    early_stopping=True,\n",
    "    loss_threshold=1,\n",
    ")"
   ]
  },
  {
   "cell_type": "markdown",
   "id": "2ab383fa",
   "metadata": {},
   "source": [
    "We can train the model using the `train_model()` function, and then save the parameters to the `Parameters/` directory.\n"
   ]
  },
  {
   "cell_type": "code",
   "execution_count": null,
   "id": "fb5cb26c",
   "metadata": {},
   "outputs": [],
   "source": [
    "model.train_model(\n",
    "    source_mesh=sphere_mesh,\n",
    "    target_mesh=cow_head_mesh,\n",
    "    device=device,\n",
    "    loss_function=loss_function,\n",
    "    epochs=100,\n",
    "    optimizer_type=\"Adam\",\n",
    "    lr=1e-3,\n",
    "    source_batch_size=1024,\n",
    "    target_batch_size=1024,\n",
    "    early_stopping=True,\n",
    "    validation_fraction=0.01,\n",
    "    patience=10,\n",
    ")\n",
    "# torch.save(model.state_dict(), \"Parameters/model_parameters.pth\")"
   ]
  },
  {
   "cell_type": "markdown",
   "id": "a671ce90",
   "metadata": {},
   "source": [
    "Now that we have trained the model, we can use it to calculate a deformation field, and then apply the deformation field to the source.\n"
   ]
  },
  {
   "cell_type": "code",
   "execution_count": null,
   "id": "36eee4a7",
   "metadata": {},
   "outputs": [],
   "source": [
    "sphere_mesh_2 = pv.Sphere(radius=0.75, theta_resolution=200, phi_resolution=200)\n",
    "deformation = model.evaluate_model(sphere_mesh_2, device)\n",
    "\n",
    "ng.plot_deformation(\n",
    "    source_mesh=sphere_mesh_2,\n",
    "    target_mesh=cow_head_mesh,\n",
    "    deformation=deformation,\n",
    "    show_edges=False,\n",
    ")"
   ]
  }
 ],
 "metadata": {
  "kernelspec": {
   "display_name": "numerical_geometry",
   "language": "python",
   "name": "python3"
  },
  "language_info": {
   "codemirror_mode": {
    "name": "ipython",
    "version": 3
   },
   "file_extension": ".py",
   "mimetype": "text/x-python",
   "name": "python",
   "nbconvert_exporter": "python",
   "pygments_lexer": "ipython3",
   "version": "3.13.5"
  }
 },
 "nbformat": 4,
 "nbformat_minor": 5
}
