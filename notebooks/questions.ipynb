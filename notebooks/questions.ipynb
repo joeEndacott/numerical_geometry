{
 "cells": [
  {
   "cell_type": "markdown",
   "id": "c3987a32",
   "metadata": {},
   "source": [
    "# Questions\n",
    "\n",
    "---\n"
   ]
  },
  {
   "cell_type": "markdown",
   "id": "fd2d77e0",
   "metadata": {},
   "source": [
    "1. Why does the loss vs $t$ graph have these oscillations?\n",
    "\n",
    "![alt text](Images/loss_vs_epoch.png)\n",
    "\n",
    "2. What terms would it be worth experimenting with adding to the loss function? I would like to add a term that depends on the curvature of the deformed source, and a term that depends on the local density of the deformed source point cloud; what is the best way of computing these quantities?\n"
   ]
  }
 ],
 "metadata": {
  "language_info": {
   "name": "python"
  }
 },
 "nbformat": 4,
 "nbformat_minor": 5
}
