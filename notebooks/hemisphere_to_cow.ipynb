{
 "cells": [
  {
   "cell_type": "markdown",
   "id": "8d389b06",
   "metadata": {},
   "source": [
    "# Deform a hemisphere into a cow's head\n",
    "\n",
    "---\n"
   ]
  },
  {
   "cell_type": "markdown",
   "id": "dae3c243",
   "metadata": {},
   "source": [
    "This notebook attempts to solve the problem of deforming a hemisphere into a cow's head.\n"
   ]
  },
  {
   "cell_type": "markdown",
   "id": "e2cb446f",
   "metadata": {},
   "source": [
    "Import the required modules.\n"
   ]
  },
  {
   "cell_type": "code",
   "execution_count": null,
   "id": "a2f98094",
   "metadata": {},
   "outputs": [],
   "source": [
    "import numpy as np\n",
    "import pyvista as pv\n",
    "import pycpd as cpd\n",
    "import torch\n",
    "from torch import nn\n",
    "from torch.utils.data import DataLoader, TensorDataset\n",
    "import matplotlib.pyplot as plt\n",
    "import numerical_geometry as ng"
   ]
  },
  {
   "cell_type": "markdown",
   "id": "cc530598",
   "metadata": {},
   "source": [
    "---\n",
    "\n",
    "## 1 - Create source and target meshes\n"
   ]
  },
  {
   "cell_type": "markdown",
   "id": "8cb48ee7",
   "metadata": {},
   "source": [
    "Create a mesh of a hemisphere using the `pv.Sphere()` function.\n"
   ]
  },
  {
   "cell_type": "code",
   "execution_count": null,
   "id": "c386a249",
   "metadata": {},
   "outputs": [],
   "source": [
    "hemisphere_mesh = pv.Sphere(\n",
    "    radius=1, theta_resolution=100, phi_resolution=100, end_phi=90\n",
    ")\n",
    "hemisphere_mesh.plot(show_edges=True)"
   ]
  },
  {
   "cell_type": "markdown",
   "id": "593ac501",
   "metadata": {},
   "source": [
    "Import a mesh of a cow's head from PyVista. A cow's head is a complicated geometry which is topologically equivalent to the hemisphere mesh. It should be a good mesh to benchmark different deformation algorithms.\n"
   ]
  },
  {
   "cell_type": "code",
   "execution_count": null,
   "id": "6bfe1489",
   "metadata": {},
   "outputs": [],
   "source": [
    "cow_head_filename = pv.examples.download_cow_head(load=False)\n",
    "cow_head_mesh = pv.get_reader(cow_head_filename).read()\n",
    "cow_head_mesh.plot(show_edges=True)"
   ]
  },
  {
   "cell_type": "markdown",
   "id": "a2b71564",
   "metadata": {},
   "source": [
    "Rotate, translate and scale the cow's head mesh so that it lines up nicely with the hemisphere mesh.\n"
   ]
  },
  {
   "cell_type": "code",
   "execution_count": null,
   "id": "0ac07162",
   "metadata": {},
   "outputs": [],
   "source": [
    "cow_head_mesh = cow_head_mesh.rotate_x(angle=90)\n",
    "cow_head_mesh = cow_head_mesh.rotate_y(angle=-62)\n",
    "cow_head_mesh = cow_head_mesh.translate((-0.8, 0, -3.7))\n",
    "cow_head_mesh.points = cow_head_mesh.points / np.mean(\n",
    "    np.linalg.norm(cow_head_mesh.points, axis=1)\n",
    ")\n",
    "\n",
    "print(cow_head_mesh.points.shape)"
   ]
  },
  {
   "cell_type": "markdown",
   "id": "5ef7da9a",
   "metadata": {},
   "source": [
    "Plot the source and target mesh.\n"
   ]
  },
  {
   "cell_type": "code",
   "execution_count": null,
   "id": "c049b945",
   "metadata": {},
   "outputs": [],
   "source": [
    "plotter = pv.Plotter()\n",
    "plotter.add_mesh(hemisphere_mesh, color=\"lightblue\", opacity=0.5)\n",
    "plotter.add_mesh(cow_head_mesh, color=\"brown\", opacity=0.5, show_edges=True)\n",
    "plotter.show()"
   ]
  },
  {
   "cell_type": "markdown",
   "id": "3650a430",
   "metadata": {},
   "source": [
    "---\n",
    "\n",
    "## 2 - Use `pycpd` to deform the hemisphere to the cow's head\n"
   ]
  },
  {
   "cell_type": "markdown",
   "id": "7c8ec11d",
   "metadata": {},
   "source": [
    "First, we will try using the `pypcd` [1] package to deform the hemisphere mesh to the cow's head mesh. `pypcd` is a NumPy implementation of the Coherent Point Drift (CPD) algorithm by Myronenko and Song [2].\n",
    "\n",
    "After running 5 iterations, the general shape of the cow's head is captured fairly well. However, the ears and horns of the cow are not distinct, and the hole for the neck is in completely the wrong place!\n"
   ]
  },
  {
   "cell_type": "code",
   "execution_count": null,
   "id": "36113c9b",
   "metadata": {},
   "outputs": [],
   "source": [
    "NUM_ITERATIONS = 5\n",
    "\n",
    "hemisphere_mesh_deformed = hemisphere_mesh.copy()\n",
    "\n",
    "for i in range(NUM_ITERATIONS):\n",
    "    # Create a deformable registration object.\n",
    "    deformable_registration = cpd.DeformableRegistration(\n",
    "        alpha=0.05,\n",
    "        X=np.array(cow_head_mesh.points),\n",
    "        Y=np.array(hemisphere_mesh_deformed.points),\n",
    "    )\n",
    "\n",
    "    # Run the deformable registration, and update the hemisphere mesh.\n",
    "    transformed_hemisphere_points, _ = deformable_registration.register()\n",
    "    hemisphere_mesh_deformed.points = transformed_hemisphere_points\n",
    "\n",
    "# Plot the meshes in separate subplots.\n",
    "pl = pv.Plotter(shape=(1, 2))\n",
    "\n",
    "pl.subplot(0, 0)\n",
    "pl.add_mesh(hemisphere_mesh_deformed, color=\"lightblue\")\n",
    "pl.add_text(\"Deformed hemisphere\", font_size=10)\n",
    "\n",
    "pl.subplot(0, 1)\n",
    "pl.add_mesh(cow_head_mesh, color=\"orange\")\n",
    "pl.add_text(\"Cow's head\", font_size=10)\n",
    "\n",
    "pl.show()"
   ]
  },
  {
   "cell_type": "code",
   "execution_count": null,
   "id": "a6eec036",
   "metadata": {},
   "outputs": [],
   "source": [
    "pl = pv.Plotter()\n",
    "pl.add_mesh(hemisphere_mesh_deformed, color=\"lightblue\")\n",
    "pl.show()"
   ]
  },
  {
   "cell_type": "markdown",
   "id": "916afff0",
   "metadata": {},
   "source": [
    "---\n",
    "\n",
    "## 3 - Use a neural network to deform the hemisphere to the cow's head\n"
   ]
  },
  {
   "cell_type": "markdown",
   "id": "01e56ad5",
   "metadata": {},
   "source": [
    "We will now try to solve the problem using a neural network. We will aim to learn a function $f: \\mathbb{R}^3 \\rightarrow \\mathbb{R}^3$ that maps the points of the source mesh to the deformation field. One benefit of this approach is that we can learn the function on a low dimensional representation (i.e. sparse source and target meshes), and then apply the function to a dense source mesh.\n"
   ]
  },
  {
   "cell_type": "markdown",
   "id": "6053728b",
   "metadata": {},
   "source": [
    "Set the device to MPS if available (you will need to modify this block of code if you aren't using an Apple silicon device).\n"
   ]
  },
  {
   "cell_type": "code",
   "execution_count": null,
   "id": "75ee489c",
   "metadata": {},
   "outputs": [],
   "source": [
    "if torch.backends.mps.is_available():\n",
    "    device = torch.device(\"mps\")\n",
    "else:\n",
    "    device = torch.device(\"cpu\")\n",
    "print(f\"Using {device} device.\")"
   ]
  },
  {
   "cell_type": "markdown",
   "id": "1dc74c16",
   "metadata": {},
   "source": [
    "### 3.1 - Loss function\n"
   ]
  },
  {
   "cell_type": "markdown",
   "id": "67e0589e",
   "metadata": {},
   "source": [
    "In order to optimize the parameters, we need a loss function. To start with, the loss function will have two terms: a Chamfer distance term, and a term which penalizes large deformations. The Chamfer distance provides a measure of how close two point clouds are.\n"
   ]
  },
  {
   "cell_type": "code",
   "execution_count": null,
   "id": "8f4115f7",
   "metadata": {},
   "outputs": [],
   "source": [
    "lambda_chamfer = 1\n",
    "lambda_deformation = 1e-6\n",
    "\n",
    "\n",
    "def loss_function(source, target, deformation):\n",
    "    \"\"\"\n",
    "    Loss function\n",
    "    =============\n",
    "\n",
    "    Computes the loss.\n",
    "    \"\"\"\n",
    "\n",
    "    chamfer_distance = ng.get_chamfer_distance(source + deformation, target)\n",
    "    average_deformation = ng.get_average_deformation(deformation)\n",
    "\n",
    "    loss = (lambda_chamfer * chamfer_distance) + (\n",
    "        lambda_deformation * average_deformation\n",
    "    )\n",
    "    return loss"
   ]
  },
  {
   "cell_type": "markdown",
   "id": "0b9d744f",
   "metadata": {},
   "source": [
    "### 3.2 - Create and train the model\n"
   ]
  },
  {
   "cell_type": "markdown",
   "id": "d501e86c",
   "metadata": {},
   "source": [
    "We can initialize a multilayer perceptron (MLP) and an optimizer using the `ng.new_network()` function. We can train the model using the `train_model()` function.\n"
   ]
  },
  {
   "cell_type": "code",
   "execution_count": null,
   "id": "0fe98c37",
   "metadata": {},
   "outputs": [],
   "source": [
    "model = ng.core.NeuralNetwork(parameters=128, layers=4).to(device)\n",
    "\n",
    "model.train_model(\n",
    "    source_mesh=hemisphere_mesh,\n",
    "    target_mesh=cow_head_mesh,\n",
    "    device=device,\n",
    "    loss_function=loss_function,\n",
    "    optimizer_type=\"SGD\",\n",
    "    epochs=100,\n",
    "    batch_size=512,\n",
    "    target_batch_size=1000,\n",
    "    learning_rate=1e-1,\n",
    ")"
   ]
  },
  {
   "cell_type": "markdown",
   "id": "9c3ddb18",
   "metadata": {},
   "source": [
    "### 3.3 - Testing\n"
   ]
  },
  {
   "cell_type": "markdown",
   "id": "5e44fc23",
   "metadata": {},
   "source": [
    "Now that we have trained the model, we can use it to calculate a deformation field.\n"
   ]
  },
  {
   "cell_type": "code",
   "execution_count": null,
   "id": "757b971f",
   "metadata": {},
   "outputs": [],
   "source": [
    "deformation = model.get_deformation_field(hemisphere_mesh, device)"
   ]
  },
  {
   "cell_type": "markdown",
   "id": "2b282216",
   "metadata": {},
   "source": [
    "We can now apply the deformation field to the source.\n"
   ]
  },
  {
   "cell_type": "code",
   "execution_count": null,
   "id": "cabc7f15",
   "metadata": {},
   "outputs": [],
   "source": [
    "ng.animate_deformation(\n",
    "    source_mesh=hemisphere_mesh, target_mesh=cow_head_mesh, deformation=deformation\n",
    ")"
   ]
  },
  {
   "cell_type": "markdown",
   "id": "6bbe50b5",
   "metadata": {},
   "source": [
    "---\n",
    "\n",
    "## 4 - Use a neural network with multiple stages\n"
   ]
  },
  {
   "cell_type": "markdown",
   "id": "f8ecf5fd",
   "metadata": {},
   "source": [
    "The approach from the previous section didn't work very well, so we will try training over multiple stages, and see if that improves the performance at all.\n"
   ]
  },
  {
   "cell_type": "markdown",
   "id": "deb1e1a9",
   "metadata": {},
   "source": [
    "Set the device to MPS if available (you will need to modify this block of code if you aren't using an Apple silicon device).\n"
   ]
  },
  {
   "cell_type": "code",
   "execution_count": null,
   "id": "2e26ffcc",
   "metadata": {},
   "outputs": [],
   "source": [
    "if torch.backends.mps.is_available():\n",
    "    device = torch.device(\"mps\")\n",
    "else:\n",
    "    device = torch.device(\"cpu\")\n",
    "print(f\"Using {device} device.\")"
   ]
  },
  {
   "cell_type": "markdown",
   "id": "53b88474",
   "metadata": {},
   "source": [
    "### 4.1 - Loss function\n"
   ]
  },
  {
   "cell_type": "markdown",
   "id": "47f96ea5",
   "metadata": {},
   "source": [
    "In order to optimize the parameters, we need a loss function. To start with, the loss function will have two terms: a Chamfer distance term, and a term which penalizes large deformations. The Chamfer distance provides a measure of how close two point clouds are.\n"
   ]
  },
  {
   "cell_type": "code",
   "execution_count": null,
   "id": "3626d808",
   "metadata": {},
   "outputs": [],
   "source": [
    "lambda_chamfer = 1\n",
    "lambda_deformation = 1e-6\n",
    "\n",
    "\n",
    "def loss_function(source, target, deformation):\n",
    "    \"\"\"\n",
    "    Loss function\n",
    "    =============\n",
    "\n",
    "    Computes the loss.\n",
    "    \"\"\"\n",
    "\n",
    "    chamfer_distance = ng.get_chamfer_distance(source + deformation, target)\n",
    "    average_deformation = ng.get_average_deformation(deformation)\n",
    "\n",
    "    loss = (lambda_chamfer * chamfer_distance) + (\n",
    "        lambda_deformation * average_deformation\n",
    "    )\n",
    "    return loss"
   ]
  },
  {
   "cell_type": "markdown",
   "id": "6b189f8f",
   "metadata": {},
   "source": [
    "### 4.2 - Create and train the model over multiple stages\n"
   ]
  },
  {
   "cell_type": "markdown",
   "id": "aaacd745",
   "metadata": {},
   "source": [
    "We now have everything we need to train the model. The training is handled by the `train_model()` function.\n"
   ]
  },
  {
   "cell_type": "code",
   "execution_count": null,
   "id": "e95c3f81",
   "metadata": {},
   "outputs": [],
   "source": [
    "source = torch.from_numpy(hemisphere_mesh.points).float().to(device)\n",
    "\n",
    "stages = 5\n",
    "deformation_history = []\n",
    "\n",
    "for stage in range(stages):\n",
    "    if stage > 0:\n",
    "        current_source = current_source + current_deformation\n",
    "    else:\n",
    "        current_source = source\n",
    "\n",
    "    print(f\"\\nStage {stage+1}:\\n--------\")\n",
    "\n",
    "    model = ng.core.NeuralNetwork(parameters=128, layers=4).to(device)\n",
    "\n",
    "    model.train_model(\n",
    "        source_mesh=current_source,\n",
    "        target_mesh=cow_head_mesh,\n",
    "        device=device,\n",
    "        loss_function=loss_function,\n",
    "        optimizer_type=\"SGD\",\n",
    "        epochs=100,\n",
    "        batch_size=512,\n",
    "        target_batch_size=1000,\n",
    "        learning_rate=1e-1,\n",
    "    )\n",
    "\n",
    "    current_deformation = model(current_source).detach()\n",
    "    deformation_history.append(current_deformation)"
   ]
  },
  {
   "cell_type": "markdown",
   "id": "a22bc737",
   "metadata": {},
   "source": [
    "### 3.4 - Testing\n"
   ]
  },
  {
   "cell_type": "markdown",
   "id": "cbc998a2",
   "metadata": {},
   "source": [
    "We can calculate the full deformation field using `deformation_history`.\n"
   ]
  },
  {
   "cell_type": "code",
   "execution_count": null,
   "id": "24e36ddd",
   "metadata": {},
   "outputs": [],
   "source": [
    "total_deformation = torch.zeros_like(deformation_history[0])\n",
    "\n",
    "for deformation in deformation_history:\n",
    "    total_deformation += deformation\n",
    "\n",
    "total_deformation = total_deformation.to(\"cpu\").detach().numpy()"
   ]
  },
  {
   "cell_type": "markdown",
   "id": "0a8978cf",
   "metadata": {},
   "source": [
    "We can now apply the deformation field to the source.\n"
   ]
  },
  {
   "cell_type": "code",
   "execution_count": null,
   "id": "72cb4e0d",
   "metadata": {},
   "outputs": [],
   "source": [
    "ng.animate_deformation(\n",
    "    source_mesh=hemisphere_mesh,\n",
    "    target_mesh=cow_head_mesh,\n",
    "    deformation=total_deformation,\n",
    ")"
   ]
  },
  {
   "cell_type": "markdown",
   "id": "b34c3d84",
   "metadata": {},
   "source": [
    "---\n",
    "\n",
    "## References\n"
   ]
  },
  {
   "cell_type": "markdown",
   "id": "09353d0b",
   "metadata": {},
   "source": [
    "[1] - Khallaghi, S. siavashk/pycpd. (2025) (https://github.com/siavashk/pycpd).\n",
    "\n",
    "[2] - Myronenko, A. & Song, X. Point-Set Registration: Coherent Point Drift. IEEE Trans. Pattern Anal. Mach. Intell. 32, 2262–2275 (2010) (https://doi.org/10.1109/TPAMI.2010.46).\n"
   ]
  },
  {
   "cell_type": "markdown",
   "id": "14ff2586",
   "metadata": {},
   "source": []
  }
 ],
 "metadata": {
  "kernelspec": {
   "display_name": "numerical_geometry",
   "language": "python",
   "name": "python3"
  },
  "language_info": {
   "codemirror_mode": {
    "name": "ipython",
    "version": 3
   },
   "file_extension": ".py",
   "mimetype": "text/x-python",
   "name": "python",
   "nbconvert_exporter": "python",
   "pygments_lexer": "ipython3",
   "version": "3.13.5"
  }
 },
 "nbformat": 4,
 "nbformat_minor": 5
}
