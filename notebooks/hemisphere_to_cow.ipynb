{
 "cells": [
  {
   "cell_type": "markdown",
   "id": "8d389b06",
   "metadata": {},
   "source": [
    "# Deform a sphere into a cow's head\n",
    "\n",
    "---\n"
   ]
  },
  {
   "cell_type": "markdown",
   "id": "dae3c243",
   "metadata": {},
   "source": [
    "This notebook attempts to solve the problem of deforming a sphere into a cow's head.\n"
   ]
  },
  {
   "cell_type": "markdown",
   "id": "e2cb446f",
   "metadata": {},
   "source": [
    "Import the required modules.\n"
   ]
  },
  {
   "cell_type": "code",
   "execution_count": null,
   "id": "a2f98094",
   "metadata": {},
   "outputs": [],
   "source": [
    "import numpy as np\n",
    "import pyvista as pv\n",
    "import pycpd as cpd\n",
    "import torch\n",
    "import numerical_geometry as ng"
   ]
  },
  {
   "cell_type": "markdown",
   "id": "b3ab915f",
   "metadata": {},
   "source": [
    "Set the device to MPS if available (you will need to modify this block of code if you aren't using an Apple silicon device).\n"
   ]
  },
  {
   "cell_type": "code",
   "execution_count": null,
   "id": "2672fec2",
   "metadata": {},
   "outputs": [],
   "source": [
    "if torch.backends.mps.is_available():\n",
    "    device = torch.device(\"mps\")\n",
    "else:\n",
    "    device = torch.device(\"cpu\")\n",
    "print(f\"Using {device} device.\")"
   ]
  },
  {
   "cell_type": "markdown",
   "id": "cc530598",
   "metadata": {},
   "source": [
    "---\n",
    "\n",
    "## 1 - Create source and target meshes\n"
   ]
  },
  {
   "cell_type": "markdown",
   "id": "8cb48ee7",
   "metadata": {},
   "source": [
    "We will create a mesh of a sphere using the `pv.Sphere()` function.\n"
   ]
  },
  {
   "cell_type": "code",
   "execution_count": null,
   "id": "c386a249",
   "metadata": {},
   "outputs": [],
   "source": [
    "sphere_mesh = pv.Sphere(radius=1, theta_resolution=100, phi_resolution=100)"
   ]
  },
  {
   "cell_type": "markdown",
   "id": "593ac501",
   "metadata": {},
   "source": [
    "Import a mesh of a cow's head from PyVista; it should be a good mesh to benchmark different deformation algorithms. We will compute the vertex normals using the `compute_normals()` function. We will rotate, translate and scale the cow's head mesh so that it lines up nicely with the sphere mesh.\n"
   ]
  },
  {
   "cell_type": "code",
   "execution_count": null,
   "id": "6bfe1489",
   "metadata": {},
   "outputs": [],
   "source": [
    "cow_head_filename = pv.examples.download_cow_head(load=False)\n",
    "cow_head_mesh = pv.get_reader(cow_head_filename).read()\n",
    "\n",
    "cow_head_mesh = cow_head_mesh.rotate_x(angle=90)\n",
    "cow_head_mesh = cow_head_mesh.rotate_y(angle=-62)\n",
    "cow_head_mesh = cow_head_mesh.translate(-np.array(cow_head_mesh.center))\n",
    "cow_head_mesh.points = cow_head_mesh.points / np.mean(\n",
    "    np.linalg.norm(cow_head_mesh.points, axis=1)\n",
    ")"
   ]
  },
  {
   "cell_type": "markdown",
   "id": "5ef7da9a",
   "metadata": {},
   "source": [
    "Plot the source and target mesh.\n"
   ]
  },
  {
   "cell_type": "code",
   "execution_count": null,
   "id": "c049b945",
   "metadata": {},
   "outputs": [],
   "source": [
    "pl = pv.Plotter(shape=(1, 3))\n",
    "\n",
    "pl.subplot(0, 0)\n",
    "pl.add_mesh(sphere_mesh, color=\"lightblue\")\n",
    "pl.add_text(f\"Points: {sphere_mesh.n_points}\", font_size=12, position=\"upper_right\")\n",
    "\n",
    "pl.subplot(0, 1)\n",
    "pl.add_mesh(cow_head_mesh, color=\"orange\")\n",
    "pl.add_text(f\"Points: {cow_head_mesh.n_points}\", font_size=12, position=\"upper_right\")\n",
    "\n",
    "pl.subplot(0, 2)\n",
    "pl.add_mesh(sphere_mesh, color=\"lightblue\", opacity=0.5)\n",
    "pl.add_mesh(cow_head_mesh, color=\"orange\", opacity=0.5)\n",
    "\n",
    "\n",
    "pl.show()"
   ]
  },
  {
   "cell_type": "markdown",
   "id": "a1e06018",
   "metadata": {},
   "source": [
    "---\n",
    "\n",
    "## 2 - Use a neural network to learn the deformation\n"
   ]
  },
  {
   "cell_type": "markdown",
   "id": "8c4bb463",
   "metadata": {},
   "source": [
    "We will now try to solve the problem using a neural network. We will aim to learn a function $f: \\mathbb{R}^6 \\rightarrow \\mathbb{R}^3$ that maps the points of the source mesh (as well as their vertex normals) to the deformation field. One benefit of this approach is that we can learn the function on a low dimensional representation (i.e. sparse source and target meshes), and then apply the function to a dense source mesh.\n"
   ]
  },
  {
   "cell_type": "markdown",
   "id": "f053412b",
   "metadata": {},
   "source": [
    "### 2.1 - Loss function\n"
   ]
  },
  {
   "cell_type": "markdown",
   "id": "1d84c201",
   "metadata": {},
   "source": [
    "In order to optimize the parameters, we need a loss function. Our loss function will include 3 terms: a Chamfer distance term, a deformation magnitude regularization term, and a Laplacian regularization term.\n"
   ]
  },
  {
   "cell_type": "code",
   "execution_count": null,
   "id": "54ff40f6",
   "metadata": {},
   "outputs": [],
   "source": [
    "def loss_function(source, target, deformation):\n",
    "    \"\"\"\n",
    "    Loss function\n",
    "    =============\n",
    "\n",
    "    Computes the loss.\n",
    "    \"\"\"\n",
    "    return ng.chamfer_distance(source + deformation, target)"
   ]
  },
  {
   "cell_type": "markdown",
   "id": "b794525c",
   "metadata": {},
   "source": [
    "### 2.2 - Create and train the model\n"
   ]
  },
  {
   "cell_type": "markdown",
   "id": "0b970b79",
   "metadata": {},
   "source": [
    "We can initialize a multilayer perceptron (MLP) using `ng.NeuralNetwork()`.\n"
   ]
  },
  {
   "cell_type": "code",
   "execution_count": null,
   "id": "e3aca702",
   "metadata": {},
   "outputs": [],
   "source": [
    "model = ng.NeuralNetwork(layers=5, input_dim=6, hidden_dim=64, output_dim=3).to(device)\n",
    "print(f\"Total number of parameters: {model.num_parameters}\")"
   ]
  },
  {
   "cell_type": "markdown",
   "id": "a600b436",
   "metadata": {},
   "source": [
    "We can estimate the optimal learning rate using the `find_optimal_lr()` method.\n"
   ]
  },
  {
   "cell_type": "code",
   "execution_count": null,
   "id": "f6e66e05",
   "metadata": {},
   "outputs": [],
   "source": [
    "model.find_optimal_lr(\n",
    "    source_mesh=sphere_mesh,\n",
    "    target_mesh=cow_head_mesh,\n",
    "    device=device,\n",
    "    loss_function=loss_function,\n",
    "    optimizer_type=\"Adam\",\n",
    "    early_stopping=True,\n",
    "    loss_threshold=0.1,\n",
    ")"
   ]
  },
  {
   "cell_type": "markdown",
   "id": "2ab383fa",
   "metadata": {},
   "source": [
    "We can train the model using the `train_model()` function, and then save the parameters to the `Parameters/` directory.\n"
   ]
  },
  {
   "cell_type": "code",
   "execution_count": null,
   "id": "fb5cb26c",
   "metadata": {},
   "outputs": [],
   "source": [
    "model.train_model(\n",
    "    source_mesh=sphere_mesh,\n",
    "    target_mesh=cow_head_mesh,\n",
    "    device=device,\n",
    "    loss_function=loss_function,\n",
    "    epochs=1000,\n",
    "    optimizer_type=\"Adam\",\n",
    "    lr=1e-3,\n",
    "    source_batch_size=1024,\n",
    "    target_batch_size=1024,\n",
    "    early_stopping=True,\n",
    "    patience=100,\n",
    "    min_delta=1e-6,\n",
    ")\n",
    "torch.save(model.state_dict(), \"Parameters/model_parameters.pth\")"
   ]
  },
  {
   "cell_type": "markdown",
   "id": "89e1b6ed",
   "metadata": {},
   "source": [
    "### 2.3 - Testing\n"
   ]
  },
  {
   "cell_type": "markdown",
   "id": "a671ce90",
   "metadata": {},
   "source": [
    "Now that we have trained the model, we can use it to calculate a deformation field, and then apply the deformation field to the source.\n"
   ]
  },
  {
   "cell_type": "code",
   "execution_count": null,
   "id": "36eee4a7",
   "metadata": {},
   "outputs": [],
   "source": [
    "sphere_mesh_2 = pv.Sphere(radius=0.75, theta_resolution=200, phi_resolution=200)\n",
    "deformation = model.evaluate_model(sphere_mesh_2, device)\n",
    "\n",
    "ng.plot_deformation(\n",
    "    source_mesh=sphere_mesh_2,\n",
    "    target_mesh=cow_head_mesh,\n",
    "    deformation=deformation,\n",
    "    show_edges=False,\n",
    ")"
   ]
  },
  {
   "cell_type": "markdown",
   "id": "6bbe50b5",
   "metadata": {},
   "source": [
    "---\n",
    "\n",
    "## Appendix A - Use a neural network with multiple stages (curriculum training)\n"
   ]
  },
  {
   "cell_type": "markdown",
   "id": "f8ecf5fd",
   "metadata": {},
   "source": [
    "We will try training over multiple stages (curriculum training), and see if that improves the performance at all.\n"
   ]
  },
  {
   "cell_type": "markdown",
   "id": "deb1e1a9",
   "metadata": {},
   "source": [
    "Set the device to MPS if available (you will need to modify this block of code if you aren't using an Apple silicon device).\n"
   ]
  },
  {
   "cell_type": "code",
   "execution_count": null,
   "id": "2e26ffcc",
   "metadata": {},
   "outputs": [],
   "source": [
    "if torch.backends.mps.is_available():\n",
    "    device = torch.device(\"mps\")\n",
    "else:\n",
    "    device = torch.device(\"cpu\")\n",
    "print(f\"Using {device} device.\")"
   ]
  },
  {
   "cell_type": "markdown",
   "id": "53b88474",
   "metadata": {},
   "source": [
    "### A.1 - Loss function\n"
   ]
  },
  {
   "cell_type": "markdown",
   "id": "47f96ea5",
   "metadata": {},
   "source": [
    "In order to optimize the parameters, we need a loss function. To start with, the loss function will have two terms: a Chamfer distance term, and a term which penalizes large deformations. The Chamfer distance provides a measure of how close two point clouds are.\n"
   ]
  },
  {
   "cell_type": "code",
   "execution_count": null,
   "id": "3626d808",
   "metadata": {},
   "outputs": [],
   "source": [
    "lambda_deformation = 1e-3\n",
    "lambda_laplacian = 1e-3\n",
    "\n",
    "\n",
    "def loss_function(source, target, deformation):\n",
    "    \"\"\"\n",
    "    Loss function\n",
    "    =============\n",
    "\n",
    "    Computes the loss.\n",
    "    \"\"\"\n",
    "    chamfer_distance = ng.chamfer_distance(source + deformation, target)\n",
    "    deformation_loss = ng.deformation_loss(deformation)\n",
    "    laplacian_loss = ng.laplacian_loss(source, deformation)\n",
    "\n",
    "    loss = (\n",
    "        chamfer_distance\n",
    "        + (lambda_deformation * deformation_loss)\n",
    "        + (lambda_laplacian * laplacian_loss)\n",
    "    )\n",
    "    return loss"
   ]
  },
  {
   "cell_type": "markdown",
   "id": "6b189f8f",
   "metadata": {},
   "source": [
    "### A.2 - Create and train the model over multiple stages\n"
   ]
  },
  {
   "cell_type": "markdown",
   "id": "aaacd745",
   "metadata": {},
   "source": [
    "We now have everything we need to train the model. The training is handled by the `train_model()` function. We will train the model over 5 stages. You may want to try modifying this code to vary the hyperparameters/loss function at each training stage.\n"
   ]
  },
  {
   "cell_type": "code",
   "execution_count": null,
   "id": "e95c3f81",
   "metadata": {},
   "outputs": [],
   "source": [
    "source = torch.from_numpy(sphere_mesh.points).float().to(device)\n",
    "\n",
    "stages = 5\n",
    "deformation_history = []\n",
    "\n",
    "for stage in range(stages):\n",
    "    print(f\"\\nStage {stage+1}:\\n--------\")\n",
    "\n",
    "    # Find the current source.\n",
    "    if stage > 0:\n",
    "        current_source = current_source + current_deformation\n",
    "    else:\n",
    "        current_source = source\n",
    "\n",
    "    model = ng.NeuralNetwork(parameters=128, layers=4).to(device)\n",
    "\n",
    "    model.train_model(\n",
    "        source_mesh=current_source,\n",
    "        target_mesh=cow_head_mesh,\n",
    "        device=device,\n",
    "        loss_function=loss_function,\n",
    "        optimizer_type=\"SGD\",\n",
    "        epochs=40,\n",
    "        batch_size=512,\n",
    "        target_batch_size=1000,\n",
    "        learning_rate=1e-1,\n",
    "    )\n",
    "\n",
    "    current_deformation = model(current_source).detach()\n",
    "    deformation_history.append(current_deformation)"
   ]
  },
  {
   "cell_type": "markdown",
   "id": "a22bc737",
   "metadata": {},
   "source": [
    "### A.3 - Testing\n"
   ]
  },
  {
   "cell_type": "markdown",
   "id": "cbc998a2",
   "metadata": {},
   "source": [
    "We can calculate the full deformation field using `deformation_history`.\n"
   ]
  },
  {
   "cell_type": "code",
   "execution_count": null,
   "id": "24e36ddd",
   "metadata": {},
   "outputs": [],
   "source": [
    "total_deformation = torch.zeros_like(deformation_history[0])\n",
    "\n",
    "for deformation in deformation_history:\n",
    "    total_deformation += deformation\n",
    "\n",
    "total_deformation = total_deformation.to(\"cpu\").detach().numpy()"
   ]
  },
  {
   "cell_type": "markdown",
   "id": "0a8978cf",
   "metadata": {},
   "source": [
    "We can now apply the deformation field to the source.\n"
   ]
  },
  {
   "cell_type": "code",
   "execution_count": null,
   "id": "72cb4e0d",
   "metadata": {},
   "outputs": [],
   "source": [
    "ng.plot_deformation(\n",
    "    source_mesh=sphere_mesh,\n",
    "    deformation=total_deformation,\n",
    "    show_edges=False,\n",
    ")"
   ]
  }
 ],
 "metadata": {
  "kernelspec": {
   "display_name": "numerical_geometry",
   "language": "python",
   "name": "python3"
  },
  "language_info": {
   "codemirror_mode": {
    "name": "ipython",
    "version": 3
   },
   "file_extension": ".py",
   "mimetype": "text/x-python",
   "name": "python",
   "nbconvert_exporter": "python",
   "pygments_lexer": "ipython3",
   "version": "3.13.5"
  }
 },
 "nbformat": 4,
 "nbformat_minor": 5
}
