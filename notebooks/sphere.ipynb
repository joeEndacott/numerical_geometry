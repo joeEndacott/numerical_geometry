{
 "cells": [
  {
   "cell_type": "markdown",
   "id": "08b50536",
   "metadata": {},
   "source": [
    "# Create a sphere using PyVista\n",
    "\n",
    "---\n"
   ]
  },
  {
   "cell_type": "markdown",
   "id": "ce48912d",
   "metadata": {},
   "source": [
    "This notebook outlines different ways to generate a sphere using PyVista.\n"
   ]
  },
  {
   "cell_type": "markdown",
   "id": "5e581168",
   "metadata": {},
   "source": [
    "Import required modules.\n"
   ]
  },
  {
   "cell_type": "code",
   "execution_count": null,
   "id": "92c19b19",
   "metadata": {},
   "outputs": [],
   "source": [
    "import pyvista as pv\n",
    "import numpy as np\n",
    "from scipy.spatial import ConvexHull\n",
    "import numerical_geometry as ng"
   ]
  },
  {
   "cell_type": "markdown",
   "id": "d7a2596b",
   "metadata": {},
   "source": [
    "---\n",
    "\n",
    "## 1 - Generate a sphere using PyVista's `pv.Sphere()` method\n"
   ]
  },
  {
   "cell_type": "markdown",
   "id": "15ad0210",
   "metadata": {},
   "source": [
    "Generate and plot the sphere.\n"
   ]
  },
  {
   "cell_type": "code",
   "execution_count": null,
   "id": "9d31501f",
   "metadata": {},
   "outputs": [],
   "source": [
    "sphere_mesh = pv.Sphere(radius=1, theta_resolution=20, phi_resolution=20)\n",
    "sphere_mesh.plot(show_edges=True)"
   ]
  },
  {
   "cell_type": "markdown",
   "id": "0fe93663",
   "metadata": {},
   "source": [
    "---\n",
    "\n",
    "## 2 - Generating vertices\n"
   ]
  },
  {
   "cell_type": "markdown",
   "id": "0d477744",
   "metadata": {},
   "source": [
    "### 2.1 - Generate vertices in spherical coordinates\n"
   ]
  },
  {
   "cell_type": "markdown",
   "id": "8600bcab",
   "metadata": {},
   "source": [
    "Generate arrays of $r$, $\\theta$, $\\phi$ values.\n"
   ]
  },
  {
   "cell_type": "code",
   "execution_count": null,
   "id": "a78aaa1f",
   "metadata": {},
   "outputs": [],
   "source": [
    "r = np.array([1])\n",
    "theta = np.linspace(0, np.pi, 20)\n",
    "phi = np.linspace(0, 2 * np.pi, 40)"
   ]
  },
  {
   "cell_type": "markdown",
   "id": "19531d92",
   "metadata": {},
   "source": [
    "Convert from spherical coordinates to Cartesian coordinates. Combine the $x$, $y$, $z$ values into an array, `vertices_spherical`.\n"
   ]
  },
  {
   "cell_type": "code",
   "execution_count": null,
   "id": "f709b0c7",
   "metadata": {},
   "outputs": [],
   "source": [
    "r_v, theta_v, phi_v = np.meshgrid(np.array([1]), theta, phi)\n",
    "\n",
    "x_v = r_v * np.sin(theta_v) * np.cos(phi_v)\n",
    "y_v = r_v * np.sin(theta_v) * np.sin(phi_v)\n",
    "z_v = r_v * np.cos(theta_v)\n",
    "\n",
    "vertices_spherical = np.c_[x_v.reshape(-1), y_v.reshape(-1), z_v.reshape(-1)]"
   ]
  },
  {
   "cell_type": "markdown",
   "id": "f9201dab",
   "metadata": {},
   "source": [
    "Create a PyVista mesh; this mesh only has vertices (i.e. it is a point cloud). To make visualizing the point cloud easier, we will perform a Delaunay 3D tessellation before plotting.\n"
   ]
  },
  {
   "cell_type": "code",
   "execution_count": null,
   "id": "6b471624",
   "metadata": {},
   "outputs": [],
   "source": [
    "sphere_mesh_spherical = pv.PolyData(vertices_spherical)\n",
    "\n",
    "pl = pv.Plotter()\n",
    "pl.add_mesh(sphere_mesh_spherical.delaunay_3d())\n",
    "pl.add_mesh(\n",
    "    sphere_mesh_spherical.points,\n",
    "    color=\"black\",\n",
    "    point_size=5,\n",
    "    render_points_as_spheres=True,\n",
    ")\n",
    "pl.show()"
   ]
  },
  {
   "cell_type": "markdown",
   "id": "520766af",
   "metadata": {},
   "source": [
    "### 2.2 - Generate vertices in Cartesian coordinates\n"
   ]
  },
  {
   "cell_type": "markdown",
   "id": "cd7661be",
   "metadata": {},
   "source": [
    "Generate arrays of $x$, $y$ values. Remove coordinate pairs which don't satisfy $x^2 + y^2 \\leq 1$.\n"
   ]
  },
  {
   "cell_type": "code",
   "execution_count": null,
   "id": "3c2445d8",
   "metadata": {},
   "outputs": [],
   "source": [
    "x = np.linspace(-1, 1, 20)\n",
    "y = np.linspace(-1, 1, 20)\n",
    "\n",
    "x_v, y_v = np.meshgrid(x, y)\n",
    "xy_coordinates = np.c_[x_v.reshape(-1), y_v.reshape(-1)]\n",
    "\n",
    "radius_squared = xy_coordinates[:, 0] ** 2 + xy_coordinates[:, 1] ** 2\n",
    "mask = radius_squared <= 1.0\n",
    "xy_coordinates = xy_coordinates[mask]\n",
    "radius_squared = radius_squared[mask]"
   ]
  },
  {
   "cell_type": "markdown",
   "id": "20497f01",
   "metadata": {},
   "source": [
    "Create an array, `vertices_cartesian`, to store the vertices. Populate it with the $(x, y)$ coordinates (twice).\n"
   ]
  },
  {
   "cell_type": "code",
   "execution_count": null,
   "id": "fe7ff84e",
   "metadata": {},
   "outputs": [],
   "source": [
    "num_coords = xy_coordinates.shape[0]\n",
    "vertices_cartesian = np.zeros((num_coords * 2, 3), dtype=float)\n",
    "\n",
    "vertices_cartesian[0:num_coords, 0:2] = xy_coordinates\n",
    "vertices_cartesian[num_coords : 2 * num_coords, 0:2] = xy_coordinates"
   ]
  },
  {
   "cell_type": "markdown",
   "id": "8d9d04f2",
   "metadata": {},
   "source": [
    "Calculate the $z$ coordinates for each $(x, y)$ coordinate using the formula $z = \\pm \\sqrt{1 - x^2 - y^2}$. Remove duplicate vertices.\n"
   ]
  },
  {
   "cell_type": "code",
   "execution_count": null,
   "id": "adb14cb0",
   "metadata": {},
   "outputs": [],
   "source": [
    "vertices_cartesian[0:num_coords, 2] = np.sqrt(1 - radius_squared)\n",
    "vertices_cartesian[num_coords : 2 * num_coords, 2] = (\n",
    "    vertices_cartesian[0:num_coords, 2] * -1\n",
    ")\n",
    "vertices_cartesian = np.unique(vertices_cartesian, axis=0)"
   ]
  },
  {
   "cell_type": "markdown",
   "id": "4ebc2a38",
   "metadata": {},
   "source": [
    "Create a PyVista mesh; this mesh only has vertices (i.e. it is a point cloud). To make visualizing the point cloud easier, we will perform a Delaunay 3D tessellation before plotting.\n"
   ]
  },
  {
   "cell_type": "code",
   "execution_count": null,
   "id": "e45c04af",
   "metadata": {},
   "outputs": [],
   "source": [
    "sphere_mesh_cartesian = pv.PolyData(vertices_cartesian)\n",
    "\n",
    "pl = pv.Plotter()\n",
    "pl.add_mesh(sphere_mesh_cartesian.delaunay_3d())\n",
    "pl.add_mesh(\n",
    "    sphere_mesh_cartesian.points,\n",
    "    color=\"black\",\n",
    "    point_size=5,\n",
    "    render_points_as_spheres=True,\n",
    ")\n",
    "pl.show()"
   ]
  },
  {
   "cell_type": "markdown",
   "id": "cdabe8e9",
   "metadata": {},
   "source": [
    "---\n",
    "\n",
    "## 3 - Tessellating a 3D point cloud\n"
   ]
  },
  {
   "cell_type": "markdown",
   "id": "0af78bde",
   "metadata": {},
   "source": [
    "The vertices generated in spherical coordinates in the previous section looked better than the vertices generated in Cartesian coordinates, so we will use the former method.\n"
   ]
  },
  {
   "cell_type": "code",
   "execution_count": null,
   "id": "afeb71cf",
   "metadata": {},
   "outputs": [],
   "source": [
    "r = np.array([1])\n",
    "theta = np.linspace(0, np.pi, 20)\n",
    "phi = np.linspace(0, 2 * np.pi, 40)\n",
    "\n",
    "r_v, theta_v, phi_v = np.meshgrid(np.array([1]), theta, phi)\n",
    "\n",
    "x_v = r_v * np.sin(theta_v) * np.cos(phi_v)\n",
    "y_v = r_v * np.sin(theta_v) * np.sin(phi_v)\n",
    "z_v = r_v * np.cos(theta_v)\n",
    "\n",
    "vertices = np.c_[x_v.reshape(-1), y_v.reshape(-1), z_v.reshape(-1)]\n",
    "\n",
    "sphere_mesh = pv.PolyData(vertices)"
   ]
  },
  {
   "cell_type": "markdown",
   "id": "0a878fe6",
   "metadata": {},
   "source": [
    "There are several algorithms we can use to tessellate the 3D point cloud; we will use PyVista's `delaunay_3d()` method and SciPy's `spatial.ConvexHull()` method.\n"
   ]
  },
  {
   "cell_type": "markdown",
   "id": "ed8a0e30",
   "metadata": {},
   "source": [
    "Perform the tessellation using PyVista's `delaunay_3d()` method.\n"
   ]
  },
  {
   "cell_type": "code",
   "execution_count": null,
   "id": "9dea72fa",
   "metadata": {},
   "outputs": [],
   "source": [
    "sphere_mesh_delaunay = pv.PolyData(sphere_mesh.points).delaunay_3d()\n",
    "sphere_mesh_delaunay.plot(show_edges=True)"
   ]
  },
  {
   "cell_type": "markdown",
   "id": "b307c5b0",
   "metadata": {},
   "source": [
    "Generate a triangles array using SciPy's `spatial.ConvexHull` method. Convert the triangles array to the format expected by PyVista, and create a new mesh.\n"
   ]
  },
  {
   "cell_type": "code",
   "execution_count": null,
   "id": "2a6c37cc",
   "metadata": {},
   "outputs": [],
   "source": [
    "faces = ConvexHull(sphere_mesh.points).simplices\n",
    "sphere_mesh_convex_hull = pv.PolyData(sphere_mesh.points)\n",
    "sphere_mesh_convex_hull.faces = utils.numpy_faces_to_pyvista(faces)\n",
    "sphere_mesh_convex_hull.plot(show_edges=True)"
   ]
  },
  {
   "cell_type": "markdown",
   "id": "9dea72fa",
   "metadata": {},
   "source": [
    "---\n",
    "\n",
    "## 4 - Tessellating a 2D point cloud\n"
   ]
  },
  {
   "cell_type": "markdown",
   "id": "fb7d5763",
   "metadata": {},
   "source": [
    "The previous methods outlined in section 3 followed the following procedure:\n",
    "\n",
    "1. Generate an array of $(\\theta, \\phi)$ values.\n",
    "2. Convert to Cartesian coordinates.\n",
    "3. Tessellate the 3D point cloud.\n",
    "\n",
    "In this section, we will swap steps 2 and 3, so that the procedure reads as follows:\n",
    "\n",
    "1. Generate an array of $(\\theta, \\phi)$ values.\n",
    "2. Tessellate the 2D point cloud of $(\\theta, \\phi)$ values.\n",
    "3. Convert to Cartesian coordinates, while keeping the same tessellation.\n",
    "\n",
    "The code written in this section is implemented in the `utils.sphere()` function.\n"
   ]
  },
  {
   "cell_type": "markdown",
   "id": "5c177d9b",
   "metadata": {},
   "source": [
    "Define helper functions\n"
   ]
  },
  {
   "cell_type": "code",
   "execution_count": null,
   "id": "edf3d44a",
   "metadata": {},
   "outputs": [],
   "source": [
    "def add_pole_faces(mesh, num_azimuthal_angles):\n",
    "    \"\"\"\n",
    "    Add pole faces\n",
    "    ==============\n",
    "\n",
    "    Appends all of the faces involving the poles to the mesh.\n",
    "    This function assumes that `wrap_phi` has not been called.\n",
    "    \"\"\"\n",
    "    # Extract the faces from the PyVista mesh.\n",
    "    faces = utils.pyvista_faces_to_numpy(mesh.faces)\n",
    "    max_vertex = np.max(faces)\n",
    "\n",
    "    # Remove all faces involving the poles.\n",
    "    bulk_faces = faces[\n",
    "        ~((faces == 0).any(axis=1) | (faces == np.max(faces)).any(axis=1))\n",
    "    ]\n",
    "\n",
    "    # Generate faces made by the North pole.\n",
    "    north_faces = np.zeros((num_azimuthal_angles - 1, 3), dtype=int)\n",
    "    for i in range(num_azimuthal_angles - 1):\n",
    "        north_faces[i, :] = np.array([i + 2, 0, i + 1])\n",
    "\n",
    "    # Generate faces made by the South pole.\n",
    "    south_faces = np.zeros((num_azimuthal_angles - 1, 3), dtype=int)\n",
    "    for i in range(num_azimuthal_angles - 1):\n",
    "        south_faces[i, :] = np.array(\n",
    "            [\n",
    "                max_vertex,\n",
    "                max_vertex - num_azimuthal_angles + i + 1,\n",
    "                max_vertex - num_azimuthal_angles + i,\n",
    "            ]\n",
    "        )\n",
    "\n",
    "    return pv.PolyData(\n",
    "        mesh.points,\n",
    "        utils.numpy_faces_to_pyvista(np.vstack((north_faces, bulk_faces, south_faces))),\n",
    "    )\n",
    "\n",
    "\n",
    "def wrap_phi(mesh, num_polar_angles, num_azimuthal_angles):\n",
    "    \"\"\"\n",
    "    Wrap phi\n",
    "    ========\n",
    "\n",
    "    This function connects the points with the largest phi values to the points phi = 0.\n",
    "    This function assumes that `add_pole_faces` has already been called.\n",
    "    \"\"\"\n",
    "    # Extract the faces from the PyVista mesh.\n",
    "    faces = utils.pyvista_faces_to_numpy(mesh.faces)\n",
    "    max_vertex = np.max(faces)\n",
    "\n",
    "    # Wrap the phi coordinate in the bulk.\n",
    "    wrapping_faces = np.zeros((2 * (num_polar_angles - 1) + 2, 3), dtype=int)\n",
    "    for i in range(num_polar_angles - 1):\n",
    "        # Make the first triangle.\n",
    "        wrapping_faces[2 * i, :] = np.array(\n",
    "            [\n",
    "                (i + 2) * num_azimuthal_angles,\n",
    "                (i * num_azimuthal_angles) + 1,\n",
    "                (i + 1) * num_azimuthal_angles,\n",
    "            ]\n",
    "        )\n",
    "\n",
    "        # Make the second triangle.\n",
    "        wrapping_faces[(2 * i) + 1, :] = np.array(\n",
    "            [\n",
    "                (i + 2) * num_azimuthal_angles,\n",
    "                (i + 1) * num_azimuthal_angles + 1,\n",
    "                (i * num_azimuthal_angles) + 1,\n",
    "            ]\n",
    "        )\n",
    "\n",
    "    # Wrap the phi coordinates at the poles.\n",
    "    wrapping_faces[-2, :] = np.array([1, num_azimuthal_angles, 0])\n",
    "    wrapping_faces[-1, :] = np.array(\n",
    "        [max_vertex, max_vertex - 1, max_vertex - num_azimuthal_angles]\n",
    "    )\n",
    "\n",
    "    return pv.PolyData(\n",
    "        mesh.points, utils.numpy_faces_to_pyvista(np.vstack((faces, wrapping_faces)))\n",
    "    )\n",
    "\n",
    "\n",
    "def correct_mesh(mesh, num_polar_angles, num_azimuthal_angles):\n",
    "    \"\"\"\n",
    "    Correct mesh\n",
    "    ============\n",
    "\n",
    "    Corrects the tessellation produced by the `delaunay_2d()` function, and returns a new mesh.\n",
    "    \"\"\"\n",
    "    mesh_1 = add_pole_faces(mesh, num_azimuthal_angles)\n",
    "    mesh_2 = wrap_phi(mesh_1, num_polar_angles, num_azimuthal_angles)\n",
    "    return mesh_2"
   ]
  },
  {
   "cell_type": "markdown",
   "id": "d1f86356",
   "metadata": {},
   "source": [
    "### 4.1 - Make a 2D mesh\n"
   ]
  },
  {
   "cell_type": "markdown",
   "id": "ed4ba445",
   "metadata": {},
   "source": [
    "We will define the vertices in spherical, $(r, \\theta, \\phi)$, coordinates. For a sphere, $r=1$, so if we plot the mesh, it will look like a 2D plane. We can perform a tessellation of the mesh using the `delaunay_2d()` function; it should get the tessellation mostly correct, since the surface is 2D.\n"
   ]
  },
  {
   "cell_type": "code",
   "execution_count": null,
   "id": "a6657bf1",
   "metadata": {},
   "outputs": [],
   "source": [
    "# Generate arrays of theta, phi values for all points, excluding the poles.\n",
    "N = 20\n",
    "theta = np.linspace(0, np.pi, N)[1:-1]\n",
    "phi = np.linspace(0, 2 * np.pi, 2 * N + 1)[:-1]\n",
    "\n",
    "# Make an array of vertices for the bulk of the sphere.\n",
    "r_v, theta_v, phi_v = np.meshgrid(np.array([1]), theta, phi)\n",
    "sphere_vertices_spherical_no_poles = np.c_[\n",
    "    r_v.reshape(-1), theta_v.reshape(-1), phi_v.reshape(-1)\n",
    "]\n",
    "\n",
    "# Add the poles to the array of vertices.\n",
    "sphere_vertices_spherical = np.zeros(\n",
    "    (sphere_vertices_spherical_no_poles.shape[0] + 2, 3), dtype=float\n",
    ")\n",
    "sphere_vertices_spherical[0, :] = [1.0, 0.0, 0.0]\n",
    "sphere_vertices_spherical[1:-1, :] = sphere_vertices_spherical_no_poles\n",
    "sphere_vertices_spherical[-1, :] = [1.0, np.pi, 0.0]\n",
    "\n",
    "# Create a PyVista mesh, and perform and plot a Delaunay tessellation.\n",
    "sphere_mesh_spherical_delaunay = pv.PolyData(sphere_vertices_spherical).delaunay_2d()\n",
    "sphere_mesh_spherical_delaunay.plot(show_edges=True)"
   ]
  },
  {
   "cell_type": "markdown",
   "id": "58b3dfb3",
   "metadata": {},
   "source": [
    "### 4.2 - Modify the faces\n"
   ]
  },
  {
   "cell_type": "markdown",
   "id": "bef43646",
   "metadata": {},
   "source": [
    "The Delaunay tessellation correctly tessellated some features of our mesh, but not others. We want the North pole ($\\theta=0$) and the South pole ($\\theta=\\pi$) to be connnected to all of the adjacent $\\theta$ values. This is handled by the `add_pole_faces()` function. We also need to connect the points with the largest $\\phi$ values to the points at $\\phi=0$. This is handled by the `wrap_phi()` function. Both of these functions are lumped into the `correct_mesh()` function, which should produce a correctly tessellated 2D mesh when called. The 2D mesh looks quite weird when plotted, as $\\phi=0$ is equivalent to $\\phi=2 \\pi$, so there are faces connecting the largest $\\phi$ edge to the $\\phi = 0$ edge; this disappears when we plot the mesh in Cartesian coordinates.\n"
   ]
  },
  {
   "cell_type": "code",
   "execution_count": null,
   "id": "ceea7fcc",
   "metadata": {},
   "outputs": [],
   "source": [
    "num_polar_angles = len(theta)\n",
    "num_azimuthal_angles = len(phi)\n",
    "sphere_mesh_spherical_custom = correct_mesh(\n",
    "    sphere_mesh_spherical_delaunay, num_polar_angles, num_azimuthal_angles\n",
    ")\n",
    "sphere_mesh_spherical_custom.plot(show_edges=True)"
   ]
  },
  {
   "cell_type": "markdown",
   "id": "518aa41e",
   "metadata": {},
   "source": [
    "### 4.3 - Map the 2D mesh to a 3D surface\n"
   ]
  },
  {
   "cell_type": "markdown",
   "id": "8dfe9b43",
   "metadata": {},
   "source": [
    "Now that the 2D mesh is correctly tessellated, we can map our spherical, $(r, \\theta, \\phi)$ vertices to Cartesian, $(x, y, z)$, vertices, while keeping the same tessellation. This should result in a correctly tessellated sphere.\n"
   ]
  },
  {
   "cell_type": "code",
   "execution_count": null,
   "id": "b0697899",
   "metadata": {},
   "outputs": [],
   "source": [
    "# Make an array storing the vertices in Cartesian coordinates.\n",
    "x_v = r_v * np.sin(theta_v) * np.cos(phi_v)\n",
    "y_v = r_v * np.sin(theta_v) * np.sin(phi_v)\n",
    "z_v = r_v * np.cos(theta_v)\n",
    "sphere_vertices_cartesian_no_poles = np.c_[\n",
    "    x_v.reshape(-1), y_v.reshape(-1), z_v.reshape(-1)\n",
    "]\n",
    "\n",
    "# Add the poles to the array of vertices.\n",
    "sphere_vertices_cartesian = np.zeros(\n",
    "    (sphere_vertices_cartesian_no_poles.shape[0] + 2, 3), dtype=float\n",
    ")\n",
    "sphere_vertices_cartesian[0, :] = [0.0, 0.0, 1.0]\n",
    "sphere_vertices_cartesian[1:-1, :] = sphere_vertices_cartesian_no_poles\n",
    "sphere_vertices_cartesian[-1, :] = [0.0, 00, -1.0]\n",
    "\n",
    "# Create and plot a new mesh, using the triangles array generated for the 2D mesh.\n",
    "sphere_mesh_cartesian_custom = pv.PolyData(\n",
    "    sphere_vertices_cartesian, sphere_mesh_spherical_custom.faces\n",
    ")\n",
    "sphere_mesh_cartesian_custom.plot(show_edges=True, color=\"lightblue\")"
   ]
  }
 ],
 "metadata": {
  "kernelspec": {
   "display_name": "numerical_geometry",
   "language": "python",
   "name": "python3"
  },
  "language_info": {
   "codemirror_mode": {
    "name": "ipython",
    "version": 3
   },
   "file_extension": ".py",
   "mimetype": "text/x-python",
   "name": "python",
   "nbconvert_exporter": "python",
   "pygments_lexer": "ipython3",
   "version": "3.13.5"
  }
 },
 "nbformat": 4,
 "nbformat_minor": 5
}
