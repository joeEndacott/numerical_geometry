{
 "cells": [
  {
   "cell_type": "markdown",
   "id": "d0d81d56",
   "metadata": {},
   "source": [
    "---\n",
    "\n",
    "# Logbook\n"
   ]
  },
  {
   "cell_type": "markdown",
   "id": "698df25a",
   "metadata": {},
   "source": [
    "### 25/08\n",
    "\n",
    "- I added timers to the `train_model()` function. After training the model, I noticed that a significant amount of time was being spent on batching the source and target.\n",
    "- To remove this overhead, I precomputed all batches.\n",
    "- I added functionality to use a sequencer to the `train_model()` function.\n",
    "- I simplified the `train_model()` function by moving parts of the code to external functions.\n",
    "\n",
    "### 26/08\n",
    "\n",
    "- Added a loss function protocol.\n",
    "- Added a function which plots loss vs. learning rate (I spent way too much time on this).\n"
   ]
  },
  {
   "cell_type": "markdown",
   "id": "c3987a32",
   "metadata": {},
   "source": [
    "---\n",
    "\n",
    "# Questions\n"
   ]
  },
  {
   "cell_type": "markdown",
   "id": "fd2d77e0",
   "metadata": {},
   "source": [
    "1. How do I know how to pick the learning rate and batch size? Is there an algorithm for determining the best learning rate?\n"
   ]
  }
 ],
 "metadata": {
  "language_info": {
   "name": "python"
  }
 },
 "nbformat": 4,
 "nbformat_minor": 5
}
