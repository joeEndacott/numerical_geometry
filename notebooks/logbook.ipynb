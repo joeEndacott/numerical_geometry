{
 "cells": [
  {
   "cell_type": "markdown",
   "id": "d0d81d56",
   "metadata": {},
   "source": [
    "---\n",
    "\n",
    "# Logbook\n"
   ]
  },
  {
   "cell_type": "markdown",
   "id": "698df25a",
   "metadata": {},
   "source": [
    "### 25/08\n",
    "\n",
    "- I added timers to the `train_model()` function. After training the model, I noticed that a significant amount of time was being spent on batching the source and target.\n",
    "- To remove this overhead, I precomputed all batches.\n",
    "- I added functionality to use a sequencer to the `train_model()` function.\n",
    "- I simplified the `train_model()` function by moving parts of the code to external functions.\n",
    "\n",
    "### 26/08\n",
    "\n",
    "- Added a loss function protocol.\n",
    "- Added a function which plots loss vs. learning rate (I spent way too much time on this).\n",
    "\n",
    "### 31/08\n",
    "\n",
    "- drivaer -> open source CFD dataset. I should pick meshes from this dataset and try to deform them into one another.\n",
    "- Added dropout to the NN.\n",
    "- Added a validation set, and implemented early stopping properly.\n",
    "\n",
    "### 01/09\n",
    "\n",
    "- Added batching when evaluating the model.\n",
    "- Added points where the GPU cache is cleared and the garbage collector is called.\n",
    "- Improved how times are stored in the train_loop() function.\n",
    "- Made the code in the neural_network module more modular.\n"
   ]
  },
  {
   "cell_type": "markdown",
   "id": "c3987a32",
   "metadata": {},
   "source": [
    "---\n",
    "\n",
    "# Questions\n"
   ]
  },
  {
   "cell_type": "markdown",
   "id": "fd2d77e0",
   "metadata": {},
   "source": [
    "1. How do I know how to pick the learning rate and batch size? Is there an algorithm for determining the best learning rate?\n",
    "2. How many source points should I be using?\n"
   ]
  }
 ],
 "metadata": {
  "language_info": {
   "name": "python"
  }
 },
 "nbformat": 4,
 "nbformat_minor": 5
}
