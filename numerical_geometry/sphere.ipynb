{
 "cells": [
  {
   "cell_type": "markdown",
   "id": "08b50536",
   "metadata": {},
   "source": [
    "# Create a sphere using PyVista\n",
    "\n",
    "This notebook creates a sphere using PyVista. There are 3 different iterations:\n",
    "\n",
    "1. Use PyVista's Delaunay triangulation method to create a sphere.\n",
    "2. Construct a sphere from scratch (ish) by generating arrays for vertices and vertex normals, and using `scipy.spatial.ConvexHull` to generate a triangles array. For this iteration, the vertices are not uniformly distributed over the sphere (the vertices are generated using spherical coordinates).\n",
    "3. Construct a sphere from scratch (ish) by generating arrays for vertices and vertex normals, and using `scipy.spatial.ConvexHull` to generate a triangles array. For this iteration, the vertices are uniformly distributed over the sphere (the vertices are generated using Cartesian coordinates).\n"
   ]
  },
  {
   "cell_type": "code",
   "execution_count": 1,
   "id": "534235fa",
   "metadata": {},
   "outputs": [],
   "source": [
    "import numpy as np\n",
    "import pyvista as pv\n",
    "from scipy.spatial import ConvexHull"
   ]
  },
  {
   "cell_type": "markdown",
   "id": "cdabe8e9",
   "metadata": {},
   "source": [
    "## 1 - Generate a cube using PyVista Delaunay triangulation.\n"
   ]
  },
  {
   "cell_type": "markdown",
   "id": "b9b79c22",
   "metadata": {},
   "source": [
    "### 1.1 - Vertices\n",
    "\n",
    "We want to generate an array of vertices with the correct shape.\n"
   ]
  },
  {
   "cell_type": "markdown",
   "id": "e6c70e82",
   "metadata": {},
   "source": [
    "Make arrays of $r$, $\\theta$, $\\phi$ values.\n"
   ]
  },
  {
   "cell_type": "code",
   "execution_count": 2,
   "id": "b3da9cc0",
   "metadata": {},
   "outputs": [],
   "source": [
    "r = np.array([1])\n",
    "theta = np.linspace(0, np.pi, 10)\n",
    "phi = np.linspace(0, 2 * np.pi, 20)"
   ]
  },
  {
   "cell_type": "markdown",
   "id": "5007cc78",
   "metadata": {},
   "source": [
    "Convert from spherical coordinates to Cartesian coordinates.\n"
   ]
  },
  {
   "cell_type": "code",
   "execution_count": 3,
   "id": "e6dffa2d",
   "metadata": {},
   "outputs": [],
   "source": [
    "r_v, theta_v, phi_v = np.meshgrid(np.array([1]), theta, phi)\n",
    "\n",
    "x_v = r_v * np.sin(theta_v) * np.cos(phi_v)\n",
    "y_v = r_v * np.sin(theta_v) * np.sin(phi_v)\n",
    "z_v = r_v * np.cos(theta_v)"
   ]
  },
  {
   "cell_type": "markdown",
   "id": "8e3bc31a",
   "metadata": {},
   "source": [
    "Combine the $x$, $y$, $z$ values into an array, `vertices`, with the correct shape. `vertices` should have shape ($NM$, 3), where $N$, $M$ is the number of $\\theta$, $\\phi$ values.\n"
   ]
  },
  {
   "cell_type": "code",
   "execution_count": 4,
   "id": "aa93cd22",
   "metadata": {},
   "outputs": [
    {
     "data": {
      "text/plain": [
       "(200, 3)"
      ]
     },
     "execution_count": 4,
     "metadata": {},
     "output_type": "execute_result"
    }
   ],
   "source": [
    "vertices = np.c_[x_v.reshape(-1), y_v.reshape(-1), z_v.reshape(-1)]\n",
    "\n",
    "vertices.shape"
   ]
  },
  {
   "cell_type": "markdown",
   "id": "5b559982",
   "metadata": {},
   "source": [
    "### 1.2 - PyVista mesh\n",
    "\n",
    "We want to create a PyVista mesh.\n"
   ]
  },
  {
   "cell_type": "markdown",
   "id": "86e30b01",
   "metadata": {},
   "source": [
    "Create and plot the PyVista mesh. This mesh only has vertices (no faces).\n"
   ]
  },
  {
   "cell_type": "code",
   "execution_count": 5,
   "id": "f55d49b6",
   "metadata": {},
   "outputs": [
    {
     "data": {
      "application/vnd.jupyter.widget-view+json": {
       "model_id": "2d2de9d546544fe488a0d62003c0c092",
       "version_major": 2,
       "version_minor": 0
      },
      "text/plain": [
       "Widget(value='<iframe src=\"http://localhost:56134/index.html?ui=P_0x13596f4d0_0&reconnect=auto\" class=\"pyvista…"
      ]
     },
     "metadata": {},
     "output_type": "display_data"
    }
   ],
   "source": [
    "mesh = pv.PolyData(vertices)\n",
    "mesh.plot()"
   ]
  },
  {
   "cell_type": "markdown",
   "id": "d35e6e97",
   "metadata": {},
   "source": [
    "### 1.3 - Connected surface\n",
    "\n",
    "We want to create a connected surface.\n"
   ]
  },
  {
   "cell_type": "markdown",
   "id": "fd8043b0",
   "metadata": {},
   "source": [
    "Create and plot a connected surface, using Delaunay triangulation.\n"
   ]
  },
  {
   "cell_type": "code",
   "execution_count": 6,
   "id": "9dea72fa",
   "metadata": {},
   "outputs": [
    {
     "data": {
      "application/vnd.jupyter.widget-view+json": {
       "model_id": "5cd304fb3bbf48a8a45169dd0a353855",
       "version_major": 2,
       "version_minor": 0
      },
      "text/plain": [
       "Widget(value='<iframe src=\"http://localhost:56134/index.html?ui=P_0x144d51450_1&reconnect=auto\" class=\"pyvista…"
      ]
     },
     "metadata": {},
     "output_type": "display_data"
    }
   ],
   "source": [
    "surface = mesh.delaunay_3d()\n",
    "surface.plot(show_edges=True)"
   ]
  },
  {
   "cell_type": "markdown",
   "id": "9dea72fa",
   "metadata": {},
   "source": [
    "## 2 - Generate a sphere from scratch (ish).\n"
   ]
  },
  {
   "cell_type": "markdown",
   "id": "6d5c73d6",
   "metadata": {},
   "source": [
    "### 2.1 - Vertices\n",
    "\n",
    "We want to generate an array of vertices with the correct shape.\n"
   ]
  },
  {
   "cell_type": "markdown",
   "id": "e48f3cd3",
   "metadata": {},
   "source": [
    "Make arrays of $r$, $\\theta$, $\\phi$ values. $N$ is the number of polar angles sampled.\n"
   ]
  },
  {
   "cell_type": "code",
   "execution_count": 302,
   "id": "ecf57666",
   "metadata": {},
   "outputs": [],
   "source": [
    "N = 100\n",
    "\n",
    "r = np.array([1])\n",
    "\n",
    "cos_theta = np.linspace(-1, 1, N)\n",
    "theta = np.arccos(cos_theta)\n",
    "\n",
    "# sin_theta = np.linspace(-1, 1, N)\n",
    "# theta = np.arccos(sin_theta)\n",
    "\n",
    "# theta = np.linspace(0, np.pi, N)\n",
    "\n",
    "phi = np.linspace(0, 2 * np.pi, 2 * N)"
   ]
  },
  {
   "cell_type": "markdown",
   "id": "754d80c1",
   "metadata": {},
   "source": [
    "Convert from spherical coordinates to Cartesian coordinates.\n"
   ]
  },
  {
   "cell_type": "code",
   "execution_count": 303,
   "id": "f9917065",
   "metadata": {},
   "outputs": [],
   "source": [
    "r_v, theta_v, phi_v = np.meshgrid(np.array([1]), theta, phi)\n",
    "\n",
    "x_v = r_v * np.sin(theta_v) * np.cos(phi_v)\n",
    "y_v = r_v * np.sin(theta_v) * np.sin(phi_v)\n",
    "z_v = r_v * np.cos(theta_v)"
   ]
  },
  {
   "cell_type": "markdown",
   "id": "1b2a2071",
   "metadata": {},
   "source": [
    "Combine the $x$, $y$, $z$ values into an array, `vertices`, with the correct shape. `vertices` should have shape ($NM$, 3), where $N$, $M$ is the number of $\\theta$, $\\phi$ values. Remove duplicate values from `vertices`.\n"
   ]
  },
  {
   "cell_type": "code",
   "execution_count": 304,
   "id": "f9d0239f",
   "metadata": {},
   "outputs": [
    {
     "data": {
      "text/plain": [
       "(19801, 3)"
      ]
     },
     "execution_count": 304,
     "metadata": {},
     "output_type": "execute_result"
    }
   ],
   "source": [
    "vertices = np.c_[x_v.reshape(-1), y_v.reshape(-1), z_v.reshape(-1)]\n",
    "vertices = np.unique(vertices, axis=0)\n",
    "\n",
    "vertices.shape"
   ]
  },
  {
   "cell_type": "markdown",
   "id": "4cd7f3c8",
   "metadata": {},
   "source": [
    "### 2.2 - Vertex normals\n",
    "\n",
    "We want to generate an array of vertex normals with the correct shape.\n"
   ]
  },
  {
   "cell_type": "markdown",
   "id": "325c1360",
   "metadata": {},
   "source": [
    "Calculate the normals.\n"
   ]
  },
  {
   "cell_type": "code",
   "execution_count": 305,
   "id": "164af5c1",
   "metadata": {},
   "outputs": [],
   "source": [
    "center = np.array([0, 0, 0])\n",
    "normals = vertices - center[None, :]"
   ]
  },
  {
   "cell_type": "markdown",
   "id": "5f6c185e",
   "metadata": {},
   "source": [
    "Normalize the normals. Similarly to `vertices`, `normals` should have shape ($NM$,3).\n"
   ]
  },
  {
   "cell_type": "code",
   "execution_count": 306,
   "id": "6461c2a3",
   "metadata": {},
   "outputs": [
    {
     "data": {
      "text/plain": [
       "(19801, 3)"
      ]
     },
     "execution_count": 306,
     "metadata": {},
     "output_type": "execute_result"
    }
   ],
   "source": [
    "normals = normals / np.linalg.norm(normals, axis=1)[:, None]\n",
    "\n",
    "normals.shape"
   ]
  },
  {
   "cell_type": "markdown",
   "id": "f98967c0",
   "metadata": {},
   "source": [
    "### 2.3 - Triangles\n",
    "\n",
    "We want to generate an array of triangles.\n"
   ]
  },
  {
   "cell_type": "markdown",
   "id": "e9fe6eb1",
   "metadata": {},
   "source": [
    "The triangulation is handled by SciPy's `ConvexHull` method. The format of the triangle array, `triangles`, is `[[v1, v2, v3], [v4, v5, v6], ...]`.\n"
   ]
  },
  {
   "cell_type": "code",
   "execution_count": 307,
   "id": "cf706fa0",
   "metadata": {},
   "outputs": [
    {
     "data": {
      "text/plain": [
       "(39004, 3)"
      ]
     },
     "execution_count": 307,
     "metadata": {},
     "output_type": "execute_result"
    }
   ],
   "source": [
    "triangles = ConvexHull(vertices).simplices\n",
    "\n",
    "triangles.shape"
   ]
  },
  {
   "cell_type": "markdown",
   "id": "22993583",
   "metadata": {},
   "source": [
    "### 2.4 - PyVista mesh\n",
    "\n",
    "We want to create the PyVista mesh.\n"
   ]
  },
  {
   "cell_type": "markdown",
   "id": "c1c20f2c",
   "metadata": {},
   "source": [
    "PyVista expects the triangles to be given in the format `[3, v1, v2, v3, 3, v4, v5, v6, ...]`. Reformat `triangles`.\n"
   ]
  },
  {
   "cell_type": "code",
   "execution_count": 308,
   "id": "2ed5364a",
   "metadata": {},
   "outputs": [],
   "source": [
    "triangles_reformatted = np.zeros((triangles.shape[0], 4), dtype=int)\n",
    "triangles_reformatted[:, 0] = 3\n",
    "triangles_reformatted[:, 1:] = triangles"
   ]
  },
  {
   "cell_type": "markdown",
   "id": "1051955d",
   "metadata": {},
   "source": [
    "Flatten `triangles_reformatted`.\n"
   ]
  },
  {
   "cell_type": "code",
   "execution_count": 309,
   "id": "385aaf6b",
   "metadata": {},
   "outputs": [
    {
     "data": {
      "text/plain": [
       "(156016,)"
      ]
     },
     "execution_count": 309,
     "metadata": {},
     "output_type": "execute_result"
    }
   ],
   "source": [
    "triangles_flattened = triangles_reformatted.ravel()\n",
    "\n",
    "triangles_flattened.shape"
   ]
  },
  {
   "cell_type": "markdown",
   "id": "f9840069",
   "metadata": {},
   "source": [
    "Create the PyVista mesh, and add the normals as point data. The mesh should have $NM$ vertices.\n"
   ]
  },
  {
   "cell_type": "code",
   "execution_count": 310,
   "id": "48a56258",
   "metadata": {},
   "outputs": [
    {
     "name": "stdout",
     "output_type": "stream",
     "text": [
      "Number of vertices: 19801\n",
      "Number of cells: 39004\n"
     ]
    }
   ],
   "source": [
    "cube_mesh = pv.PolyData(vertices, triangles_flattened)\n",
    "cube_mesh.point_data[\"normals\"] = normals\n",
    "\n",
    "print(f\"Number of vertices: {cube_mesh.n_points}\")\n",
    "print(f\"Number of cells: {cube_mesh.n_cells}\")"
   ]
  },
  {
   "cell_type": "markdown",
   "id": "7b0e6723",
   "metadata": {},
   "source": [
    "### 2.5 - Plot the mesh\n",
    "\n",
    "We want to plot the PyVista mesh.\n"
   ]
  },
  {
   "cell_type": "markdown",
   "id": "81e37f52",
   "metadata": {},
   "source": [
    "Plot the PyVista mesh, along with vertex normals.\n"
   ]
  },
  {
   "cell_type": "code",
   "execution_count": 311,
   "id": "de046020",
   "metadata": {},
   "outputs": [
    {
     "data": {
      "application/vnd.jupyter.widget-view+json": {
       "model_id": "7b0d4bd4cfe644eea363d75d9bc921fd",
       "version_major": 2,
       "version_minor": 0
      },
      "text/plain": [
       "Widget(value='<iframe src=\"http://localhost:57828/index.html?ui=P_0x39ffa9590_24&reconnect=auto\" class=\"pyvist…"
      ]
     },
     "metadata": {},
     "output_type": "display_data"
    }
   ],
   "source": [
    "pl = pv.Plotter()\n",
    "\n",
    "pl.add_mesh(cube_mesh, show_edges=True, color=\"lightblue\")\n",
    "arrows = cube_mesh.glyph(orient=\"normals\", scale=False, factor=0.1)\n",
    "pl.add_mesh(arrows, color=\"red\")\n",
    "\n",
    "pl.show()"
   ]
  },
  {
   "cell_type": "markdown",
   "id": "5edb2150",
   "metadata": {},
   "source": [
    "## 3 - Generate a sphere from scratch (ish), and distribute the vertices uniformly.\n"
   ]
  },
  {
   "cell_type": "markdown",
   "id": "1459c4bb",
   "metadata": {},
   "source": [
    "### 3.1 - Vertices\n",
    "\n",
    "We want to generate an array of vertices with the correct shape.\n"
   ]
  },
  {
   "cell_type": "markdown",
   "id": "fda3c5fa",
   "metadata": {},
   "source": [
    "Make arrays of $x$, $y$ values. $N$ is the number of vertices per side.\n"
   ]
  },
  {
   "cell_type": "code",
   "execution_count": 149,
   "id": "9629c835",
   "metadata": {},
   "outputs": [
    {
     "data": {
      "text/plain": [
       "(90000, 2)"
      ]
     },
     "execution_count": 149,
     "metadata": {},
     "output_type": "execute_result"
    }
   ],
   "source": [
    "N = 300\n",
    "\n",
    "x = np.linspace(-1, 1, N)\n",
    "y = np.linspace(-1, 1, N)\n",
    "\n",
    "x_v, y_v = np.meshgrid(x, y)\n",
    "xy_coordinates = np.c_[x_v.reshape(-1), y_v.reshape(-1)]\n",
    "\n",
    "xy_coordinates.shape"
   ]
  },
  {
   "cell_type": "markdown",
   "id": "84e970ef",
   "metadata": {},
   "source": [
    "Remove coordinate pairs which don't satisfy $x^2 + y^2 \\leq 1$.\n"
   ]
  },
  {
   "cell_type": "code",
   "execution_count": 150,
   "id": "e96c02b2",
   "metadata": {},
   "outputs": [
    {
     "data": {
      "text/plain": [
       "(70168, 2)"
      ]
     },
     "execution_count": 150,
     "metadata": {},
     "output_type": "execute_result"
    }
   ],
   "source": [
    "radius_squared = xy_coordinates[:, 0] ** 2 + xy_coordinates[:, 1] ** 2\n",
    "mask = radius_squared <= 1.0\n",
    "xy_coordinates = xy_coordinates[mask]\n",
    "radius_squared = radius_squared[mask]\n",
    "\n",
    "xy_coordinates.shape"
   ]
  },
  {
   "cell_type": "markdown",
   "id": "5cb8cee9",
   "metadata": {},
   "source": [
    "Create an array, `vertices`, to store the vertices. Populate it with the $(x, y)$ coordinates (twice).\n"
   ]
  },
  {
   "cell_type": "code",
   "execution_count": 151,
   "id": "13265e56",
   "metadata": {},
   "outputs": [
    {
     "data": {
      "text/plain": [
       "(140336, 3)"
      ]
     },
     "execution_count": 151,
     "metadata": {},
     "output_type": "execute_result"
    }
   ],
   "source": [
    "num_coords = xy_coordinates.shape[0]\n",
    "vertices = np.zeros((num_coords * 2, 3), dtype=float)\n",
    "\n",
    "vertices[0:num_coords, 0:2] = xy_coordinates\n",
    "vertices[num_coords : 2 * num_coords, 0:2] = xy_coordinates\n",
    "\n",
    "vertices.shape"
   ]
  },
  {
   "cell_type": "markdown",
   "id": "960220a6",
   "metadata": {},
   "source": [
    "Calculate the $z$ coordinates for each $(x, y)$ coordinate using the formula $z = \\pm \\sqrt{1 - x^2 - y^2}$. Remove duplicate vertices.\n"
   ]
  },
  {
   "cell_type": "code",
   "execution_count": null,
   "id": "b77ec81f",
   "metadata": {},
   "outputs": [
    {
     "data": {
      "text/plain": [
       "(140336, 3)"
      ]
     },
     "execution_count": 152,
     "metadata": {},
     "output_type": "execute_result"
    }
   ],
   "source": [
    "vertices[0:num_coords, 2] = np.sqrt(1 - radius_squared)\n",
    "vertices[num_coords : 2 * num_coords, 2] = vertices[0:num_coords, 2] * -1\n",
    "vertices = np.unique(vertices, axis=0)\n",
    "\n",
    "vertices.shape"
   ]
  },
  {
   "cell_type": "markdown",
   "id": "e8a3ac31",
   "metadata": {},
   "source": [
    "### 3.2 - Vertex normals\n",
    "\n",
    "We want to generate an array of vertex normals with the correct shape.\n"
   ]
  },
  {
   "cell_type": "markdown",
   "id": "d97e3ce5",
   "metadata": {},
   "source": [
    "Calculate the normals.\n"
   ]
  },
  {
   "cell_type": "code",
   "execution_count": 153,
   "id": "2c41a3eb",
   "metadata": {},
   "outputs": [],
   "source": [
    "center = np.array([0, 0, 0])\n",
    "normals = vertices - center[None, :]"
   ]
  },
  {
   "cell_type": "markdown",
   "id": "1e2a7b9c",
   "metadata": {},
   "source": [
    "Normalize the normals. Similarly to `vertices`, `normals` should have shape ($NM$,3).\n"
   ]
  },
  {
   "cell_type": "code",
   "execution_count": 154,
   "id": "d9446f4e",
   "metadata": {},
   "outputs": [
    {
     "data": {
      "text/plain": [
       "(140336, 3)"
      ]
     },
     "execution_count": 154,
     "metadata": {},
     "output_type": "execute_result"
    }
   ],
   "source": [
    "normals = normals / np.linalg.norm(normals, axis=1)[:, None]\n",
    "\n",
    "normals.shape"
   ]
  },
  {
   "cell_type": "markdown",
   "id": "5383dc43",
   "metadata": {},
   "source": [
    "### 3.3 - Triangles\n",
    "\n",
    "We want to generate an array of triangles.\n"
   ]
  },
  {
   "cell_type": "markdown",
   "id": "931c8f95",
   "metadata": {},
   "source": [
    "The triangulation is handled by SciPy's `ConvexHull` method. The format of the triangle array, `triangles`, is `[[v1, v2, v3], [v4, v5, v6], ...]`.\n"
   ]
  },
  {
   "cell_type": "code",
   "execution_count": 155,
   "id": "1ead0a5c",
   "metadata": {},
   "outputs": [
    {
     "data": {
      "text/plain": [
       "(280668, 3)"
      ]
     },
     "execution_count": 155,
     "metadata": {},
     "output_type": "execute_result"
    }
   ],
   "source": [
    "triangles = ConvexHull(vertices).simplices\n",
    "\n",
    "triangles.shape"
   ]
  },
  {
   "cell_type": "markdown",
   "id": "3086abb4",
   "metadata": {},
   "source": [
    "### 3.4 - PyVista mesh\n",
    "\n",
    "We want to create the PyVista mesh.\n"
   ]
  },
  {
   "cell_type": "markdown",
   "id": "49670a93",
   "metadata": {},
   "source": [
    "PyVista expects the triangles to be given in the format `[3, v1, v2, v3, 3, v4, v5, v6, ...]`. Reformat `triangles`.\n"
   ]
  },
  {
   "cell_type": "code",
   "execution_count": 156,
   "id": "85a5027a",
   "metadata": {},
   "outputs": [],
   "source": [
    "triangles_reformatted = np.zeros((triangles.shape[0], 4), dtype=int)\n",
    "triangles_reformatted[:, 0] = 3\n",
    "triangles_reformatted[:, 1:] = triangles"
   ]
  },
  {
   "cell_type": "markdown",
   "id": "d2956cec",
   "metadata": {},
   "source": [
    "Flatten `triangles_reformatted`.\n"
   ]
  },
  {
   "cell_type": "code",
   "execution_count": 157,
   "id": "f3b64728",
   "metadata": {},
   "outputs": [
    {
     "data": {
      "text/plain": [
       "(1122672,)"
      ]
     },
     "execution_count": 157,
     "metadata": {},
     "output_type": "execute_result"
    }
   ],
   "source": [
    "triangles_flattened = triangles_reformatted.ravel()\n",
    "\n",
    "triangles_flattened.shape"
   ]
  },
  {
   "cell_type": "markdown",
   "id": "6ea3989c",
   "metadata": {},
   "source": [
    "Create the PyVista mesh, and add the normals as point data. The mesh should have $NM$ vertices.\n"
   ]
  },
  {
   "cell_type": "code",
   "execution_count": 158,
   "id": "6586ff22",
   "metadata": {},
   "outputs": [
    {
     "name": "stdout",
     "output_type": "stream",
     "text": [
      "Number of vertices: 140336\n",
      "Number of cells: 280668\n"
     ]
    }
   ],
   "source": [
    "cube_mesh = pv.PolyData(vertices, triangles_flattened)\n",
    "cube_mesh.point_data[\"normals\"] = normals\n",
    "\n",
    "print(f\"Number of vertices: {cube_mesh.n_points}\")\n",
    "print(f\"Number of cells: {cube_mesh.n_cells}\")"
   ]
  },
  {
   "cell_type": "markdown",
   "id": "5b2c06bd",
   "metadata": {},
   "source": [
    "### 3.5 - Plot the mesh\n",
    "\n",
    "We want to plot the PyVista mesh.\n"
   ]
  },
  {
   "cell_type": "markdown",
   "id": "7387a012",
   "metadata": {},
   "source": [
    "Plot the PyVista mesh, along with vertex normals.\n"
   ]
  },
  {
   "cell_type": "code",
   "execution_count": 159,
   "id": "ddc48244",
   "metadata": {},
   "outputs": [
    {
     "data": {
      "application/vnd.jupyter.widget-view+json": {
       "model_id": "382e1399d6f840c1b4774467ee3ad160",
       "version_major": 2,
       "version_minor": 0
      },
      "text/plain": [
       "Widget(value='<iframe src=\"http://localhost:57828/index.html?ui=P_0x30c19c2d0_8&reconnect=auto\" class=\"pyvista…"
      ]
     },
     "metadata": {},
     "output_type": "display_data"
    }
   ],
   "source": [
    "pl = pv.Plotter()\n",
    "\n",
    "pl.add_mesh(cube_mesh, show_edges=True, color=\"lightblue\")\n",
    "arrows = cube_mesh.glyph(orient=\"normals\", scale=False, factor=0.15)\n",
    "pl.add_mesh(arrows, color=\"red\")\n",
    "\n",
    "pl.show()"
   ]
  },
  {
   "cell_type": "code",
   "execution_count": null,
   "id": "a50b420d",
   "metadata": {},
   "outputs": [],
   "source": []
  }
 ],
 "metadata": {
  "kernelspec": {
   "display_name": "venv",
   "language": "python",
   "name": "python3"
  },
  "language_info": {
   "codemirror_mode": {
    "name": "ipython",
    "version": 3
   },
   "file_extension": ".py",
   "mimetype": "text/x-python",
   "name": "python",
   "nbconvert_exporter": "python",
   "pygments_lexer": "ipython3",
   "version": "3.13.5"
  }
 },
 "nbformat": 4,
 "nbformat_minor": 5
}
