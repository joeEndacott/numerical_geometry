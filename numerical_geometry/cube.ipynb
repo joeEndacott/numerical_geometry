{
 "cells": [
  {
   "cell_type": "markdown",
   "id": "08b50536",
   "metadata": {},
   "source": [
    "# Create a cube using PyVista\n"
   ]
  },
  {
   "cell_type": "markdown",
   "id": "9fd0de85",
   "metadata": {},
   "source": [
    "---\n",
    "\n",
    "This notebook outlines different ways to generate a cube using PyVista.\n"
   ]
  },
  {
   "cell_type": "markdown",
   "id": "16b3f45e",
   "metadata": {},
   "source": [
    "Import required modules.\n"
   ]
  },
  {
   "cell_type": "code",
   "execution_count": null,
   "id": "534235fa",
   "metadata": {},
   "outputs": [],
   "source": [
    "import numpy as np\n",
    "import pyvista as pv\n",
    "from scipy.spatial import ConvexHull\n",
    "import utils"
   ]
  },
  {
   "cell_type": "markdown",
   "id": "111139f3",
   "metadata": {},
   "source": [
    "---\n",
    "\n",
    "## 1 - Generate a cube using PyVista `pv.Cube()` method\n"
   ]
  },
  {
   "cell_type": "markdown",
   "id": "fd08ef8a",
   "metadata": {},
   "source": [
    "Generate and plot the cube.\n"
   ]
  },
  {
   "cell_type": "code",
   "execution_count": null,
   "id": "524f58d6",
   "metadata": {},
   "outputs": [],
   "source": [
    "cube_mesh = pv.Cube()\n",
    "cube_mesh.plot(show_edges=True)"
   ]
  },
  {
   "cell_type": "markdown",
   "id": "a8246894",
   "metadata": {},
   "source": [
    "---\n",
    "\n",
    "## 2 - Generating vertices\n"
   ]
  },
  {
   "cell_type": "markdown",
   "id": "f8ec3bff",
   "metadata": {},
   "source": [
    "The first step to making a mesh of a cube is generating vertices. The simplest approach is to generate 8 vertices (one for each corner), but we can also generate more vertices.\n"
   ]
  },
  {
   "cell_type": "markdown",
   "id": "0cde17de",
   "metadata": {},
   "source": [
    "### 2.1 - Generating 8 vertices\n"
   ]
  },
  {
   "cell_type": "markdown",
   "id": "dd93138c",
   "metadata": {},
   "source": [
    "Make arrays of $x$, $y$, $z$ values.\n"
   ]
  },
  {
   "cell_type": "code",
   "execution_count": null,
   "id": "08bf0d50",
   "metadata": {},
   "outputs": [],
   "source": [
    "x = np.linspace(0, 1, 2)\n",
    "y = np.linspace(0, 1, 2)\n",
    "z = np.linspace(0, 1, 2)"
   ]
  },
  {
   "cell_type": "markdown",
   "id": "d97d7ff8",
   "metadata": {},
   "source": [
    "Combine the $x$, $y$, $z$ values into an array, `vertices`.\n"
   ]
  },
  {
   "cell_type": "code",
   "execution_count": null,
   "id": "b4029888",
   "metadata": {},
   "outputs": [],
   "source": [
    "x_v, y_v, z_v = np.meshgrid(x, y, z)\n",
    "vertices_small = np.c_[x_v.reshape(-1), y_v.reshape(-1), z_v.reshape(-1)]"
   ]
  },
  {
   "cell_type": "markdown",
   "id": "ecdab3cd",
   "metadata": {},
   "source": [
    "Create a PyVista mesh; this mesh only has vertices (i.e. it is a point cloud). To make visualizing the point cloud easier, we will perform a Delaunay 3D tessellation before plotting.\n"
   ]
  },
  {
   "cell_type": "code",
   "execution_count": null,
   "id": "ccc4bbc4",
   "metadata": {},
   "outputs": [],
   "source": [
    "cube_mesh_small = pv.PolyData(vertices_small)\n",
    "\n",
    "pl = pv.Plotter()\n",
    "pl.add_mesh(cube_mesh_small.delaunay_3d())\n",
    "pl.add_mesh(\n",
    "    cube_mesh_small.points,\n",
    "    color=\"black\",\n",
    "    point_size=5,\n",
    "    render_points_as_spheres=True,\n",
    ")\n",
    "pl.show()"
   ]
  },
  {
   "cell_type": "markdown",
   "id": "b54f7346",
   "metadata": {},
   "source": [
    "### 2.2 - Generating a variable number of vertices\n"
   ]
  },
  {
   "cell_type": "markdown",
   "id": "23822aa9",
   "metadata": {},
   "source": [
    "Make arrays of $x$, $y$, $z$ values.\n"
   ]
  },
  {
   "cell_type": "code",
   "execution_count": null,
   "id": "b6e06687",
   "metadata": {},
   "outputs": [],
   "source": [
    "x = np.linspace(0, 1, 20)\n",
    "y = np.linspace(0, 1, 20)\n",
    "z = np.linspace(0, 1, 20)"
   ]
  },
  {
   "cell_type": "markdown",
   "id": "221cd06d",
   "metadata": {},
   "source": [
    "Generate vertices for each plane.\n"
   ]
  },
  {
   "cell_type": "code",
   "execution_count": null,
   "id": "8574f77d",
   "metadata": {},
   "outputs": [],
   "source": [
    "# x = 0 plane.\n",
    "x_v, y_v, z_v = np.meshgrid(np.array([0]), y, z)\n",
    "vertices_x_0 = np.c_[x_v.reshape(-1), y_v.reshape(-1), z_v.reshape(-1)]\n",
    "\n",
    "# x = 1 plane.\n",
    "x_v, y_v, z_v = np.meshgrid(np.array([1]), y, z)\n",
    "vertices_x_1 = np.c_[x_v.reshape(-1), y_v.reshape(-1), z_v.reshape(-1)]\n",
    "\n",
    "# y = 0 plane.\n",
    "x_v, y_v, z_v = np.meshgrid(x, np.array([0]), z)\n",
    "vertices_y_0 = np.c_[x_v.reshape(-1), y_v.reshape(-1), z_v.reshape(-1)]\n",
    "\n",
    "# y = 1 plane.\n",
    "x_v, y_v, z_v = np.meshgrid(x, np.array([1]), z)\n",
    "vertices_y_1 = np.c_[x_v.reshape(-1), y_v.reshape(-1), z_v.reshape(-1)]\n",
    "\n",
    "# z = 0 plane.\n",
    "x_v, y_v, z_v = np.meshgrid(x, y, np.array([0]))\n",
    "vertices_z_0 = np.c_[x_v.reshape(-1), y_v.reshape(-1), z_v.reshape(-1)]\n",
    "\n",
    "# z = 1 plane.\n",
    "x_v, y_v, z_v = np.meshgrid(x, y, np.array([1]))\n",
    "vertices_z_1 = np.c_[x_v.reshape(-1), y_v.reshape(-1), z_v.reshape(-1)]"
   ]
  },
  {
   "cell_type": "markdown",
   "id": "f281e4bb",
   "metadata": {},
   "source": [
    "Combine the coordinates into one array, `vertices`. Remove duplicate elements from `vertices`.\n"
   ]
  },
  {
   "cell_type": "code",
   "execution_count": null,
   "id": "47bf1451",
   "metadata": {},
   "outputs": [],
   "source": [
    "num_vertices = vertices_z_1.shape[0]\n",
    "vertices_large = np.zeros((num_vertices * 6, 3), dtype=float)\n",
    "for i, arr in enumerate(\n",
    "    [vertices_x_0, vertices_x_1, vertices_y_0, vertices_y_1, vertices_z_0, vertices_z_1]\n",
    "):\n",
    "    vertices_large[i * num_vertices : (i + 1) * num_vertices, :] = arr\n",
    "\n",
    "vertices_large = np.unique(vertices_large, axis=0)"
   ]
  },
  {
   "cell_type": "markdown",
   "id": "5f940184",
   "metadata": {},
   "source": [
    "Create a PyVista mesh; this mesh only has vertices (i.e. it is a point cloud). To make visualizing the point cloud easier, we will perform a Delaunay 3D tessellation before plotting.\n"
   ]
  },
  {
   "cell_type": "code",
   "execution_count": null,
   "id": "f1b9c3cc",
   "metadata": {},
   "outputs": [],
   "source": [
    "cube_mesh_large = pv.PolyData(vertices_large)\n",
    "\n",
    "pl = pv.Plotter()\n",
    "pl.add_mesh(cube_mesh_large.delaunay_3d())\n",
    "pl.add_mesh(\n",
    "    cube_mesh_large.points,\n",
    "    color=\"black\",\n",
    "    point_size=5,\n",
    "    render_points_as_spheres=True,\n",
    ")\n",
    "pl.show()"
   ]
  },
  {
   "cell_type": "markdown",
   "id": "93e6b5c4",
   "metadata": {},
   "source": [
    "---\n",
    "\n",
    "## 3 - Tessellating a 3D point cloud\n"
   ]
  },
  {
   "cell_type": "markdown",
   "id": "aad14e57",
   "metadata": {},
   "source": [
    "We will use the method developed in the previous section to generate vertices.\n"
   ]
  },
  {
   "cell_type": "code",
   "execution_count": null,
   "id": "584ff6f9",
   "metadata": {},
   "outputs": [],
   "source": [
    "x = np.linspace(0, 1, 20)\n",
    "y = np.linspace(0, 1, 20)\n",
    "z = np.linspace(0, 1, 20)\n",
    "\n",
    "# x = 0 plane.\n",
    "x_v, y_v, z_v = np.meshgrid(np.array([0]), y, z)\n",
    "vertices_x_0 = np.c_[x_v.reshape(-1), y_v.reshape(-1), z_v.reshape(-1)]\n",
    "\n",
    "# x = 1 plane.\n",
    "x_v, y_v, z_v = np.meshgrid(np.array([1]), y, z)\n",
    "vertices_x_1 = np.c_[x_v.reshape(-1), y_v.reshape(-1), z_v.reshape(-1)]\n",
    "\n",
    "# y = 0 plane.\n",
    "x_v, y_v, z_v = np.meshgrid(x, np.array([0]), z)\n",
    "vertices_y_0 = np.c_[x_v.reshape(-1), y_v.reshape(-1), z_v.reshape(-1)]\n",
    "\n",
    "# y = 1 plane.\n",
    "x_v, y_v, z_v = np.meshgrid(x, np.array([1]), z)\n",
    "vertices_y_1 = np.c_[x_v.reshape(-1), y_v.reshape(-1), z_v.reshape(-1)]\n",
    "\n",
    "# z = 0 plane.\n",
    "x_v, y_v, z_v = np.meshgrid(x, y, np.array([0]))\n",
    "vertices_z_0 = np.c_[x_v.reshape(-1), y_v.reshape(-1), z_v.reshape(-1)]\n",
    "\n",
    "# z = 1 plane.\n",
    "x_v, y_v, z_v = np.meshgrid(x, y, np.array([1]))\n",
    "vertices_z_1 = np.c_[x_v.reshape(-1), y_v.reshape(-1), z_v.reshape(-1)]\n",
    "\n",
    "num_vertices = vertices_z_1.shape[0]\n",
    "vertices = np.zeros((num_vertices * 6, 3), dtype=float)\n",
    "for i, arr in enumerate(\n",
    "    [vertices_x_0, vertices_x_1, vertices_y_0, vertices_y_1, vertices_z_0, vertices_z_1]\n",
    "):\n",
    "    vertices[i * num_vertices : (i + 1) * num_vertices, :] = arr\n",
    "\n",
    "vertices = np.unique(vertices, axis=0)\n",
    "cube_mesh = pv.PolyData(vertices)"
   ]
  },
  {
   "cell_type": "markdown",
   "id": "c556af2f",
   "metadata": {},
   "source": [
    "There are several algorithms we can use to tessellate the 3D point cloud; we will use PyVista's `delaunay_3d()` method and SciPy's `spatial.ConvexHull()` method.\n"
   ]
  },
  {
   "cell_type": "markdown",
   "id": "f2587827",
   "metadata": {},
   "source": [
    "Perform the tessellation using PyVista's `delaunay_3d()` method.\n"
   ]
  },
  {
   "cell_type": "code",
   "execution_count": null,
   "id": "02b8a56d",
   "metadata": {},
   "outputs": [],
   "source": [
    "cube_mesh_delaunay = pv.PolyData(cube_mesh.points).delaunay_3d()\n",
    "cube_mesh_delaunay.plot(show_edges=True)"
   ]
  },
  {
   "cell_type": "markdown",
   "id": "bc72f1fb",
   "metadata": {},
   "source": [
    "Generate a triangles array using SciPy's `spatial.ConvexHull` method. Convert the triangles array to the format expected by PyVista, and create a new mesh.\n"
   ]
  },
  {
   "cell_type": "code",
   "execution_count": null,
   "id": "3b1098d4",
   "metadata": {},
   "outputs": [],
   "source": [
    "faces = ConvexHull(cube_mesh.points).simplices\n",
    "sphere_mesh_convex_hull = pv.PolyData(cube_mesh.points)\n",
    "sphere_mesh_convex_hull.faces = utils.numpy_faces_to_pyvista(faces)\n",
    "sphere_mesh_convex_hull.plot(show_edges=True)"
   ]
  },
  {
   "cell_type": "markdown",
   "id": "c4d8f7bf",
   "metadata": {},
   "source": [
    "---\n",
    "\n",
    "## 4 - Tessellating a 2D point cloud\n"
   ]
  },
  {
   "cell_type": "markdown",
   "id": "a9fdc317",
   "metadata": {},
   "source": [
    "The previous methods outlined in section 3 followed the following procedure:\n",
    "\n",
    "1. Generate an array of vertices.\n",
    "2. Tessellate the 3D point cloud.\n",
    "\n",
    "In this section, we will first generate a 2D plan of a cube. We will tessellate this point cloud using a 2D tessellation algorithm. We will then \"fold\" the plan to create a cube. The procedure reads as follows:\n",
    "\n",
    "1. Generate a 2D point cloud of the plan of of a cube.\n",
    "2. Tessellate the 2D point cloud.\n",
    "3. \"Fold\" the plan to create a cube, while keeping the same tessellation.\n",
    "\n",
    "The code in this section is implemented in the `utils.cube()` function.\n"
   ]
  },
  {
   "cell_type": "markdown",
   "id": "e2ce5c30",
   "metadata": {},
   "source": [
    "### 4.1 - Make a 2D mesh\n"
   ]
  },
  {
   "cell_type": "markdown",
   "id": "9ea569ff",
   "metadata": {},
   "source": [
    "We will start by generating 6 square meshes, one for each face of the cube. We will tesselate each face individually using the `delaunay_2d()` method.\n"
   ]
  },
  {
   "cell_type": "code",
   "execution_count": null,
   "id": "0a3d577f",
   "metadata": {},
   "outputs": [],
   "source": [
    "# Generate arrays for x, y values\n",
    "N = 10\n",
    "L = 2\n",
    "x = np.linspace(-L / 2, L / 2, N)\n",
    "y = np.linspace(-L / 2, L / 2, N)\n",
    "z = np.array([0])\n",
    "\n",
    "# Make an array of vertices for a square.\n",
    "x_v, y_v, z_v = np.meshgrid(x, y, z)\n",
    "square_vertices_2d = np.c_[x_v.reshape(-1), y_v.reshape(-1), z_v.reshape(-1)]"
   ]
  },
  {
   "cell_type": "code",
   "execution_count": null,
   "id": "6bee54a8",
   "metadata": {},
   "outputs": [],
   "source": [
    "# Generate vertices and triangles for the x = -L/2 face.\n",
    "vertices_x_min = np.zeros(square_vertices_2d.shape)\n",
    "vertices_x_min[:, 0] = -L / 2\n",
    "vertices_x_min[:, 1] = square_vertices_2d[:, 1]\n",
    "vertices_x_min[:, 2] = square_vertices_2d[:, 0]\n",
    "faces_x_min = utils.pyvista_faces_to_numpy(\n",
    "    pv.PolyData(vertices_x_min).delaunay_2d().faces\n",
    ")\n",
    "\n",
    "# Generate vertices and triangles for the x = +L/2 face.\n",
    "vertices_x_max = np.zeros(square_vertices_2d.shape)\n",
    "vertices_x_max[:, 0] = +L / 2\n",
    "vertices_x_max[:, 1] = square_vertices_2d[:, 1]\n",
    "vertices_x_max[:, 2] = square_vertices_2d[:, 0]\n",
    "faces_x_max = utils.pyvista_faces_to_numpy(\n",
    "    pv.PolyData(vertices_x_max).delaunay_2d().faces\n",
    ")\n",
    "\n",
    "# Generate vertices and triangles for the y = -L/2 face.\n",
    "vertices_y_min = np.zeros(square_vertices_2d.shape)\n",
    "vertices_y_min[:, 0] = square_vertices_2d[:, 0]\n",
    "vertices_y_min[:, 1] = -L / 2\n",
    "vertices_y_min[:, 2] = square_vertices_2d[:, 1]\n",
    "faces_y_min = utils.pyvista_faces_to_numpy(\n",
    "    pv.PolyData(vertices_y_min).delaunay_2d().faces\n",
    ")\n",
    "\n",
    "# Generate vertices and triangles for the y = +L/2 face.\n",
    "vertices_y_max = np.zeros(square_vertices_2d.shape)\n",
    "vertices_y_max[:, 0] = square_vertices_2d[:, 0]\n",
    "vertices_y_max[:, 1] = L / 2\n",
    "vertices_y_max[:, 2] = square_vertices_2d[:, 1]\n",
    "faces_y_max = utils.pyvista_faces_to_numpy(\n",
    "    pv.PolyData(vertices_y_max).delaunay_2d().faces\n",
    ")\n",
    "\n",
    "# Generate vertices and triangles for the z = -L/2 face.\n",
    "vertices_z_min = np.zeros(square_vertices_2d.shape)\n",
    "vertices_z_min[:, 0] = square_vertices_2d[:, 1]\n",
    "vertices_z_min[:, 1] = square_vertices_2d[:, 0]\n",
    "vertices_z_min[:, 2] = -L / 2\n",
    "faces_z_min = utils.pyvista_faces_to_numpy(\n",
    "    pv.PolyData(vertices_z_min).delaunay_2d().faces\n",
    ")\n",
    "\n",
    "# Generate vertices and triangles for the z = +L/2 face.\n",
    "vertices_z_max = np.zeros(square_vertices_2d.shape)\n",
    "vertices_z_max[:, 0] = square_vertices_2d[:, 1]\n",
    "vertices_z_max[:, 1] = square_vertices_2d[:, 0]\n",
    "vertices_z_max[:, 2] = L / 2\n",
    "faces_z_max = utils.pyvista_faces_to_numpy(\n",
    "    pv.PolyData(vertices_z_max).delaunay_2d().faces\n",
    ")"
   ]
  },
  {
   "cell_type": "markdown",
   "id": "efccfc0c",
   "metadata": {},
   "source": [
    "### 4.2 - Combine the 2D meshes to make a cube\n"
   ]
  },
  {
   "cell_type": "markdown",
   "id": "1ea11f40",
   "metadata": {},
   "source": [
    "We will combine the 6 square meshes to make a cube. Once we have created a 3D mesh, we will use the `pyvista.PolyData.clean()` method to remove duplicate vertices, and update the triangles array.\n"
   ]
  },
  {
   "cell_type": "code",
   "execution_count": null,
   "id": "24acc0d0",
   "metadata": {},
   "outputs": [],
   "source": [
    "# Create an array of vertices.\n",
    "cube_vertices_cartesian = np.vstack(\n",
    "    (\n",
    "        vertices_x_min,\n",
    "        vertices_x_max,\n",
    "        vertices_y_min,\n",
    "        vertices_y_max,\n",
    "        vertices_z_min,\n",
    "        vertices_z_max,\n",
    "    )\n",
    ")\n",
    "\n",
    "# Create an array of faces.\n",
    "num_vertices = square_vertices_2d.shape[0]\n",
    "cube_faces = utils.numpy_faces_to_pyvista(\n",
    "    np.vstack(\n",
    "        (\n",
    "            faces_x_min,\n",
    "            faces_x_max + num_vertices,\n",
    "            faces_y_min + 2 * num_vertices,\n",
    "            faces_y_max + 3 * num_vertices,\n",
    "            faces_z_min + 4 * num_vertices,\n",
    "            faces_z_max + 5 * num_vertices,\n",
    "        )\n",
    "    )\n",
    ")\n",
    "\n",
    "# Create a 3D mesh.\n",
    "cube_mesh_cartesian_custom = pv.PolyData(cube_vertices_cartesian, cube_faces)\n",
    "cube_mesh_cartesian_custom.clean()\n",
    "\n",
    "# Plot the mesh.\n",
    "cube_mesh_cartesian_custom.plot(show_edges=True, color=\"lightblue\")"
   ]
  }
 ],
 "metadata": {
  "kernelspec": {
   "display_name": "numerical_geometry",
   "language": "python",
   "name": "python3"
  },
  "language_info": {
   "codemirror_mode": {
    "name": "ipython",
    "version": 3
   },
   "file_extension": ".py",
   "mimetype": "text/x-python",
   "name": "python",
   "nbconvert_exporter": "python",
   "pygments_lexer": "ipython3",
   "version": "3.13.5"
  }
 },
 "nbformat": 4,
 "nbformat_minor": 5
}
