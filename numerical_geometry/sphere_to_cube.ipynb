{
 "cells": [
  {
   "cell_type": "markdown",
   "id": "3e40459c",
   "metadata": {},
   "source": [
    "# Deform a sphere into a cube\n",
    "\n",
    "---\n"
   ]
  },
  {
   "cell_type": "markdown",
   "id": "31fe7381",
   "metadata": {},
   "source": [
    "This notebook solves the problem of deforming a sphere into a cube using different methods.\n"
   ]
  },
  {
   "cell_type": "markdown",
   "id": "6a3a8804",
   "metadata": {},
   "source": [
    "Import the required modules.\n"
   ]
  },
  {
   "cell_type": "code",
   "execution_count": null,
   "id": "c3f3b072",
   "metadata": {},
   "outputs": [],
   "source": [
    "import numpy as np\n",
    "import pyvista as pv\n",
    "import torch\n",
    "from torch import nn\n",
    "from torch.utils.data import DataLoader, TensorDataset\n",
    "import matplotlib.pyplot as plt\n",
    "import utils"
   ]
  },
  {
   "cell_type": "markdown",
   "id": "412277a9",
   "metadata": {},
   "source": [
    "Define helper functions.\n"
   ]
  },
  {
   "cell_type": "code",
   "execution_count": null,
   "id": "1d2ba43c",
   "metadata": {},
   "outputs": [],
   "source": [
    "def animate_sphere_to_cube(\n",
    "    sphere_mesh,\n",
    "    cube_mesh,\n",
    "    deformation,\n",
    "    t_min=0,\n",
    "    t_max=1,\n",
    "    show_cube=False,\n",
    "    show_edges=True,\n",
    "):\n",
    "    \"\"\"\n",
    "    Animate sphere to cube\n",
    "    ======================\n",
    "\n",
    "    Adds an inline plot of the deformed sphere in the notebook, with a slider controlling the deformation parameter.\n",
    "    \"\"\"\n",
    "    sphere_vertices = sphere_mesh.points.copy()\n",
    "\n",
    "    # Create plotter with custom window size\n",
    "    pl = pv.Plotter(window_size=[1000, 700])\n",
    "\n",
    "    # Add reference cube\n",
    "    if show_cube:\n",
    "        cube_actor = pl.add_mesh(cube_mesh, color=\"orange\", opacity=0.3)\n",
    "\n",
    "    # Add initial sphere\n",
    "    sphere_actor = pl.add_mesh(sphere_mesh, color=\"lightblue\", show_edges=show_edges)\n",
    "\n",
    "    def update_deformation(t):\n",
    "        # Calculate deformed vertices\n",
    "        deformed_vertices = sphere_vertices + deformation * t\n",
    "        deformed_mesh = pv.PolyData(deformed_vertices, sphere_mesh.faces)\n",
    "\n",
    "        # Update the mesh\n",
    "        sphere_actor.GetMapper().SetInputData(deformed_mesh)\n",
    "\n",
    "        # Render\n",
    "        pl.render()\n",
    "\n",
    "    # Add slider\n",
    "    pl.add_slider_widget(\n",
    "        update_deformation,\n",
    "        rng=[t_min, t_max],\n",
    "        value=0,\n",
    "        title=\"t\",\n",
    "        pointa=(0.05, 0.8),\n",
    "        pointb=(0.25, 0.8),\n",
    "        style=\"modern\",\n",
    "    )\n",
    "\n",
    "    pl.show()"
   ]
  },
  {
   "cell_type": "markdown",
   "id": "cd93cb3c",
   "metadata": {},
   "source": [
    "---\n",
    "\n",
    "## 1 - Create source and target meshes\n"
   ]
  },
  {
   "cell_type": "markdown",
   "id": "64633103",
   "metadata": {},
   "source": [
    "We can create a sphere (source) mesh and a cube (target) mesh using the `utils.sphere()` and `utils.cube()` functions respectively. Generating meshes of spheres and cubes is discussed in the `sphere.ipynb` and `cube.ipynb` notebooks respectively.\n"
   ]
  },
  {
   "cell_type": "code",
   "execution_count": null,
   "id": "1a88b371",
   "metadata": {},
   "outputs": [],
   "source": [
    "sphere_mesh = utils.sphere(num_polar_angles=100, num_azimuthal_angles=200)\n",
    "cube_mesh = utils.cube(num_points_per_side=50)"
   ]
  },
  {
   "cell_type": "markdown",
   "id": "467e537a",
   "metadata": {},
   "source": [
    "Plot the sphere (source) mesh and the cube (target) mesh.\n"
   ]
  },
  {
   "cell_type": "code",
   "execution_count": null,
   "id": "e839d644",
   "metadata": {},
   "outputs": [],
   "source": [
    "pl = pv.Plotter(shape=(1, 2))\n",
    "\n",
    "pl.subplot(0, 0)\n",
    "pl.add_mesh(sphere_mesh, show_edges=True)\n",
    "pl.add_text(\"Sphere (source)\", font_size=12)\n",
    "\n",
    "pl.subplot(0, 1)\n",
    "pl.add_mesh(cube_mesh, show_edges=True)\n",
    "pl.add_text(\"Cube (target)\", font_size=12)\n",
    "\n",
    "pl.show()"
   ]
  },
  {
   "cell_type": "markdown",
   "id": "346b6b1d",
   "metadata": {},
   "source": [
    "---\n",
    "\n",
    "## 2 - Deform a sphere into a cube using ray tracing\n"
   ]
  },
  {
   "cell_type": "markdown",
   "id": "abe951b8",
   "metadata": {},
   "source": [
    "The first step to solve this problem is to find where the vertex normals of the sphere intersect the faces of the cube. This is a ray tracing problem, and can be solved using PyVista's built in ray tracing functionality. We will define a function, `get_intersection_points()`, which uses PyVista's `ray_trace()` method to find where the sphere's vertex normals intersect the faces of the cube.\n"
   ]
  },
  {
   "cell_type": "code",
   "execution_count": null,
   "id": "8f964a20",
   "metadata": {},
   "outputs": [],
   "source": [
    "def get_intersection_points(sphere_mesh, cube_mesh, ray_length=10):\n",
    "    \"\"\"\n",
    "    Get intersection points\n",
    "    =======================\n",
    "\n",
    "    Calculates where the vertex normals to the sphere mesh intersect the faces of the cube mesh.\n",
    "    The intersection points are calculated using the PyVista `ray_trace()` method.\n",
    "    \"\"\"\n",
    "    intersection_points = []\n",
    "    intersection_rays = []\n",
    "    intersection_cells = []\n",
    "\n",
    "    # Extract vertices and normals from the sphere mesh.\n",
    "    sphere_vertices = sphere_mesh.points\n",
    "    sphere_normals = sphere_mesh.point_data[\"normals\"]\n",
    "\n",
    "    # Process each ray individually.\n",
    "    for i, (origin, normal) in enumerate(zip(sphere_vertices, sphere_normals)):\n",
    "        # Perform ray tracing.\n",
    "        try:\n",
    "            end_point = origin + normal * ray_length\n",
    "            points, cells = cube_mesh.ray_trace(origin, end_point, first_point=True)\n",
    "\n",
    "            # If intersection found, store the results\n",
    "            if len(points) > 0:\n",
    "                intersection_points.append(points)\n",
    "                intersection_rays.append(i)\n",
    "                intersection_cells.append(cells)\n",
    "\n",
    "        except Exception as e:\n",
    "            continue\n",
    "\n",
    "    # Convert results to numpy arrays.\n",
    "    intersection_points = (\n",
    "        np.array(intersection_points) if intersection_points else np.empty((0, 3))\n",
    "    )\n",
    "    intersection_rays = (\n",
    "        np.array(intersection_rays) if intersection_rays else np.empty((0,), dtype=int)\n",
    "    )\n",
    "    intersection_cells = (\n",
    "        np.array(intersection_cells)\n",
    "        if intersection_cells\n",
    "        else np.empty((0,), dtype=int)\n",
    "    )\n",
    "\n",
    "    return intersection_points, intersection_rays, intersection_cells"
   ]
  },
  {
   "cell_type": "markdown",
   "id": "9bf0d535",
   "metadata": {},
   "source": [
    "We can use `get_intersection_points()` to solve for the deformation field.\n"
   ]
  },
  {
   "cell_type": "code",
   "execution_count": null,
   "id": "4dfc897d",
   "metadata": {},
   "outputs": [],
   "source": [
    "intersection_points, intersection_rays, intersection_cells = get_intersection_points(\n",
    "    sphere_mesh,\n",
    "    cube_mesh,\n",
    ")\n",
    "\n",
    "deformation = intersection_points - sphere_mesh.points\n",
    "\n",
    "print(sphere_mesh.points.shape)\n",
    "print(intersection_points.shape)"
   ]
  },
  {
   "cell_type": "markdown",
   "id": "78a4f98f",
   "metadata": {},
   "source": [
    "To deform the sphere, we simply need to multiply the deformation field, $\\vec{d}$, by a scalar, $t \\in [0, 1]$, and evolve the position of each vertex according to this new deformation field. This is handled by the `animate_sphere_to_cube()` function.\n"
   ]
  },
  {
   "cell_type": "code",
   "execution_count": null,
   "id": "ca401816",
   "metadata": {},
   "outputs": [],
   "source": [
    "animate_sphere_to_cube(\n",
    "    sphere_mesh,\n",
    "    cube_mesh,\n",
    "    deformation,\n",
    ")"
   ]
  },
  {
   "cell_type": "markdown",
   "id": "8e732fa0",
   "metadata": {},
   "source": [
    "---\n",
    "\n",
    "## 3 - Deform a sphere into a cube using a neural network\n"
   ]
  },
  {
   "cell_type": "markdown",
   "id": "e9eec82f",
   "metadata": {},
   "source": [
    "We will now try to solve the problem using a neural network. We will aim to learn a function $f: \\mathbb{R}^3 \\rightarrow \\mathbb{R}^3$ that maps the points of the source mesh to the deformation field. One benefit of this approach is that we can learn the function on a low dimensional representation (i.e. sparse source and target meshes), and then apply the function to a dense source mesh.\n"
   ]
  },
  {
   "cell_type": "markdown",
   "id": "88b9debc",
   "metadata": {},
   "source": [
    "Set the device to MPS if available (you will need to modify this block of code if you aren't using an Apple silicon device).\n"
   ]
  },
  {
   "cell_type": "code",
   "execution_count": null,
   "id": "2e95d393",
   "metadata": {},
   "outputs": [],
   "source": [
    "if torch.backends.mps.is_available():\n",
    "    device = torch.device(\"mps\")\n",
    "else:\n",
    "    device = torch.device(\"cpu\")\n",
    "print(f\"Using {device} device.\")"
   ]
  },
  {
   "cell_type": "markdown",
   "id": "0593f471",
   "metadata": {},
   "source": [
    "Define hyperparameters.\n"
   ]
  },
  {
   "cell_type": "code",
   "execution_count": null,
   "id": "49c48905",
   "metadata": {},
   "outputs": [],
   "source": [
    "epochs = 100\n",
    "batch_size = 512\n",
    "target_batch_size = 1000\n",
    "learning_rate = 1e-1\n",
    "lambda_chd = 1.0\n",
    "lambda_deform = 1e-6"
   ]
  },
  {
   "cell_type": "markdown",
   "id": "7300730e",
   "metadata": {},
   "source": [
    "### 3.1 - Prepare the point clouds\n"
   ]
  },
  {
   "cell_type": "markdown",
   "id": "78918654",
   "metadata": {},
   "source": [
    "Convert `sphere_mesh.points` and `cube_mesh.points` to PyTorch Tensors, `source` and `target` respectively, and send them to the GPU.\n"
   ]
  },
  {
   "cell_type": "code",
   "execution_count": null,
   "id": "924d4adb",
   "metadata": {},
   "outputs": [],
   "source": [
    "source = torch.from_numpy(sphere_mesh.points).float().to(device)\n",
    "target = torch.from_numpy(cube_mesh.points).float().to(device)"
   ]
  },
  {
   "cell_type": "markdown",
   "id": "71f1f41b",
   "metadata": {},
   "source": [
    "Validate `batch_size` and `target_batch_size`\n"
   ]
  },
  {
   "cell_type": "code",
   "execution_count": null,
   "id": "7b4e9826",
   "metadata": {},
   "outputs": [],
   "source": [
    "if batch_size > source.shape[0]:\n",
    "    batch_size = source.shape[0]\n",
    "\n",
    "if target_batch_size > target.shape[0]:\n",
    "    target_batch_size = target.shape[0]"
   ]
  },
  {
   "cell_type": "markdown",
   "id": "22363469",
   "metadata": {},
   "source": [
    "Create a dataset and dataloader for `source`.\n"
   ]
  },
  {
   "cell_type": "code",
   "execution_count": null,
   "id": "8e5480fd",
   "metadata": {},
   "outputs": [],
   "source": [
    "source_dataset = TensorDataset(source)\n",
    "\n",
    "if source.shape[0] > batch_size:\n",
    "    source_dataloader = DataLoader(source_dataset, batch_size=batch_size, shuffle=True)\n",
    "else:\n",
    "    batch_size = source.shape[0]\n",
    "    source_dataloader = DataLoader(source_dataset, batch_size=batch_size, shuffle=True)"
   ]
  },
  {
   "cell_type": "markdown",
   "id": "03a78ce4",
   "metadata": {},
   "source": [
    "### 3.2 - Create the model\n"
   ]
  },
  {
   "cell_type": "markdown",
   "id": "1d611ee5",
   "metadata": {},
   "source": [
    "To start with, we will use a simple multilayer perceptron (MLP). We can increase the complexity of the model later if required.\n"
   ]
  },
  {
   "cell_type": "code",
   "execution_count": null,
   "id": "5aebd795",
   "metadata": {},
   "outputs": [],
   "source": [
    "class DeformationNetwork(nn.Module):\n",
    "    def __init__(self, hidden=128, layers=4):\n",
    "        super().__init__()\n",
    "        mods = []\n",
    "        in_dim = 3\n",
    "        for _ in range(layers):\n",
    "            mods += [nn.Linear(in_dim, hidden), nn.ReLU(inplace=True)]\n",
    "            in_dim = hidden\n",
    "        mods += [nn.Linear(in_dim, 3)]\n",
    "        self.net = nn.Sequential(*mods)\n",
    "\n",
    "    def forward(self, x):\n",
    "        return self.net(x)\n",
    "\n",
    "\n",
    "model = DeformationNetwork(hidden=128, layers=4).to(device)"
   ]
  },
  {
   "cell_type": "markdown",
   "id": "3bfe3194",
   "metadata": {},
   "source": [
    "### 3.3 - Loss function\n"
   ]
  },
  {
   "cell_type": "markdown",
   "id": "ba31567b",
   "metadata": {},
   "source": [
    "In order to optimize the parameters, we need a loss function. To start with, the loss function will have two terms: a Chamfer distance term, and a term which penalizes large deformations. The Chamfer distance provides a measure of how close two point clouds are.\n"
   ]
  },
  {
   "cell_type": "code",
   "execution_count": null,
   "id": "1457e8f9",
   "metadata": {},
   "outputs": [],
   "source": [
    "def get_chamfer_distance(x, y):\n",
    "    \"\"\"\n",
    "    Get Chamfer distance\n",
    "    ====================\n",
    "\n",
    "    Computes the Chamfer distance between two point clouds, x and y.\n",
    "    \"\"\"\n",
    "    # Compute pairwise squared distances between points in x and points in y.\n",
    "    x = x.unsqueeze(1)  # (N, 1, D)\n",
    "    y = y.unsqueeze(0)  # (1, M, D)\n",
    "    dist = torch.sum((x - y) ** 2, dim=2)  # (N, M)\n",
    "\n",
    "    # For each point in x, find nearest neighbor in y.\n",
    "    min_dist_x, _ = torch.min(dist, dim=1)\n",
    "\n",
    "    # For each point in y, find nearest neighbor in x.\n",
    "    min_dist_y, _ = torch.min(dist, dim=0)\n",
    "\n",
    "    # Take the average of the mean nearest neighbor distances.\n",
    "    return torch.mean(min_dist_x) + torch.mean(min_dist_y)\n",
    "\n",
    "\n",
    "def get_average_deformation(deformation):\n",
    "    \"\"\"\n",
    "    Get average deformation\n",
    "    =======================\n",
    "\n",
    "    Computes the average size of a deformation field.\n",
    "    \"\"\"\n",
    "    return torch.sqrt((deformation**2).mean())\n",
    "\n",
    "\n",
    "def loss_function(source, target, deformation, lambda_chd, lambda_deform):\n",
    "    \"\"\"\n",
    "    Loss function\n",
    "    =============\n",
    "\n",
    "    Computes the loss.\n",
    "    \"\"\"\n",
    "\n",
    "    chamfer_distance = get_chamfer_distance(source + deformation, target)\n",
    "    average_deformation = get_average_deformation(deformation)\n",
    "    loss = (lambda_chd * chamfer_distance) + (lambda_deform * average_deformation)\n",
    "    return loss"
   ]
  },
  {
   "cell_type": "markdown",
   "id": "5f6caa3e",
   "metadata": {},
   "source": [
    "### 3.4 - Optimizer\n"
   ]
  },
  {
   "cell_type": "markdown",
   "id": "c7eae934",
   "metadata": {},
   "source": [
    "The optimizer updates the parameters based on the gradient of the loss function. We will start by using the stochastic gradient descent (SGD) optimization algorithm; we can change the optimization algorithm later if required.\n"
   ]
  },
  {
   "cell_type": "code",
   "execution_count": null,
   "id": "59fb28d1",
   "metadata": {},
   "outputs": [],
   "source": [
    "optimizer = torch.optim.SGD(model.parameters(), lr=learning_rate)"
   ]
  },
  {
   "cell_type": "markdown",
   "id": "948f658f",
   "metadata": {},
   "source": [
    "### 3.5 - Training\n"
   ]
  },
  {
   "cell_type": "markdown",
   "id": "34a6313b",
   "metadata": {},
   "source": [
    "We now have everything we need to set up the training loop and train the model.\n"
   ]
  },
  {
   "cell_type": "code",
   "execution_count": null,
   "id": "4c5cb796",
   "metadata": {},
   "outputs": [],
   "source": [
    "loss_history = []\n",
    "epoch_history = []\n",
    "\n",
    "# Training loop.\n",
    "for epoch in torch.arange(1, epochs + 1):\n",
    "    epoch_loss = 0.0\n",
    "    num_batches = 0\n",
    "\n",
    "    for batch_idx, (batch_source,) in enumerate(source_dataloader):\n",
    "        # Sample a subset of the target.\n",
    "        target_indices = torch.randperm(target.size(0))[:target_batch_size]\n",
    "        batch_target = target[target_indices]\n",
    "\n",
    "        # Compute the deformation for this batch.\n",
    "        batch_deformation = model(batch_source)\n",
    "\n",
    "        # Compute the loss for this batch.\n",
    "        batch_loss = loss_function(\n",
    "            batch_source, batch_target, batch_deformation, lambda_chd, lambda_deform\n",
    "        )\n",
    "\n",
    "        # Backpropagate the loss.\n",
    "        batch_loss.backward()\n",
    "        optimizer.step()\n",
    "        optimizer.zero_grad()\n",
    "\n",
    "        epoch_loss += batch_loss.item()\n",
    "        num_batches += 1\n",
    "\n",
    "    # Average loss for this epoch.\n",
    "    average_epoch_loss = epoch_loss / num_batches\n",
    "\n",
    "    # Store loss values for plotting.\n",
    "    loss_history.append(average_epoch_loss)\n",
    "    epoch_history.append(epoch)\n",
    "\n",
    "    if epoch % 10 == 0:\n",
    "        print(f\"[{epoch}/{epochs}]: loss = {average_epoch_loss:.6f}\")\n",
    "\n",
    "\n",
    "fig, ax = plt.subplots(figsize=(10, 6))\n",
    "ax.set_xlabel(\"Epoch\")\n",
    "ax.set_ylabel(\"Loss\")\n",
    "ax.grid(True, alpha=0.3)\n",
    "ax.scatter(epoch_history, loss_history, s=10)\n",
    "plt.show()"
   ]
  },
  {
   "cell_type": "markdown",
   "id": "088811ad",
   "metadata": {},
   "source": [
    "### 3.6 - Test the model\n"
   ]
  },
  {
   "cell_type": "markdown",
   "id": "97ffada4",
   "metadata": {},
   "source": [
    "Now that we have trained the model, we can use it to calculate a deformation field.\n"
   ]
  },
  {
   "cell_type": "code",
   "execution_count": null,
   "id": "5609418f",
   "metadata": {},
   "outputs": [],
   "source": [
    "deformation = model(source).to(\"cpu\").detach().numpy()"
   ]
  },
  {
   "cell_type": "markdown",
   "id": "9323e90d",
   "metadata": {},
   "source": [
    "We can now apply the deformation field to the source.\n"
   ]
  },
  {
   "cell_type": "code",
   "execution_count": null,
   "id": "c827008c",
   "metadata": {},
   "outputs": [],
   "source": [
    "animate_sphere_to_cube(\n",
    "    sphere_mesh,\n",
    "    cube_mesh,\n",
    "    deformation,\n",
    ")"
   ]
  },
  {
   "cell_type": "markdown",
   "id": "da90dd8f",
   "metadata": {},
   "source": [
    "---\n",
    "\n",
    "## 4 - Questions\n"
   ]
  },
  {
   "cell_type": "markdown",
   "id": "9a5ef63f",
   "metadata": {},
   "source": [
    "1. Why does the loss vs $t$ graph have these oscillations?\n",
    "\n",
    "![alt text](Images/loss_vs_epoch.png)\n",
    "\n",
    "2. What terms would it be worth experimenting with adding to the loss function? I would like to add a term that depends on the curvature of the deformed source, and a term that depends on the local density of the deformed source point cloud; what is the best way of computing these quantities?\n"
   ]
  }
 ],
 "metadata": {
  "kernelspec": {
   "display_name": "numerical_geometry",
   "language": "python",
   "name": "python3"
  },
  "language_info": {
   "codemirror_mode": {
    "name": "ipython",
    "version": 3
   },
   "file_extension": ".py",
   "mimetype": "text/x-python",
   "name": "python",
   "nbconvert_exporter": "python",
   "pygments_lexer": "ipython3",
   "version": "3.13.5"
  }
 },
 "nbformat": 4,
 "nbformat_minor": 5
}
