{
 "cells": [
  {
   "cell_type": "markdown",
   "id": "3e40459c",
   "metadata": {},
   "source": [
    "# Deform a sphere into a cube\n"
   ]
  },
  {
   "cell_type": "markdown",
   "id": "31fe7381",
   "metadata": {},
   "source": [
    "---\n",
    "\n",
    "This notebook solves the problem of deforming a sphere into a cube using ray tracing.\n"
   ]
  },
  {
   "cell_type": "markdown",
   "id": "6a3a8804",
   "metadata": {},
   "source": [
    "Import the required modules.\n"
   ]
  },
  {
   "cell_type": "code",
   "execution_count": null,
   "id": "c3f3b072",
   "metadata": {},
   "outputs": [],
   "source": [
    "import numpy as np\n",
    "import pyvista as pv\n",
    "import utils"
   ]
  },
  {
   "cell_type": "markdown",
   "id": "d6f423e3",
   "metadata": {},
   "source": [
    "Define functions which are used later in the notebook.\n"
   ]
  },
  {
   "cell_type": "markdown",
   "id": "cd93cb3c",
   "metadata": {},
   "source": [
    "---\n",
    "\n",
    "## 1 - Create source and target meshes\n"
   ]
  },
  {
   "cell_type": "markdown",
   "id": "64633103",
   "metadata": {},
   "source": [
    "We can create a sphere (source) mesh and a cube (target) mesh using the `utils.sphere()` and `utils.cube()` functions respectively. Generating meshes of spheres and cubes is discussed in the `sphere.ipynb` and `cube.ipynb` notebooks respectively.\n"
   ]
  },
  {
   "cell_type": "code",
   "execution_count": null,
   "id": "1a88b371",
   "metadata": {},
   "outputs": [],
   "source": [
    "sphere_mesh = utils.sphere(num_polar_angles=20, num_azimuthal_angles=40)\n",
    "cube_mesh = utils.cube(num_points_per_side=2)"
   ]
  },
  {
   "cell_type": "markdown",
   "id": "467e537a",
   "metadata": {},
   "source": [
    "Plot the sphere (source) mesh and the cube (target) mesh.\n"
   ]
  },
  {
   "cell_type": "code",
   "execution_count": null,
   "id": "e839d644",
   "metadata": {},
   "outputs": [],
   "source": [
    "pl = pv.Plotter(shape=(1, 2))\n",
    "\n",
    "pl.subplot(0, 0)\n",
    "pl.add_mesh(sphere_mesh, show_edges=True)\n",
    "pl.add_text(\"Sphere (source)\", font_size=12)\n",
    "\n",
    "pl.subplot(0, 1)\n",
    "pl.add_mesh(cube_mesh, show_edges=True)\n",
    "pl.add_text(\"Cube (target)\", font_size=12)\n",
    "\n",
    "pl.show()"
   ]
  },
  {
   "cell_type": "markdown",
   "id": "346b6b1d",
   "metadata": {},
   "source": [
    "---\n",
    "\n",
    "## 2 - Deform a sphere into a cube\n"
   ]
  },
  {
   "cell_type": "markdown",
   "id": "abe951b8",
   "metadata": {},
   "source": [
    "The first step to solve this problem is to find where the vertex normals of the sphere intersect the faces of the cube. This is a ray tracing problem, and can be solved using PyVista's built in ray tracing functionality. We will define a function, `get_intersection_points()`, which uses PyVista's `ray_trace()` method to find where the sphere's vertex normals intersect the faces of the cube.\n"
   ]
  },
  {
   "cell_type": "code",
   "execution_count": null,
   "id": "8f964a20",
   "metadata": {},
   "outputs": [],
   "source": [
    "def get_intersection_points(sphere_mesh, cube_mesh, ray_length=10):\n",
    "    \"\"\"\n",
    "    Get intersection points\n",
    "    =======================\n",
    "\n",
    "    Calculates where the vertex normals to the sphere mesh intersect the faces of the cube mesh.\n",
    "    The intersection points are calculated using the PyVista `ray_trace()` method.\n",
    "    \"\"\"\n",
    "    intersection_points = []\n",
    "    intersection_rays = []\n",
    "    intersection_cells = []\n",
    "\n",
    "    # Extract vertices and normals from the sphere mesh.\n",
    "    sphere_vertices = sphere_mesh.points\n",
    "    sphere_normals = sphere_mesh.point_data[\"normals\"]\n",
    "\n",
    "    # Process each ray individually.\n",
    "    for i, (origin, normal) in enumerate(zip(sphere_vertices, sphere_normals)):\n",
    "        # Perform ray tracing.\n",
    "        try:\n",
    "            end_point = origin + normal * ray_length\n",
    "            points, cells = cube_mesh.ray_trace(origin, end_point, first_point=True)\n",
    "\n",
    "            # If intersection found, store the results\n",
    "            if len(points) > 0:\n",
    "                intersection_points.append(points)\n",
    "                intersection_rays.append(i)\n",
    "                intersection_cells.append(cells)\n",
    "\n",
    "        except Exception as e:\n",
    "            continue\n",
    "\n",
    "    # Convert results to numpy arrays.\n",
    "    intersection_points = (\n",
    "        np.array(intersection_points) if intersection_points else np.empty((0, 3))\n",
    "    )\n",
    "    intersection_rays = (\n",
    "        np.array(intersection_rays) if intersection_rays else np.empty((0,), dtype=int)\n",
    "    )\n",
    "    intersection_cells = (\n",
    "        np.array(intersection_cells)\n",
    "        if intersection_cells\n",
    "        else np.empty((0,), dtype=int)\n",
    "    )\n",
    "\n",
    "    return intersection_points, intersection_rays, intersection_cells"
   ]
  },
  {
   "cell_type": "markdown",
   "id": "9bf0d535",
   "metadata": {},
   "source": [
    "We can use `get_intersection_points()` to solve for the deformation field.\n"
   ]
  },
  {
   "cell_type": "code",
   "execution_count": null,
   "id": "4dfc897d",
   "metadata": {},
   "outputs": [],
   "source": [
    "intersection_points, intersection_rays, intersection_cells = get_intersection_points(\n",
    "    sphere_mesh,\n",
    "    cube_mesh,\n",
    ")\n",
    "\n",
    "deformation = intersection_points - sphere_mesh.points\n",
    "\n",
    "print(sphere_mesh.points.shape)\n",
    "print(intersection_points.shape)"
   ]
  },
  {
   "cell_type": "markdown",
   "id": "78a4f98f",
   "metadata": {},
   "source": [
    "To deform the sphere, we simply need to multiply the deformation field, $\\vec{d}$, by a scalar, $t \\in [0, 1]$, and evolve the position of each vertex according to this new deformation field. We will define a function, `animate_sphere_to_cube()`, which produces an inline plot of the deformed sphere with an adjustable slider for the deformation parameter, $t$.\n"
   ]
  },
  {
   "cell_type": "code",
   "execution_count": null,
   "id": "1d2ba43c",
   "metadata": {},
   "outputs": [],
   "source": [
    "def animate_sphere_to_cube(\n",
    "    sphere_mesh,\n",
    "    cube_mesh,\n",
    "    deformation,\n",
    "    t_min=0,\n",
    "    t_max=1,\n",
    "    show_cube=False,\n",
    "    show_edges=True,\n",
    "):\n",
    "    \"\"\"\n",
    "    Animate sphere to cube\n",
    "    ======================\n",
    "\n",
    "    Adds an inline plot of the deformed sphere in the notebook, with a slider controlling the deformation parameter.\n",
    "    \"\"\"\n",
    "    sphere_vertices = sphere_mesh.points.copy()\n",
    "\n",
    "    # Create plotter with custom window size\n",
    "    pl = pv.Plotter(window_size=[1000, 700])\n",
    "\n",
    "    # Add reference cube\n",
    "    if show_cube:\n",
    "        cube_actor = pl.add_mesh(cube_mesh, color=\"orange\", opacity=0.3)\n",
    "\n",
    "    # Add initial sphere\n",
    "    sphere_actor = pl.add_mesh(sphere_mesh, color=\"lightblue\", show_edges=show_edges)\n",
    "\n",
    "    def update_deformation(t):\n",
    "        # Calculate deformed vertices\n",
    "        deformed_vertices = sphere_vertices + deformation * t\n",
    "        deformed_mesh = pv.PolyData(deformed_vertices, sphere_mesh.faces)\n",
    "\n",
    "        # Update the mesh\n",
    "        sphere_actor.GetMapper().SetInputData(deformed_mesh)\n",
    "\n",
    "        # Render\n",
    "        pl.render()\n",
    "\n",
    "    # Add slider\n",
    "    pl.add_slider_widget(\n",
    "        update_deformation,\n",
    "        rng=[t_min, t_max],\n",
    "        value=0,\n",
    "        title=\"t\",\n",
    "        pointa=(0.05, 0.8),\n",
    "        pointb=(0.25, 0.8),\n",
    "        style=\"modern\",\n",
    "    )\n",
    "\n",
    "    pl.show()"
   ]
  },
  {
   "cell_type": "markdown",
   "id": "0f209ba5",
   "metadata": {},
   "source": [
    "We can now deform the sphere.\n"
   ]
  },
  {
   "cell_type": "code",
   "execution_count": null,
   "id": "ca401816",
   "metadata": {},
   "outputs": [],
   "source": [
    "animate_sphere_to_cube(\n",
    "    sphere_mesh,\n",
    "    cube_mesh,\n",
    "    deformation,\n",
    ")"
   ]
  },
  {
   "cell_type": "code",
   "execution_count": null,
   "id": "8e732fa0",
   "metadata": {},
   "outputs": [],
   "source": []
  }
 ],
 "metadata": {
  "kernelspec": {
   "display_name": "numerical_geometry",
   "language": "python",
   "name": "python3"
  },
  "language_info": {
   "codemirror_mode": {
    "name": "ipython",
    "version": 3
   },
   "file_extension": ".py",
   "mimetype": "text/x-python",
   "name": "python",
   "nbconvert_exporter": "python",
   "pygments_lexer": "ipython3",
   "version": "3.13.5"
  }
 },
 "nbformat": 4,
 "nbformat_minor": 5
}
