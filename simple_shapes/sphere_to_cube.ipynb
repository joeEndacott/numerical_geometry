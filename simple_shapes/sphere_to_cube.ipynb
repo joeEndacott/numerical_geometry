{
 "cells": [
  {
   "cell_type": "markdown",
   "id": "3e40459c",
   "metadata": {},
   "source": [
    "# Deform a sphere into a cube\n"
   ]
  },
  {
   "cell_type": "markdown",
   "id": "6a3a8804",
   "metadata": {},
   "source": [
    "Import the required modules.\n"
   ]
  },
  {
   "cell_type": "code",
   "execution_count": null,
   "id": "c3f3b072",
   "metadata": {},
   "outputs": [],
   "source": [
    "import numpy as np\n",
    "import pyvista as pv\n",
    "import time"
   ]
  },
  {
   "cell_type": "markdown",
   "id": "d6f423e3",
   "metadata": {},
   "source": [
    "Define functions which are used later in the notebook.\n"
   ]
  },
  {
   "cell_type": "code",
   "execution_count": null,
   "id": "8f9ee6d4",
   "metadata": {},
   "outputs": [],
   "source": [
    "def pyvista_faces_to_numpy(faces):\n",
    "    \"\"\"\n",
    "    PyVista faces to numpy\n",
    "    ======================\n",
    "\n",
    "    Converts a PyVista triangles array to a numpy array of shape (n_faces, 3).\n",
    "    Assumes all faces are triangles (first value in each group is 3).\n",
    "    \"\"\"\n",
    "    n_faces = len(faces) // 4\n",
    "    return faces.reshape((n_faces, 4))[:, 1:]\n",
    "\n",
    "\n",
    "def numpy_faces_to_pyvista(faces):\n",
    "    \"\"\"\n",
    "    Numpy faces to PyVista\n",
    "    ======================\n",
    "\n",
    "    Converts a numpy triangles array of shape (n_faces, 3) to the format expected by PyVista.\n",
    "    \"\"\"\n",
    "    n_faces = faces.shape[0]\n",
    "    return np.hstack([np.full((n_faces, 1), 3, dtype=int), faces]).ravel()"
   ]
  },
  {
   "cell_type": "code",
   "execution_count": null,
   "id": "f4f1f85f",
   "metadata": {},
   "outputs": [],
   "source": [
    "def add_pole_faces(mesh, num_azimuthal_angles):\n",
    "    \"\"\"\n",
    "    Add pole faces\n",
    "    ==============\n",
    "\n",
    "    Appends all of the faces involving the poles to the mesh.\n",
    "    This function assumes that `wrap_phi` has not been called.\n",
    "    \"\"\"\n",
    "    # Extract the faces from the PyVista mesh.\n",
    "    faces = pyvista_faces_to_numpy(mesh.faces)\n",
    "    max_vertex = np.max(faces)\n",
    "\n",
    "    # Remove all faces involving the poles.\n",
    "    bulk_faces = faces[\n",
    "        ~((faces == 0).any(axis=1) | (faces == np.max(faces)).any(axis=1))\n",
    "    ]\n",
    "\n",
    "    # Generate faces made by the North pole.\n",
    "    north_faces = np.zeros((num_azimuthal_angles - 1, 3), dtype=int)\n",
    "    for i in range(num_azimuthal_angles - 1):\n",
    "        north_faces[i, :] = np.array([i + 2, 0, i + 1])\n",
    "\n",
    "    # Generate faces made by the South pole.\n",
    "    south_faces = np.zeros((num_azimuthal_angles - 1, 3), dtype=int)\n",
    "    for i in range(num_azimuthal_angles - 1):\n",
    "        south_faces[i, :] = np.array(\n",
    "            [\n",
    "                max_vertex,\n",
    "                max_vertex - num_azimuthal_angles + i + 1,\n",
    "                max_vertex - num_azimuthal_angles + i,\n",
    "            ]\n",
    "        )\n",
    "\n",
    "    return pv.PolyData(\n",
    "        mesh.points,\n",
    "        numpy_faces_to_pyvista(np.vstack((north_faces, bulk_faces, south_faces))),\n",
    "    )\n",
    "\n",
    "\n",
    "def wrap_phi(mesh, num_polar_angles, num_azimuthal_angles):\n",
    "    \"\"\"\n",
    "    Wrap phi\n",
    "    ========\n",
    "\n",
    "    This function connects the points with the largest phi values to the points phi = 0.\n",
    "    This function assumes that `add_pole_faces` has already been called.\n",
    "    \"\"\"\n",
    "    # Extract the faces from the PyVista mesh.\n",
    "    faces = pyvista_faces_to_numpy(mesh.faces)\n",
    "    max_vertex = np.max(faces)\n",
    "\n",
    "    # Wrap the phi coordinate in the bulk.\n",
    "    wrapping_faces = np.zeros((2 * (num_polar_angles - 1) + 2, 3), dtype=int)\n",
    "    for i in range(num_polar_angles - 1):\n",
    "        # Make the first triangle.\n",
    "        wrapping_faces[2 * i, :] = np.array(\n",
    "            [\n",
    "                (i + 2) * num_azimuthal_angles,\n",
    "                (i * num_azimuthal_angles) + 1,\n",
    "                (i + 1) * num_azimuthal_angles,\n",
    "            ]\n",
    "        )\n",
    "\n",
    "        # Make the second triangle.\n",
    "        wrapping_faces[(2 * i) + 1, :] = np.array(\n",
    "            [\n",
    "                (i + 2) * num_azimuthal_angles,\n",
    "                (i + 1) * num_azimuthal_angles + 1,\n",
    "                (i * num_azimuthal_angles) + 1,\n",
    "            ]\n",
    "        )\n",
    "\n",
    "    # Wrap the phi coordinates at the poles.\n",
    "    wrapping_faces[-2, :] = np.array([1, num_azimuthal_angles, 0])\n",
    "    wrapping_faces[-1, :] = np.array(\n",
    "        [max_vertex, max_vertex - 1, max_vertex - num_azimuthal_angles]\n",
    "    )\n",
    "\n",
    "    return pv.PolyData(\n",
    "        mesh.points, numpy_faces_to_pyvista(np.vstack((faces, wrapping_faces)))\n",
    "    )\n",
    "\n",
    "\n",
    "def correct_mesh(mesh, num_polar_angles, num_azimuthal_angles):\n",
    "    \"\"\"\n",
    "    Correct mesh\n",
    "    ============\n",
    "\n",
    "    Corrects the tessellation produced by the `delaunay_2d()` function, and returns a new mesh.\n",
    "    \"\"\"\n",
    "    mesh_1 = add_pole_faces(mesh, num_azimuthal_angles)\n",
    "    mesh_2 = wrap_phi(mesh_1, num_polar_angles, num_azimuthal_angles)\n",
    "    return mesh_2"
   ]
  },
  {
   "cell_type": "code",
   "execution_count": null,
   "id": "8f964a20",
   "metadata": {},
   "outputs": [],
   "source": [
    "def get_intersection_points(sphere_mesh, cube_mesh, ray_length=10):\n",
    "    \"\"\"\n",
    "    Get intersection points\n",
    "    =======================\n",
    "\n",
    "    Calculates where the vertex normals to the sphere mesh intersect the faces of the cube mesh.\n",
    "    The intersection points are calculated using the PyVista `ray_trace()` method.\n",
    "    \"\"\"\n",
    "    intersection_points = []\n",
    "    intersection_rays = []\n",
    "    intersection_cells = []\n",
    "\n",
    "    # Extract vertices and normals from the sphere mesh.\n",
    "    sphere_vertices = sphere_mesh.points\n",
    "    sphere_normals = sphere_mesh.point_data[\"normals\"]\n",
    "\n",
    "    # Process each ray individually.\n",
    "    for i, (origin, normal) in enumerate(zip(sphere_vertices, sphere_normals)):\n",
    "        # Perform ray tracing.\n",
    "        try:\n",
    "            end_point = origin + normal * ray_length\n",
    "            points, cells = cube_mesh.ray_trace(origin, end_point, first_point=True)\n",
    "\n",
    "            # If intersection found, store the results\n",
    "            if len(points) > 0:\n",
    "                intersection_points.append(points)\n",
    "                intersection_rays.append(i)\n",
    "                intersection_cells.append(cells)\n",
    "\n",
    "        except Exception as e:\n",
    "            continue\n",
    "\n",
    "    # Convert results to numpy arrays.\n",
    "    intersection_points = (\n",
    "        np.array(intersection_points) if intersection_points else np.empty((0, 3))\n",
    "    )\n",
    "    intersection_rays = (\n",
    "        np.array(intersection_rays) if intersection_rays else np.empty((0,), dtype=int)\n",
    "    )\n",
    "    intersection_cells = (\n",
    "        np.array(intersection_cells)\n",
    "        if intersection_cells\n",
    "        else np.empty((0,), dtype=int)\n",
    "    )\n",
    "\n",
    "    return intersection_points, intersection_rays, intersection_cells"
   ]
  },
  {
   "cell_type": "code",
   "execution_count": null,
   "id": "1d2ba43c",
   "metadata": {},
   "outputs": [],
   "source": [
    "def animate_sphere_to_cube(\n",
    "    sphere_mesh,\n",
    "    cube_mesh,\n",
    "    velocities,\n",
    "    t_min=0,\n",
    "    t_max=1,\n",
    "    show_cube=False,\n",
    "    show_edges=True,\n",
    "):\n",
    "    \"\"\"\n",
    "    Animate sphere to cube\n",
    "    ======================\n",
    "\n",
    "    Adds an inline plot of the deformed sphere in the notebook, with a slider controlling the deformation parameter.\n",
    "    \"\"\"\n",
    "    sphere_vertices = sphere_mesh.points.copy()\n",
    "\n",
    "    # Create plotter with custom window size\n",
    "    pl = pv.Plotter(window_size=[1000, 700])\n",
    "\n",
    "    # Add reference cube\n",
    "    if show_cube:\n",
    "        cube_actor = pl.add_mesh(cube_mesh, color=\"orange\", opacity=0.3)\n",
    "\n",
    "    # Add initial sphere\n",
    "    sphere_actor = pl.add_mesh(sphere_mesh, color=\"lightblue\", show_edges=show_edges)\n",
    "\n",
    "    def update_deformation(t):\n",
    "        # Calculate deformed vertices\n",
    "        deformed_vertices = sphere_vertices + velocities * t\n",
    "        deformed_mesh = pv.PolyData(deformed_vertices, sphere_mesh.faces)\n",
    "\n",
    "        # Update the mesh\n",
    "        sphere_actor.GetMapper().SetInputData(deformed_mesh)\n",
    "\n",
    "        # Render\n",
    "        pl.render()\n",
    "\n",
    "    # Add slider\n",
    "    pl.add_slider_widget(\n",
    "        update_deformation,\n",
    "        rng=[t_min, t_max],\n",
    "        value=0,\n",
    "        title=\"t\",\n",
    "        pointa=(0.05, 0.8),\n",
    "        pointb=(0.25, 0.8),\n",
    "        style=\"modern\",\n",
    "    )\n",
    "\n",
    "    pl.show()"
   ]
  },
  {
   "cell_type": "markdown",
   "id": "cd93cb3c",
   "metadata": {},
   "source": [
    "## 1. Create a sphere\n"
   ]
  },
  {
   "cell_type": "markdown",
   "id": "6e9a4980",
   "metadata": {},
   "source": [
    "### 1.1 Make a 2D mesh\n"
   ]
  },
  {
   "cell_type": "markdown",
   "id": "6458483c",
   "metadata": {},
   "source": [
    "We will define the vertices in spherical, $(r, \\theta, \\phi)$, coordinates. For a sphere, $r=1$, so if we plot the mesh, it will look like a 2D plane. We can perform a tessellation of the mesh using the `delaunay_2d()` function; it should get the tessellation mostly correct, since the surface is 2D.\n"
   ]
  },
  {
   "cell_type": "code",
   "execution_count": null,
   "id": "ba9c2013",
   "metadata": {},
   "outputs": [],
   "source": [
    "# Generate arrays of theta, phi values for all points, excluding the poles.\n",
    "N = 100\n",
    "theta = np.linspace(0, np.pi, N)[1:-1]\n",
    "phi = np.linspace(0, 2 * np.pi, 2 * N + 1)[:-1]\n",
    "\n",
    "# Make an array of vertices for the bulk of the sphere.\n",
    "r_v, theta_v, phi_v = np.meshgrid(np.array([1]), theta, phi)\n",
    "sphere_vertices_spherical_no_poles = np.c_[\n",
    "    r_v.reshape(-1), theta_v.reshape(-1), phi_v.reshape(-1)\n",
    "]\n",
    "\n",
    "# Add the poles to the array of vertices.\n",
    "sphere_vertices_spherical = np.zeros(\n",
    "    (sphere_vertices_spherical_no_poles.shape[0] + 2, 3), dtype=float\n",
    ")\n",
    "sphere_vertices_spherical[0, :] = [1.0, 0.0, 0.0]\n",
    "sphere_vertices_spherical[1:-1, :] = sphere_vertices_spherical_no_poles\n",
    "sphere_vertices_spherical[-1, :] = [1.0, np.pi, 0.0]\n",
    "\n",
    "# Create a PyVista mesh, and perform and plot a Delaunay tessellation.\n",
    "sphere_mesh_spherical_delaunay = pv.PolyData(sphere_vertices_spherical).delaunay_2d()\n",
    "sphere_mesh_spherical_delaunay.plot(show_edges=True)"
   ]
  },
  {
   "cell_type": "markdown",
   "id": "67af2104",
   "metadata": {},
   "source": [
    "### 1.2 Modify the faces\n"
   ]
  },
  {
   "cell_type": "markdown",
   "id": "3ab46aff",
   "metadata": {},
   "source": [
    "The Delaunay tessellation correctly tessellated some features of our mesh, but not others. We want the North pole ($\\theta=0$) and the South pole ($\\theta=\\pi$) to be connnected to all of the adjacent $\\theta$ values. This is handled by the `add_pole_faces()` function. We also need to connect the points with the largest $\\phi$ values to the points at $\\phi=0$. This is handled by the `wrap_phi()` function. Both of these functions are lumped into the `correct_mesh()` function, which should produce a correctly tessellated 2D mesh when called. The 2D mesh looks quite weird when plotted, as $\\phi=0$ is equivalent to $\\phi=2 \\pi$, so there are faces connecting the largest $\\phi$ edge to the $\\phi = 0$ edge; this disappears when we plot the mesh in Cartesian coordinates.\n"
   ]
  },
  {
   "cell_type": "code",
   "execution_count": null,
   "id": "962250a9",
   "metadata": {},
   "outputs": [],
   "source": [
    "num_polar_angles = len(theta)\n",
    "num_azimuthal_angles = len(phi)\n",
    "sphere_mesh_spherical_custom = correct_mesh(\n",
    "    sphere_mesh_spherical_delaunay, num_polar_angles, num_azimuthal_angles\n",
    ")\n",
    "sphere_mesh_spherical_custom.plot(show_edges=True)"
   ]
  },
  {
   "cell_type": "markdown",
   "id": "23a7b951",
   "metadata": {},
   "source": [
    "### 1.3 Map the 2D mesh to a 3D surface\n"
   ]
  },
  {
   "cell_type": "markdown",
   "id": "de728da2",
   "metadata": {},
   "source": [
    "Now that the 2D mesh is correctly tessellated, we can map our spherical, $(r, \\theta, \\phi)$ vertices to Cartesian, $(x, y, z)$, vertices, while keeping the same tessellation. This should result in a correctly tessellated sphere. We can also calculate vertex normals using the Cartesian coordinates of the vertices, and add the vertex normals to our mesh as point data.\n"
   ]
  },
  {
   "cell_type": "code",
   "execution_count": null,
   "id": "568cb616",
   "metadata": {},
   "outputs": [],
   "source": [
    "# Make an array storing the vertices in Cartesian coordinates.\n",
    "x_v = r_v * np.sin(theta_v) * np.cos(phi_v)\n",
    "y_v = r_v * np.sin(theta_v) * np.sin(phi_v)\n",
    "z_v = r_v * np.cos(theta_v)\n",
    "sphere_vertices_cartesian_no_poles = np.c_[\n",
    "    x_v.reshape(-1), y_v.reshape(-1), z_v.reshape(-1)\n",
    "]\n",
    "\n",
    "# Add the poles to the array of vertices.\n",
    "sphere_vertices_cartesian = np.zeros(\n",
    "    (sphere_vertices_cartesian_no_poles.shape[0] + 2, 3), dtype=float\n",
    ")\n",
    "sphere_vertices_cartesian[0, :] = [0.0, 0.0, 1.0]\n",
    "sphere_vertices_cartesian[1:-1, :] = sphere_vertices_cartesian_no_poles\n",
    "sphere_vertices_cartesian[-1, :] = [0.0, 00, -1.0]\n",
    "\n",
    "# Calculate the vertex normals.\n",
    "center = np.array([0, 0, 0])\n",
    "normals = sphere_vertices_cartesian - center[None, :]\n",
    "normals = normals / np.linalg.norm(normals, axis=1)[:, None]\n",
    "\n",
    "# Create and plot a new mesh, using the triangles array generated for the 2D mesh.\n",
    "sphere_mesh_cartesian_custom = pv.PolyData(\n",
    "    sphere_vertices_cartesian, sphere_mesh_spherical_custom.faces\n",
    ")\n",
    "sphere_mesh_cartesian_custom.point_data[\"normals\"] = normals\n",
    "sphere_mesh_cartesian_custom.plot(show_edges=True, color=\"lightblue\")"
   ]
  },
  {
   "cell_type": "markdown",
   "id": "5027aa45",
   "metadata": {},
   "source": [
    "## 2. Create a cube\n"
   ]
  },
  {
   "cell_type": "markdown",
   "id": "c9f40e90",
   "metadata": {},
   "source": [
    "### 2.1 Make a 2D mesh\n"
   ]
  },
  {
   "cell_type": "markdown",
   "id": "0434b964",
   "metadata": {},
   "source": [
    "We will start by generating 6 square meshes, one for each face of the cube. We will tesselate each face individually using the `delaunay_2d()` method.\n"
   ]
  },
  {
   "cell_type": "code",
   "execution_count": null,
   "id": "8da6f192",
   "metadata": {},
   "outputs": [],
   "source": [
    "# Generate arrays for x, y values\n",
    "N = 100\n",
    "L = 2\n",
    "x = np.linspace(-L / 2, L / 2, N)\n",
    "y = np.linspace(-L / 2, L / 2, N)\n",
    "z = np.array([0])\n",
    "\n",
    "# Make an array of vertices for a square.\n",
    "x_v, y_v, z_v = np.meshgrid(x, y, z)\n",
    "square_vertices_2d = np.c_[x_v.reshape(-1), y_v.reshape(-1), z_v.reshape(-1)]"
   ]
  },
  {
   "cell_type": "code",
   "execution_count": null,
   "id": "236b06dc",
   "metadata": {},
   "outputs": [],
   "source": [
    "# Generate vertices and triangles for the x = -L/2 face.\n",
    "vertices_x_min = np.zeros(square_vertices_2d.shape)\n",
    "vertices_x_min[:, 0] = -L / 2\n",
    "vertices_x_min[:, 1] = square_vertices_2d[:, 1]\n",
    "vertices_x_min[:, 2] = square_vertices_2d[:, 0]\n",
    "faces_x_min = pyvista_faces_to_numpy(pv.PolyData(vertices_x_min).delaunay_2d().faces)\n",
    "\n",
    "# Generate vertices and triangles for the x = +L/2 face.\n",
    "vertices_x_max = np.zeros(square_vertices_2d.shape)\n",
    "vertices_x_max[:, 0] = +L / 2\n",
    "vertices_x_max[:, 1] = square_vertices_2d[:, 1]\n",
    "vertices_x_max[:, 2] = square_vertices_2d[:, 0]\n",
    "faces_x_max = pyvista_faces_to_numpy(pv.PolyData(vertices_x_max).delaunay_2d().faces)\n",
    "\n",
    "# Generate vertices and triangles for the y = -L/2 face.\n",
    "vertices_y_min = np.zeros(square_vertices_2d.shape)\n",
    "vertices_y_min[:, 0] = square_vertices_2d[:, 0]\n",
    "vertices_y_min[:, 1] = -L / 2\n",
    "vertices_y_min[:, 2] = square_vertices_2d[:, 1]\n",
    "faces_y_min = pyvista_faces_to_numpy(pv.PolyData(vertices_y_min).delaunay_2d().faces)\n",
    "\n",
    "# Generate vertices and triangles for the y = +L/2 face.\n",
    "vertices_y_max = np.zeros(square_vertices_2d.shape)\n",
    "vertices_y_max[:, 0] = square_vertices_2d[:, 0]\n",
    "vertices_y_max[:, 1] = L / 2\n",
    "vertices_y_max[:, 2] = square_vertices_2d[:, 1]\n",
    "faces_y_max = pyvista_faces_to_numpy(pv.PolyData(vertices_y_max).delaunay_2d().faces)\n",
    "\n",
    "# Generate vertices and triangles for the z = -L/2 face.\n",
    "vertices_z_min = np.zeros(square_vertices_2d.shape)\n",
    "vertices_z_min[:, 0] = square_vertices_2d[:, 1]\n",
    "vertices_z_min[:, 1] = square_vertices_2d[:, 0]\n",
    "vertices_z_min[:, 2] = -L / 2\n",
    "faces_z_min = pyvista_faces_to_numpy(pv.PolyData(vertices_z_min).delaunay_2d().faces)\n",
    "\n",
    "# Generate vertices and triangles for the z = +L/2 face.\n",
    "vertices_z_max = np.zeros(square_vertices_2d.shape)\n",
    "vertices_z_max[:, 0] = square_vertices_2d[:, 1]\n",
    "vertices_z_max[:, 1] = square_vertices_2d[:, 0]\n",
    "vertices_z_max[:, 2] = L / 2\n",
    "faces_z_max = pyvista_faces_to_numpy(pv.PolyData(vertices_z_max).delaunay_2d().faces)"
   ]
  },
  {
   "cell_type": "markdown",
   "id": "8e2b80a2",
   "metadata": {},
   "source": [
    "### 2.2 Combine the 2D meshes to make a cube\n"
   ]
  },
  {
   "cell_type": "markdown",
   "id": "75446025",
   "metadata": {},
   "source": [
    "We will combine the 6 square meshes to make a cube. Once we have created a 3D mesh, we will use the `pyvista.PolyData.clean()` method to remove duplicate vertices, and update the triangles array. We can also calculate vertex normals, and add them to our mesh as point data.\n"
   ]
  },
  {
   "cell_type": "code",
   "execution_count": null,
   "id": "75bf8318",
   "metadata": {},
   "outputs": [],
   "source": [
    "# Create an array of vertices.\n",
    "cube_vertices_cartesian = np.vstack(\n",
    "    (\n",
    "        vertices_x_min,\n",
    "        vertices_x_max,\n",
    "        vertices_y_min,\n",
    "        vertices_y_max,\n",
    "        vertices_z_min,\n",
    "        vertices_z_max,\n",
    "    )\n",
    ")\n",
    "\n",
    "# Create an array of faces.\n",
    "num_vertices = square_vertices_2d.shape[0]\n",
    "cube_faces = numpy_faces_to_pyvista(\n",
    "    np.vstack(\n",
    "        (\n",
    "            faces_x_min,\n",
    "            faces_x_max + num_vertices,\n",
    "            faces_y_min + 2 * num_vertices,\n",
    "            faces_y_max + 3 * num_vertices,\n",
    "            faces_z_min + 4 * num_vertices,\n",
    "            faces_z_max + 5 * num_vertices,\n",
    "        )\n",
    "    )\n",
    ")\n",
    "\n",
    "# Create a 3D mesh.\n",
    "cube_mesh_cartesian_custom = pv.PolyData(cube_vertices_cartesian, cube_faces)\n",
    "cube_mesh_cartesian_custom.clean()\n",
    "\n",
    "# Calculate the vertex normals, and add them to the mesh as point data.\n",
    "center = np.array([0, 0, 0])\n",
    "normals = cube_mesh_cartesian_custom.points - center[None, :]\n",
    "normals = normals / np.linalg.norm(normals, axis=1)[:, None]\n",
    "cube_mesh_cartesian_custom.point_data[\"normals\"] = normals\n",
    "\n",
    "# Plot the mesh.\n",
    "cube_mesh_cartesian_custom.plot(show_edges=True, color=\"lightblue\")"
   ]
  },
  {
   "cell_type": "markdown",
   "id": "346b6b1d",
   "metadata": {},
   "source": [
    "## 3. Deform a sphere into a cube\n"
   ]
  },
  {
   "cell_type": "markdown",
   "id": "b3ee5308",
   "metadata": {},
   "source": [
    "### 3.1. Find intersection of cube faces with sphere vertex normals\n"
   ]
  },
  {
   "cell_type": "markdown",
   "id": "abe951b8",
   "metadata": {},
   "source": [
    "The first step to solve this problem is to find where the vertex normals of the sphere intersect the faces of the cube. This is a ray tracing problem, and can be solved using PyVista's built in ray tracing functionality. We will start by plotting the sphere mesh and the cube mesh on the same plot, along with the sphere's vertex normals. Next, we will use PyVista's `ray_trace()` method to find where the sphere's vertex normals intersect the faces of the cube. I tried to use the `multi_ray_trace()` method, but it threw some errors, possibly because I didn't install the correct packages with pip. The ray tracing calculation is handled by the `get_intersection_points()` function.\n"
   ]
  },
  {
   "cell_type": "code",
   "execution_count": null,
   "id": "787fc7aa",
   "metadata": {},
   "outputs": [],
   "source": [
    "pl = pv.Plotter(shape=(1, 2))\n",
    "\n",
    "# Left subplot: sphere and cube.\n",
    "pl.subplot(0, 0)\n",
    "pl.add_mesh(sphere_mesh_cartesian_custom, color=\"blue\", opacity=0.5)\n",
    "pl.add_mesh(cube_mesh_cartesian_custom, color=\"orange\", opacity=0.5)\n",
    "\n",
    "# Right subplot: cube and vertex normals.\n",
    "pl.subplot(0, 1)\n",
    "pl.add_mesh(cube_mesh_cartesian_custom, color=\"lightblue\")\n",
    "pl.add_arrows(\n",
    "    sphere_mesh_cartesian_custom.points,\n",
    "    sphere_mesh_cartesian_custom.point_data[\"normals\"],\n",
    "    mag=0.5,\n",
    "    color=\"red\",\n",
    ")\n",
    "\n",
    "pl.show()"
   ]
  },
  {
   "cell_type": "code",
   "execution_count": null,
   "id": "4dfc897d",
   "metadata": {},
   "outputs": [],
   "source": [
    "# Perform the ray tracing calculation.\n",
    "intersection_points, intersection_rays, intersection_cells = get_intersection_points(\n",
    "    sphere_mesh_cartesian_custom,\n",
    "    cube_mesh_cartesian_custom,\n",
    ")\n",
    "\n",
    "# Check that the number of intersection points is equal to the number of vertices.\n",
    "print(sphere_mesh_cartesian_custom.points.shape)\n",
    "print(intersection_points.shape)"
   ]
  },
  {
   "cell_type": "markdown",
   "id": "c146434b",
   "metadata": {},
   "source": [
    "### 3.2 Apply the deformation\n"
   ]
  },
  {
   "cell_type": "markdown",
   "id": "78a4f98f",
   "metadata": {},
   "source": [
    "Now that we have found the intersection points between the rays and the cube faces, we can set up a velocity field. We well define the velocity field such that if each sphere vertex starts at its original position at $t=0$, at $t=1$, it will reach the intersection point. To deform the sphere, we simply need to evolve the position of each vertex. We can use the `animate_sphere_to_cube` function to produce an inline plot of the deformed sphere with an adjustable slider for the deformation parameter, $t$.\n"
   ]
  },
  {
   "cell_type": "code",
   "execution_count": null,
   "id": "ca401816",
   "metadata": {},
   "outputs": [],
   "source": [
    "# Define the velocity field.\n",
    "velocities = intersection_points - sphere_mesh_cartesian_custom.points\n",
    "\n",
    "# Produce an inline plot of the deformed sphere.\n",
    "animate_sphere_to_cube(\n",
    "    sphere_mesh_cartesian_custom,\n",
    "    cube_mesh_cartesian_custom,\n",
    "    velocities,\n",
    ")"
   ]
  },
  {
   "cell_type": "markdown",
   "id": "29981c25",
   "metadata": {},
   "source": [
    "## A. Comparison of 2D tessellation with Delaunay 3D tessellation\n"
   ]
  },
  {
   "cell_type": "markdown",
   "id": "cfc74ac7",
   "metadata": {},
   "source": [
    "### A.1 Sphere\n"
   ]
  },
  {
   "cell_type": "markdown",
   "id": "cb88c0d6",
   "metadata": {},
   "source": [
    "We can directly tessellate the sphere's vertices in 3D using the `delaunay_3d()` method. However, the second mesh is not rotationally symmetric about the $z$ axis - this is most obvious when looking down the barrel of the $x$ axis, with the $z$ axis pointing upwards.\n"
   ]
  },
  {
   "cell_type": "code",
   "execution_count": null,
   "id": "39758fa5",
   "metadata": {},
   "outputs": [],
   "source": [
    "sphere_mesh_cartesian_delaunay = pv.PolyData(\n",
    "    sphere_mesh_cartesian_custom.points\n",
    ").delaunay_3d()\n",
    "sphere_mesh_cartesian_delaunay.plot(show_edges=True, color=\"lightblue\")"
   ]
  },
  {
   "cell_type": "markdown",
   "id": "0fa91729",
   "metadata": {},
   "source": [
    "### A.2 Cube\n"
   ]
  },
  {
   "cell_type": "markdown",
   "id": "485984e7",
   "metadata": {},
   "source": [
    "We can directly tessellate the cube's vertices in 3D using the `delaunay_3d()` method; however, the tessellation produced by this method is not very good.\n"
   ]
  },
  {
   "cell_type": "code",
   "execution_count": null,
   "id": "4007dea7",
   "metadata": {},
   "outputs": [],
   "source": [
    "cube_mesh_cartesian_delaunay = pv.PolyData(\n",
    "    cube_mesh_cartesian_custom.points\n",
    ").delaunay_3d()\n",
    "cube_mesh_cartesian_delaunay.plot(show_edges=True, color=\"lightblue\")"
   ]
  }
 ],
 "metadata": {
  "kernelspec": {
   "display_name": "venv",
   "language": "python",
   "name": "python3"
  },
  "language_info": {
   "codemirror_mode": {
    "name": "ipython",
    "version": 3
   },
   "file_extension": ".py",
   "mimetype": "text/x-python",
   "name": "python",
   "nbconvert_exporter": "python",
   "pygments_lexer": "ipython3",
   "version": "3.13.5"
  }
 },
 "nbformat": 4,
 "nbformat_minor": 5
}
