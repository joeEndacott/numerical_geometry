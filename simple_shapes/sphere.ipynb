{
 "cells": [
  {
   "cell_type": "markdown",
   "id": "08b50536",
   "metadata": {},
   "source": [
    "# Create a sphere using PyVista\n",
    "\n",
    "This notebook creates a sphere using PyVista. 2 different methods are used:\n",
    "\n",
    "1. Use PyVista's Delaunay triangulation method to create a sphere.\n",
    "2. Construct a sphere from scratch by generating arrays for vertices, triangles and vertex normals.\n"
   ]
  },
  {
   "cell_type": "code",
   "execution_count": null,
   "id": "534235fa",
   "metadata": {},
   "outputs": [],
   "source": [
    "import numpy as np\n",
    "import pyvista as pv\n",
    "from scipy.spatial import ConvexHull"
   ]
  },
  {
   "cell_type": "markdown",
   "id": "cdabe8e9",
   "metadata": {},
   "source": [
    "## 1 - Generate a cube using PyVista Delaunay triangulation.\n"
   ]
  },
  {
   "cell_type": "markdown",
   "id": "b9b79c22",
   "metadata": {},
   "source": [
    "### 1.1 - Vertices\n",
    "\n",
    "We want to generate an array of vertices with the correct shape.\n"
   ]
  },
  {
   "cell_type": "markdown",
   "id": "e6c70e82",
   "metadata": {},
   "source": [
    "Make arrays of $r$, $\\theta$, $\\phi$ values.\n"
   ]
  },
  {
   "cell_type": "code",
   "execution_count": null,
   "id": "b3da9cc0",
   "metadata": {},
   "outputs": [],
   "source": [
    "r = np.array([1])\n",
    "theta = np.linspace(0, np.pi, 10)\n",
    "phi = np.linspace(0, 2 * np.pi, 20)"
   ]
  },
  {
   "cell_type": "markdown",
   "id": "5007cc78",
   "metadata": {},
   "source": [
    "Convert from spherical coordinates to Cartesian coordinates.\n"
   ]
  },
  {
   "cell_type": "code",
   "execution_count": null,
   "id": "e6dffa2d",
   "metadata": {},
   "outputs": [],
   "source": [
    "r_v, theta_v, phi_v = np.meshgrid(np.array([1]), theta, phi)\n",
    "\n",
    "x_v = r_v * np.sin(theta_v) * np.cos(phi_v)\n",
    "y_v = r_v * np.sin(theta_v) * np.sin(phi_v)\n",
    "z_v = r_v * np.cos(theta_v)"
   ]
  },
  {
   "cell_type": "markdown",
   "id": "8e3bc31a",
   "metadata": {},
   "source": [
    "Combine the $x$, $y$, $z$ values into an array, `vertices`, with the correct shape. `vertices` should have shape ($NM$, 3), where $N$, $M$ is the number of $\\theta$, $\\phi$ values.\n"
   ]
  },
  {
   "cell_type": "code",
   "execution_count": null,
   "id": "aa93cd22",
   "metadata": {},
   "outputs": [],
   "source": [
    "vertices = np.c_[x_v.reshape(-1), y_v.reshape(-1), z_v.reshape(-1)]\n",
    "\n",
    "vertices.shape"
   ]
  },
  {
   "cell_type": "markdown",
   "id": "5b559982",
   "metadata": {},
   "source": [
    "### 1.2 - PyVista mesh\n",
    "\n",
    "We want to create a PyVista mesh.\n"
   ]
  },
  {
   "cell_type": "markdown",
   "id": "86e30b01",
   "metadata": {},
   "source": [
    "Create and plot the PyVista mesh. This mesh only has vertices (no faces).\n"
   ]
  },
  {
   "cell_type": "code",
   "execution_count": null,
   "id": "f55d49b6",
   "metadata": {},
   "outputs": [],
   "source": [
    "mesh = pv.PolyData(vertices)\n",
    "mesh.plot()"
   ]
  },
  {
   "cell_type": "markdown",
   "id": "d35e6e97",
   "metadata": {},
   "source": [
    "### 1.3 - Connected surface\n",
    "\n",
    "We want to create a connected surface.\n"
   ]
  },
  {
   "cell_type": "markdown",
   "id": "fd8043b0",
   "metadata": {},
   "source": [
    "Create and plot a connected surface, using Delaunay triangulation.\n"
   ]
  },
  {
   "cell_type": "code",
   "execution_count": null,
   "id": "9dea72fa",
   "metadata": {},
   "outputs": [],
   "source": [
    "surface = mesh.delaunay_3d()\n",
    "surface.plot(show_edges=True)"
   ]
  },
  {
   "cell_type": "markdown",
   "id": "9dea72fa",
   "metadata": {},
   "source": [
    "## 2 - Generate a sphere from scratch.\n"
   ]
  },
  {
   "cell_type": "markdown",
   "id": "6d5c73d6",
   "metadata": {},
   "source": [
    "### 2.1 - Vertices\n",
    "\n",
    "We want to generate an array of vertices with the correct shape.\n"
   ]
  },
  {
   "cell_type": "markdown",
   "id": "e48f3cd3",
   "metadata": {},
   "source": [
    "Make arrays of $r$, $\\theta$, $\\phi$ values.\n"
   ]
  },
  {
   "cell_type": "code",
   "execution_count": null,
   "id": "ecf57666",
   "metadata": {},
   "outputs": [],
   "source": [
    "r = np.array([1])\n",
    "theta = np.linspace(0, np.pi, 10)\n",
    "phi = np.linspace(0, 2 * np.pi, 20)"
   ]
  },
  {
   "cell_type": "markdown",
   "id": "754d80c1",
   "metadata": {},
   "source": [
    "Convert from spherical coordinates to Cartesian coordinates.\n"
   ]
  },
  {
   "cell_type": "code",
   "execution_count": null,
   "id": "f9917065",
   "metadata": {},
   "outputs": [],
   "source": [
    "r_v, theta_v, phi_v = np.meshgrid(np.array([1]), theta, phi)\n",
    "\n",
    "x_v = r_v * np.sin(theta_v) * np.cos(phi_v)\n",
    "y_v = r_v * np.sin(theta_v) * np.sin(phi_v)\n",
    "z_v = r_v * np.cos(theta_v)"
   ]
  },
  {
   "cell_type": "markdown",
   "id": "1b2a2071",
   "metadata": {},
   "source": [
    "Combine the $x$, $y$, $z$ values into an array, `vertices`, with the correct shape. `vertices` should have shape ($NM$, 3), where $N$, $M$ is the number of $\\theta$, $\\phi$ values.\n"
   ]
  },
  {
   "cell_type": "code",
   "execution_count": null,
   "id": "f9d0239f",
   "metadata": {},
   "outputs": [],
   "source": [
    "vertices = np.c_[x_v.reshape(-1), y_v.reshape(-1), z_v.reshape(-1)]\n",
    "\n",
    "vertices.shape"
   ]
  },
  {
   "cell_type": "markdown",
   "id": "4cd7f3c8",
   "metadata": {},
   "source": [
    "### 2.2 - Vertex normals\n",
    "\n",
    "We want to generate an array of vertex normals with the correct shape.\n"
   ]
  },
  {
   "cell_type": "markdown",
   "id": "325c1360",
   "metadata": {},
   "source": [
    "Calculate the normals.\n"
   ]
  },
  {
   "cell_type": "code",
   "execution_count": null,
   "id": "164af5c1",
   "metadata": {},
   "outputs": [],
   "source": [
    "center = np.array([0, 0, 0])\n",
    "normals = vertices - center[None, :]"
   ]
  },
  {
   "cell_type": "markdown",
   "id": "5f6c185e",
   "metadata": {},
   "source": [
    "Normalize the normals. Similarly to `vertices`, `normals` should have shape ($NM$,3).\n"
   ]
  },
  {
   "cell_type": "code",
   "execution_count": null,
   "id": "6461c2a3",
   "metadata": {},
   "outputs": [],
   "source": [
    "normals = normals / np.linalg.norm(normals, axis=1)[:, None]\n",
    "\n",
    "normals.shape"
   ]
  },
  {
   "cell_type": "markdown",
   "id": "f98967c0",
   "metadata": {},
   "source": [
    "### 2.3 - Triangles\n",
    "\n",
    "We want to generate an array of triangles.\n"
   ]
  },
  {
   "cell_type": "markdown",
   "id": "e9fe6eb1",
   "metadata": {},
   "source": [
    "The triangulation is handled by SciPy's `ConvexHull` method. The format of the triangle array, `triangles`, is `[[v1, v2, v3], [v4, v5, v6], ...]`.\n"
   ]
  },
  {
   "cell_type": "code",
   "execution_count": null,
   "id": "cf706fa0",
   "metadata": {},
   "outputs": [],
   "source": [
    "triangles = ConvexHull(vertices).simplices\n",
    "\n",
    "triangles.shape"
   ]
  },
  {
   "cell_type": "markdown",
   "id": "22993583",
   "metadata": {},
   "source": [
    "### 2.4 - PyVista mesh\n",
    "\n",
    "We want to create the PyVista mesh.\n"
   ]
  },
  {
   "cell_type": "markdown",
   "id": "c1c20f2c",
   "metadata": {},
   "source": [
    "PyVista expects the triangles to be given in the format `[3, v1, v2, v3, 3, v4, v5, v6, ...]`. Reformat `triangles`.\n"
   ]
  },
  {
   "cell_type": "code",
   "execution_count": null,
   "id": "2ed5364a",
   "metadata": {},
   "outputs": [],
   "source": [
    "triangles_reformatted = np.zeros((triangles.shape[0], 4), dtype=int)\n",
    "triangles_reformatted[:, 0] = 3\n",
    "triangles_reformatted[:, 1:] = triangles"
   ]
  },
  {
   "cell_type": "markdown",
   "id": "1051955d",
   "metadata": {},
   "source": [
    "Flatten `triangles_reformatted`.\n"
   ]
  },
  {
   "cell_type": "code",
   "execution_count": null,
   "id": "385aaf6b",
   "metadata": {},
   "outputs": [],
   "source": [
    "triangles_flattened = triangles_reformatted.ravel()\n",
    "\n",
    "triangles_flattened.shape"
   ]
  },
  {
   "cell_type": "markdown",
   "id": "f9840069",
   "metadata": {},
   "source": [
    "Create the PyVista mesh, and add the normals as point data. The mesh should have $NM$ vertices.\n"
   ]
  },
  {
   "cell_type": "code",
   "execution_count": null,
   "id": "48a56258",
   "metadata": {},
   "outputs": [],
   "source": [
    "cube_mesh = pv.PolyData(vertices, triangles_flattened)\n",
    "cube_mesh.point_data[\"normals\"] = normals\n",
    "\n",
    "print(f\"Number of vertices: {cube_mesh.n_points}\")\n",
    "print(f\"Number of cells: {cube_mesh.n_cells}\")"
   ]
  },
  {
   "cell_type": "markdown",
   "id": "7b0e6723",
   "metadata": {},
   "source": [
    "### 2.5 - Plot the mesh\n",
    "\n",
    "We want to plot the PyVista mesh.\n"
   ]
  },
  {
   "cell_type": "markdown",
   "id": "81e37f52",
   "metadata": {},
   "source": [
    "Plot the PyVista mesh, along with vertex normals.\n"
   ]
  },
  {
   "cell_type": "code",
   "execution_count": null,
   "id": "de046020",
   "metadata": {},
   "outputs": [],
   "source": [
    "pl = pv.Plotter()\n",
    "\n",
    "pl.add_mesh(cube_mesh, show_edges=True, color=\"lightblue\")\n",
    "arrows = cube_mesh.glyph(orient=\"normals\", scale=False, factor=0.15)\n",
    "pl.add_mesh(arrows, color=\"red\")\n",
    "\n",
    "pl.show()"
   ]
  },
  {
   "cell_type": "code",
   "execution_count": null,
   "id": "729be57b",
   "metadata": {},
   "outputs": [],
   "source": []
  }
 ],
 "metadata": {
  "kernelspec": {
   "display_name": "venv",
   "language": "python",
   "name": "python3"
  },
  "language_info": {
   "codemirror_mode": {
    "name": "ipython",
    "version": 3
   },
   "file_extension": ".py",
   "mimetype": "text/x-python",
   "name": "python",
   "nbconvert_exporter": "python",
   "pygments_lexer": "ipython3",
   "version": "3.13.5"
  }
 },
 "nbformat": 4,
 "nbformat_minor": 5
}
