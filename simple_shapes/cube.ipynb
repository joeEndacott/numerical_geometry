{
 "cells": [
  {
   "cell_type": "markdown",
   "id": "08b50536",
   "metadata": {},
   "source": [
    "# Create a cube using PyVista\n",
    "\n",
    "This notebook creates a cube using PyVista. There are 3 different iterations:\n",
    "\n",
    "1. Use PyVista's Delaunay triangulation method to create a cube with 8 vertices.\n",
    "2. Construct a cube with 8 vertices from scratch (ish) by generating arrays for vertices and vertex normals, and using `scipy.spatial.ConvexHull` to generate a triangles array.\n",
    "3. Construct a cube with a variable number of vertices per face from scratch (ish) by generating arrays for vertices and vertex normals, and using `scipy.spatial.ConvexHull` to generate a triangles array.\n"
   ]
  },
  {
   "cell_type": "code",
   "execution_count": 2,
   "id": "534235fa",
   "metadata": {},
   "outputs": [],
   "source": [
    "import numpy as np\n",
    "import pyvista as pv\n",
    "from scipy.spatial import ConvexHull"
   ]
  },
  {
   "cell_type": "markdown",
   "id": "cdabe8e9",
   "metadata": {},
   "source": [
    "## 1 - Generate a cube with 8 vertices using PyVista Delaunay triangulation\n"
   ]
  },
  {
   "cell_type": "markdown",
   "id": "b9b79c22",
   "metadata": {},
   "source": [
    "### 1.1 - Vertices\n",
    "\n",
    "We want to generate an array of vertices with the correct shape.\n"
   ]
  },
  {
   "cell_type": "markdown",
   "id": "deff3018",
   "metadata": {},
   "source": [
    "Make arrays of $x$, $y$, $z$ values.\n"
   ]
  },
  {
   "cell_type": "code",
   "execution_count": 2,
   "id": "20082b8b",
   "metadata": {},
   "outputs": [],
   "source": [
    "x = np.linspace(0, 1, 2)\n",
    "y = np.linspace(0, 1, 2)\n",
    "z = np.linspace(0, 1, 2)"
   ]
  },
  {
   "cell_type": "markdown",
   "id": "ee5933d9",
   "metadata": {},
   "source": [
    "Combine the $x$, $y$, $z$ values into an array, `vertices`, with the correct shape. A cube has 8 vertices, and each vertex has 3 coordinates, so `vertices` should have shape (8,3)\n"
   ]
  },
  {
   "cell_type": "code",
   "execution_count": 3,
   "id": "b35e1f32",
   "metadata": {},
   "outputs": [
    {
     "data": {
      "text/plain": [
       "(8, 3)"
      ]
     },
     "execution_count": 3,
     "metadata": {},
     "output_type": "execute_result"
    }
   ],
   "source": [
    "x_v, y_v, z_v = np.meshgrid(x, y, z)\n",
    "vertices = np.c_[x_v.reshape(-1), y_v.reshape(-1), z_v.reshape(-1)]\n",
    "\n",
    "vertices.shape"
   ]
  },
  {
   "cell_type": "markdown",
   "id": "2f9f177b",
   "metadata": {},
   "source": [
    "### 1.2 - PyVista mesh\n",
    "\n",
    "We want to create a PyVista mesh.\n"
   ]
  },
  {
   "cell_type": "markdown",
   "id": "fc29951b",
   "metadata": {},
   "source": [
    "Create and plot the PyVista mesh. This mesh only has vertices (no faces).\n"
   ]
  },
  {
   "cell_type": "code",
   "execution_count": 4,
   "id": "783084ab",
   "metadata": {},
   "outputs": [
    {
     "data": {
      "application/vnd.jupyter.widget-view+json": {
       "model_id": "43eace54b185481886796776e126c5eb",
       "version_major": 2,
       "version_minor": 0
      },
      "text/plain": [
       "Widget(value='<iframe src=\"http://localhost:56109/index.html?ui=P_0x1287db4d0_0&reconnect=auto\" class=\"pyvista…"
      ]
     },
     "metadata": {},
     "output_type": "display_data"
    }
   ],
   "source": [
    "mesh = pv.PolyData(vertices)\n",
    "mesh.plot()"
   ]
  },
  {
   "cell_type": "markdown",
   "id": "f00324c6",
   "metadata": {},
   "source": [
    "### 1.3 - Connected surface\n",
    "\n",
    "We want to create a connected surface.\n"
   ]
  },
  {
   "cell_type": "markdown",
   "id": "71053f10",
   "metadata": {},
   "source": [
    "Create and plot a connected surface, using Delaunay triangulation.\n"
   ]
  },
  {
   "cell_type": "code",
   "execution_count": 5,
   "id": "9dea72fa",
   "metadata": {},
   "outputs": [
    {
     "data": {
      "application/vnd.jupyter.widget-view+json": {
       "model_id": "c66829e2f0444991ad9c8e8a7459ed92",
       "version_major": 2,
       "version_minor": 0
      },
      "text/plain": [
       "Widget(value='<iframe src=\"http://localhost:56109/index.html?ui=P_0x154554f50_1&reconnect=auto\" class=\"pyvista…"
      ]
     },
     "metadata": {},
     "output_type": "display_data"
    }
   ],
   "source": [
    "surface = mesh.delaunay_3d()\n",
    "surface.plot(show_edges=True)"
   ]
  },
  {
   "cell_type": "markdown",
   "id": "a171f6a8",
   "metadata": {},
   "source": [
    "## 2 - Generate a cube with 8 vertices from scratch (ish)\n"
   ]
  },
  {
   "cell_type": "markdown",
   "id": "df1f5de8",
   "metadata": {},
   "source": [
    "### 2.1 - Vertices\n",
    "\n",
    "We want to generate an array of vertices with the correct shape.\n"
   ]
  },
  {
   "cell_type": "markdown",
   "id": "67095597",
   "metadata": {},
   "source": [
    "Make arrays of $x$, $y$, $z$ values.\n"
   ]
  },
  {
   "cell_type": "code",
   "execution_count": 6,
   "id": "585f3ccf",
   "metadata": {},
   "outputs": [],
   "source": [
    "x = np.linspace(0, 1, 2)\n",
    "y = np.linspace(0, 1, 2)\n",
    "z = np.linspace(0, 1, 2)"
   ]
  },
  {
   "cell_type": "markdown",
   "id": "6e7c7b7f",
   "metadata": {},
   "source": [
    "Combine the $x$, $y$, $z$ values into an array, `vertices`, with the correct shape. A cube has 8 vertices, and each vertex has 3 coordinates, so `vertices` should have shape (8,3)\n"
   ]
  },
  {
   "cell_type": "code",
   "execution_count": 7,
   "id": "7ee04129",
   "metadata": {},
   "outputs": [
    {
     "data": {
      "text/plain": [
       "(8, 3)"
      ]
     },
     "execution_count": 7,
     "metadata": {},
     "output_type": "execute_result"
    }
   ],
   "source": [
    "x_v, y_v, z_v = np.meshgrid(x, y, z)\n",
    "vertices = np.c_[x_v.reshape(-1), y_v.reshape(-1), z_v.reshape(-1)]\n",
    "\n",
    "vertices.shape"
   ]
  },
  {
   "cell_type": "markdown",
   "id": "4cd7f3c8",
   "metadata": {},
   "source": [
    "### 2.2 - Vertex normals\n",
    "\n",
    "We want to generate an array of vertex normals with the correct shape.\n"
   ]
  },
  {
   "cell_type": "markdown",
   "id": "93498980",
   "metadata": {},
   "source": [
    "Calculate the normals.\n"
   ]
  },
  {
   "cell_type": "code",
   "execution_count": 8,
   "id": "a94d7514",
   "metadata": {},
   "outputs": [],
   "source": [
    "center = np.array([0.5, 0.5, 0.5])\n",
    "normals = vertices - center[None, :]"
   ]
  },
  {
   "cell_type": "markdown",
   "id": "2e88b7ad",
   "metadata": {},
   "source": [
    "Normalize the normals. Similarly to `vertices`, `normals` should have shape (8,3).\n"
   ]
  },
  {
   "cell_type": "code",
   "execution_count": 9,
   "id": "c0ce044f",
   "metadata": {},
   "outputs": [
    {
     "data": {
      "text/plain": [
       "(8, 3)"
      ]
     },
     "execution_count": 9,
     "metadata": {},
     "output_type": "execute_result"
    }
   ],
   "source": [
    "normals = normals / np.linalg.norm(normals, axis=1)[:, None]\n",
    "\n",
    "normals.shape"
   ]
  },
  {
   "cell_type": "markdown",
   "id": "f98967c0",
   "metadata": {},
   "source": [
    "### 2.3 - Triangles\n",
    "\n",
    "We want to generate an array of triangles.\n"
   ]
  },
  {
   "cell_type": "markdown",
   "id": "9cc2ea67",
   "metadata": {},
   "source": [
    "The triangulation is handled by SciPy's `ConvexHull` method. The triangle array, `triangles`, should have shape (12, 3) - there are 12 triangles (2 triangles per face), and each triangle has 3 vertices. The format of `triangles` is `[[v1, v2, v3], [v4, v5, v6], ...]`.\n"
   ]
  },
  {
   "cell_type": "code",
   "execution_count": 10,
   "id": "cf706fa0",
   "metadata": {},
   "outputs": [
    {
     "data": {
      "text/plain": [
       "(12, 3)"
      ]
     },
     "execution_count": 10,
     "metadata": {},
     "output_type": "execute_result"
    }
   ],
   "source": [
    "triangles = ConvexHull(vertices).simplices\n",
    "\n",
    "triangles.shape"
   ]
  },
  {
   "cell_type": "markdown",
   "id": "fe596453",
   "metadata": {},
   "source": [
    "### 2.4 - PyVista mesh\n",
    "\n",
    "We want to create the PyVista mesh.\n"
   ]
  },
  {
   "cell_type": "markdown",
   "id": "867fa7c6",
   "metadata": {},
   "source": [
    "PyVista expects the triangles to be given in the format `[3, v1, v2, v3, 3, v4, v5, v6, ...]`. Reformat `triangles`.\n"
   ]
  },
  {
   "cell_type": "code",
   "execution_count": 11,
   "id": "dea033ab",
   "metadata": {},
   "outputs": [],
   "source": [
    "triangles_reformatted = np.zeros((triangles.shape[0], 4), dtype=int)\n",
    "triangles_reformatted[:, 0] = 3\n",
    "triangles_reformatted[:, 1:] = triangles"
   ]
  },
  {
   "cell_type": "markdown",
   "id": "ddcff16a",
   "metadata": {},
   "source": [
    "Flatten `triangles_reformatted`. The flattened array, `triangles_flattened`, should have shape (48,) - there are 12 triangles, each with 3 vertices; 12 $\\cdot$ (3+1) = 48.\n"
   ]
  },
  {
   "cell_type": "code",
   "execution_count": 12,
   "id": "e77e4e8f",
   "metadata": {},
   "outputs": [
    {
     "data": {
      "text/plain": [
       "(48,)"
      ]
     },
     "execution_count": 12,
     "metadata": {},
     "output_type": "execute_result"
    }
   ],
   "source": [
    "triangles_flattened = triangles_reformatted.ravel()\n",
    "\n",
    "triangles_flattened.shape"
   ]
  },
  {
   "cell_type": "markdown",
   "id": "6995ec44",
   "metadata": {},
   "source": [
    "Create the PyVista mesh, and add the normals as point data. The mesh should have 8 vertices, and 12 cells.\n"
   ]
  },
  {
   "cell_type": "code",
   "execution_count": 13,
   "id": "f9dbb9af",
   "metadata": {},
   "outputs": [
    {
     "name": "stdout",
     "output_type": "stream",
     "text": [
      "Number of vertices: 8\n",
      "Number of cells: 12\n"
     ]
    }
   ],
   "source": [
    "cube_mesh = pv.PolyData(vertices, triangles_flattened)\n",
    "cube_mesh.point_data[\"normals\"] = normals\n",
    "\n",
    "print(f\"Number of vertices: {cube_mesh.n_points}\")\n",
    "print(f\"Number of cells: {cube_mesh.n_cells}\")"
   ]
  },
  {
   "cell_type": "markdown",
   "id": "7b0e6723",
   "metadata": {},
   "source": [
    "### 2.5 - Plot the mesh\n",
    "\n",
    "We want to plot the PyVista mesh.\n"
   ]
  },
  {
   "cell_type": "markdown",
   "id": "26763074",
   "metadata": {},
   "source": [
    "Plot the PyVista mesh, along with the vertex normals.\n"
   ]
  },
  {
   "cell_type": "code",
   "execution_count": 14,
   "id": "de046020",
   "metadata": {},
   "outputs": [
    {
     "data": {
      "application/vnd.jupyter.widget-view+json": {
       "model_id": "a83e100f9b894198980b7399a863a301",
       "version_major": 2,
       "version_minor": 0
      },
      "text/plain": [
       "Widget(value='<iframe src=\"http://localhost:56109/index.html?ui=P_0x162660190_2&reconnect=auto\" class=\"pyvista…"
      ]
     },
     "metadata": {},
     "output_type": "display_data"
    }
   ],
   "source": [
    "pl = pv.Plotter()\n",
    "\n",
    "pl.add_mesh(cube_mesh, show_edges=True, color=\"lightblue\")\n",
    "arrows = cube_mesh.glyph(orient=\"normals\", scale=False, factor=0.3)\n",
    "pl.add_mesh(arrows, color=\"red\")\n",
    "\n",
    "pl.show()"
   ]
  },
  {
   "cell_type": "markdown",
   "id": "c4d8f7bf",
   "metadata": {},
   "source": [
    "## 3 - Generate a cube with a variable number of vertices per face from scratch (ish)\n"
   ]
  },
  {
   "cell_type": "markdown",
   "id": "61736304",
   "metadata": {},
   "source": [
    "### 3.1 - Vertices\n",
    "\n",
    "We want to generate an array of vertices with the correct shape.\n"
   ]
  },
  {
   "cell_type": "markdown",
   "id": "7699446a",
   "metadata": {},
   "source": [
    "Make arrays of all possible $x$, $y$, $z$ values. $N$ is the number of vertices per edge.\n"
   ]
  },
  {
   "cell_type": "code",
   "execution_count": 107,
   "id": "43d87650",
   "metadata": {},
   "outputs": [],
   "source": [
    "N = 11\n",
    "\n",
    "x = np.linspace(0, 1, N)\n",
    "y = np.linspace(0, 1, N)\n",
    "z = np.linspace(0, 1, N)"
   ]
  },
  {
   "cell_type": "markdown",
   "id": "d02b3354",
   "metadata": {},
   "source": [
    "Generate vertices for each plane. Each array should have shape ($N^2$, 3)\n"
   ]
  },
  {
   "cell_type": "code",
   "execution_count": 108,
   "id": "9f4dfaa8",
   "metadata": {},
   "outputs": [
    {
     "data": {
      "text/plain": [
       "(121, 3)"
      ]
     },
     "execution_count": 108,
     "metadata": {},
     "output_type": "execute_result"
    }
   ],
   "source": [
    "# x = 0 plane.\n",
    "x_v, y_v, z_v = np.meshgrid(np.array([0]), y, z)\n",
    "vertices_x_0 = np.c_[x_v.reshape(-1), y_v.reshape(-1), z_v.reshape(-1)]\n",
    "\n",
    "# x = 1 plane.\n",
    "x_v, y_v, z_v = np.meshgrid(np.array([1]), y, z)\n",
    "vertices_x_1 = np.c_[x_v.reshape(-1), y_v.reshape(-1), z_v.reshape(-1)]\n",
    "\n",
    "# y = 0 plane.\n",
    "x_v, y_v, z_v = np.meshgrid(x, np.array([0]), z)\n",
    "vertices_y_0 = np.c_[x_v.reshape(-1), y_v.reshape(-1), z_v.reshape(-1)]\n",
    "\n",
    "# y = 1 plane.\n",
    "x_v, y_v, z_v = np.meshgrid(x, np.array([1]), z)\n",
    "vertices_y_1 = np.c_[x_v.reshape(-1), y_v.reshape(-1), z_v.reshape(-1)]\n",
    "\n",
    "# z = 0 plane.\n",
    "x_v, y_v, z_v = np.meshgrid(x, y, np.array([0]))\n",
    "vertices_z_0 = np.c_[x_v.reshape(-1), y_v.reshape(-1), z_v.reshape(-1)]\n",
    "\n",
    "# z = 1 plane.\n",
    "x_v, y_v, z_v = np.meshgrid(x, y, np.array([1]))\n",
    "vertices_z_1 = np.c_[x_v.reshape(-1), y_v.reshape(-1), z_v.reshape(-1)]\n",
    "\n",
    "vertices_z_1.shape"
   ]
  },
  {
   "cell_type": "markdown",
   "id": "a5eb1181",
   "metadata": {},
   "source": [
    "Combine the all of the vertices into one array, `vertices`. `vertices` should have shape ($6 N^2$, 3).\n"
   ]
  },
  {
   "cell_type": "code",
   "execution_count": 109,
   "id": "10e72a39",
   "metadata": {},
   "outputs": [
    {
     "data": {
      "text/plain": [
       "(726, 3)"
      ]
     },
     "execution_count": 109,
     "metadata": {},
     "output_type": "execute_result"
    }
   ],
   "source": [
    "# Number of vertices per face.\n",
    "num_vertices = vertices_z_1.shape[0]\n",
    "\n",
    "# Initialize an empty array to store the vertices.\n",
    "vertices = np.zeros((num_vertices * 6, 3), dtype=float)\n",
    "\n",
    "# Populate the array.\n",
    "for i, arr in enumerate(\n",
    "    [vertices_x_0, vertices_x_1, vertices_y_0, vertices_y_1, vertices_z_0, vertices_z_1]\n",
    "):\n",
    "    vertices[i * num_vertices : (i + 1) * num_vertices, :] = arr\n",
    "\n",
    "vertices.shape"
   ]
  },
  {
   "cell_type": "markdown",
   "id": "7674de1d",
   "metadata": {},
   "source": [
    "Remove duplicate elements from `vertices`. This block of code may need to be modified to account for floating point errors.\n"
   ]
  },
  {
   "cell_type": "code",
   "execution_count": 110,
   "id": "4652ff21",
   "metadata": {},
   "outputs": [
    {
     "data": {
      "text/plain": [
       "(602, 3)"
      ]
     },
     "execution_count": 110,
     "metadata": {},
     "output_type": "execute_result"
    }
   ],
   "source": [
    "vertices = np.unique(vertices, axis=0)\n",
    "vertices.shape"
   ]
  },
  {
   "cell_type": "markdown",
   "id": "75d04a84",
   "metadata": {},
   "source": [
    "### 3.2 - Vertex normals\n",
    "\n",
    "We want to generate an array of vertex normals with the correct shape.\n"
   ]
  },
  {
   "cell_type": "markdown",
   "id": "335dc3fb",
   "metadata": {},
   "source": [
    "Calculate the normals.\n"
   ]
  },
  {
   "cell_type": "code",
   "execution_count": 111,
   "id": "124dc18e",
   "metadata": {},
   "outputs": [],
   "source": [
    "center = np.array([0.5, 0.5, 0.5])\n",
    "normals = vertices - center[None, :]"
   ]
  },
  {
   "cell_type": "markdown",
   "id": "3771f4b8",
   "metadata": {},
   "source": [
    "Normalize the normals. `normals` should have the same shape as `vertices`.\n"
   ]
  },
  {
   "cell_type": "code",
   "execution_count": 112,
   "id": "ff15de7e",
   "metadata": {},
   "outputs": [
    {
     "data": {
      "text/plain": [
       "(602, 3)"
      ]
     },
     "execution_count": 112,
     "metadata": {},
     "output_type": "execute_result"
    }
   ],
   "source": [
    "normals = normals / np.linalg.norm(normals, axis=1)[:, None]\n",
    "\n",
    "normals.shape"
   ]
  },
  {
   "cell_type": "markdown",
   "id": "be771eff",
   "metadata": {},
   "source": [
    "### 3.3 - Triangles\n",
    "\n",
    "We want to generate an array of triangles.\n"
   ]
  },
  {
   "cell_type": "markdown",
   "id": "226c9e1f",
   "metadata": {},
   "source": [
    "The triangulation is handled by SciPy's `ConvexHull` method. The format of the triangles array, `triangles`, is `[[v1, v2, v3], [v4, v5, v6], ...]`.\n"
   ]
  },
  {
   "cell_type": "code",
   "execution_count": 113,
   "id": "22bfc226",
   "metadata": {},
   "outputs": [
    {
     "data": {
      "text/plain": [
       "(12, 3)"
      ]
     },
     "execution_count": 113,
     "metadata": {},
     "output_type": "execute_result"
    }
   ],
   "source": [
    "triangles = ConvexHull(vertices).simplices\n",
    "\n",
    "triangles.shape"
   ]
  },
  {
   "cell_type": "markdown",
   "id": "ce1c183e",
   "metadata": {},
   "source": [
    "### 3.4 - PyVista mesh\n",
    "\n",
    "We want to create the PyVista mesh.\n"
   ]
  },
  {
   "cell_type": "markdown",
   "id": "4d199f2b",
   "metadata": {},
   "source": [
    "PyVista expects the triangles to be given in the format `[3, v1, v2, v3, 3, v4, v5, v6, ...]`. Reformat `triangles`.\n"
   ]
  },
  {
   "cell_type": "code",
   "execution_count": 114,
   "id": "7b541060",
   "metadata": {},
   "outputs": [],
   "source": [
    "triangles_reformatted = np.zeros((triangles.shape[0], 4), dtype=int)\n",
    "triangles_reformatted[:, 0] = 3\n",
    "triangles_reformatted[:, 1:] = triangles"
   ]
  },
  {
   "cell_type": "markdown",
   "id": "8219ffc9",
   "metadata": {},
   "source": [
    "Flatten `triangles_reformatted` to a 1D array, `triangles_flattened`.\n"
   ]
  },
  {
   "cell_type": "code",
   "execution_count": 115,
   "id": "0cde9ce4",
   "metadata": {},
   "outputs": [
    {
     "data": {
      "text/plain": [
       "(48,)"
      ]
     },
     "execution_count": 115,
     "metadata": {},
     "output_type": "execute_result"
    }
   ],
   "source": [
    "triangles_flattened = triangles_reformatted.ravel()\n",
    "\n",
    "triangles_flattened.shape"
   ]
  },
  {
   "cell_type": "markdown",
   "id": "367b2aaa",
   "metadata": {},
   "source": [
    "Create the PyVista mesh, and add the normals as point data.\n"
   ]
  },
  {
   "cell_type": "code",
   "execution_count": 116,
   "id": "c99022d6",
   "metadata": {},
   "outputs": [
    {
     "name": "stdout",
     "output_type": "stream",
     "text": [
      "Number of vertices: 602\n",
      "Number of cells: 12\n"
     ]
    }
   ],
   "source": [
    "cube_mesh = pv.PolyData(vertices, triangles_flattened)\n",
    "cube_mesh.point_data[\"normals\"] = normals\n",
    "\n",
    "print(f\"Number of vertices: {cube_mesh.n_points}\")\n",
    "print(f\"Number of cells: {cube_mesh.n_cells}\")"
   ]
  },
  {
   "cell_type": "markdown",
   "id": "6fb4ee0f",
   "metadata": {},
   "source": [
    "### 3.5 - Plot the mesh\n",
    "\n",
    "We want to plot the PyVista mesh.\n"
   ]
  },
  {
   "cell_type": "markdown",
   "id": "df2e40a4",
   "metadata": {},
   "source": [
    "Plot the PyVista mesh.\n"
   ]
  },
  {
   "cell_type": "code",
   "execution_count": 118,
   "id": "9a7760a3",
   "metadata": {},
   "outputs": [
    {
     "data": {
      "application/vnd.jupyter.widget-view+json": {
       "model_id": "954e763d2628480c95a1882e78cbbed9",
       "version_major": 2,
       "version_minor": 0
      },
      "text/plain": [
       "Widget(value='<iframe src=\"http://localhost:57638/index.html?ui=P_0x3127a6fd0_9&reconnect=auto\" class=\"pyvista…"
      ]
     },
     "metadata": {},
     "output_type": "display_data"
    }
   ],
   "source": [
    "pl = pv.Plotter()\n",
    "\n",
    "pl.add_mesh(cube_mesh, show_edges=True, color=\"lightblue\")\n",
    "\n",
    "arrows = cube_mesh.glyph(orient=\"normals\", scale=False, factor=0.3)\n",
    "pl.add_mesh(arrows, color=\"red\")\n",
    "\n",
    "pl.show()"
   ]
  }
 ],
 "metadata": {
  "kernelspec": {
   "display_name": "venv",
   "language": "python",
   "name": "python3"
  },
  "language_info": {
   "codemirror_mode": {
    "name": "ipython",
    "version": 3
   },
   "file_extension": ".py",
   "mimetype": "text/x-python",
   "name": "python",
   "nbconvert_exporter": "python",
   "pygments_lexer": "ipython3",
   "version": "3.13.5"
  }
 },
 "nbformat": 4,
 "nbformat_minor": 5
}
