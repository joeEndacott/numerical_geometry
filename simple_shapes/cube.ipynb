{
 "cells": [
  {
   "cell_type": "markdown",
   "id": "08b50536",
   "metadata": {},
   "source": [
    "# Create a cube using PyVista\n",
    "\n",
    "This notebook creates a cube using PyVista. 2 different methods are used:\n",
    "\n",
    "1. Use PyVista's Delaunay triangulation method to create a cube.\n",
    "2. Construct a cube from scratch by generating arrays for vertices, triangles and vertex normals.\n"
   ]
  },
  {
   "cell_type": "code",
   "execution_count": null,
   "id": "534235fa",
   "metadata": {},
   "outputs": [],
   "source": [
    "import numpy as np\n",
    "import pyvista as pv\n",
    "from scipy.spatial import ConvexHull"
   ]
  },
  {
   "cell_type": "markdown",
   "id": "cdabe8e9",
   "metadata": {},
   "source": [
    "## 1 - Generate a cube using PyVista Delaunay triangulation\n"
   ]
  },
  {
   "cell_type": "markdown",
   "id": "b9b79c22",
   "metadata": {},
   "source": [
    "### 1.1 - Vertices\n",
    "\n",
    "We want to generate an array of vertices with the correct shape.\n"
   ]
  },
  {
   "cell_type": "markdown",
   "id": "deff3018",
   "metadata": {},
   "source": [
    "Make arrays of $x$, $y$, $z$ values.\n"
   ]
  },
  {
   "cell_type": "code",
   "execution_count": null,
   "id": "20082b8b",
   "metadata": {},
   "outputs": [],
   "source": [
    "x = np.linspace(0, 1, 2)\n",
    "y = np.linspace(0, 1, 2)\n",
    "z = np.linspace(0, 1, 2)"
   ]
  },
  {
   "cell_type": "markdown",
   "id": "ee5933d9",
   "metadata": {},
   "source": [
    "Combine the $x$, $y$, $z$ values into an array, `vertices`, with the correct shape. A cube has 8 vertices, and each vertex has 3 coordinates, so `vertices` should have shape (8,3)\n"
   ]
  },
  {
   "cell_type": "code",
   "execution_count": null,
   "id": "b35e1f32",
   "metadata": {},
   "outputs": [],
   "source": [
    "x_v, y_v, z_v = np.meshgrid(x, y, z)\n",
    "vertices = np.c_[x_v.reshape(-1), y_v.reshape(-1), z_v.reshape(-1)]\n",
    "\n",
    "vertices.shape"
   ]
  },
  {
   "cell_type": "markdown",
   "id": "2f9f177b",
   "metadata": {},
   "source": [
    "### 1.2 - PyVista mesh\n",
    "\n",
    "We want to create a PyVista mesh.\n"
   ]
  },
  {
   "cell_type": "markdown",
   "id": "fc29951b",
   "metadata": {},
   "source": [
    "Create and plot the PyVista mesh. This mesh only has vertices (no faces).\n"
   ]
  },
  {
   "cell_type": "code",
   "execution_count": null,
   "id": "783084ab",
   "metadata": {},
   "outputs": [],
   "source": [
    "mesh = pv.PolyData(vertices)\n",
    "mesh.plot()"
   ]
  },
  {
   "cell_type": "markdown",
   "id": "f00324c6",
   "metadata": {},
   "source": [
    "### 1.3 - Connected surface\n",
    "\n",
    "We want to create a connected surface.\n"
   ]
  },
  {
   "cell_type": "markdown",
   "id": "71053f10",
   "metadata": {},
   "source": [
    "Create and plot a connected surface, using Delaunay triangulation.\n"
   ]
  },
  {
   "cell_type": "code",
   "execution_count": null,
   "id": "9dea72fa",
   "metadata": {},
   "outputs": [],
   "source": [
    "surface = mesh.delaunay_3d()\n",
    "surface.plot(show_edges=True)"
   ]
  },
  {
   "cell_type": "markdown",
   "id": "a171f6a8",
   "metadata": {},
   "source": [
    "## 2 - Generate a cube from scratch\n"
   ]
  },
  {
   "cell_type": "markdown",
   "id": "df1f5de8",
   "metadata": {},
   "source": [
    "### 2.1 - Vertices\n",
    "\n",
    "We want to generate an array of vertices with the correct shape.\n"
   ]
  },
  {
   "cell_type": "markdown",
   "id": "67095597",
   "metadata": {},
   "source": [
    "Make arrays of $x$, $y$, $z$ values.\n"
   ]
  },
  {
   "cell_type": "code",
   "execution_count": null,
   "id": "585f3ccf",
   "metadata": {},
   "outputs": [],
   "source": [
    "x = np.linspace(0, 1, 2)\n",
    "y = np.linspace(0, 1, 2)\n",
    "z = np.linspace(0, 1, 2)"
   ]
  },
  {
   "cell_type": "markdown",
   "id": "6e7c7b7f",
   "metadata": {},
   "source": [
    "Combine the $x$, $y$, $z$ values into an array, `vertices`, with the correct shape. A cube has 8 vertices, and each vertex has 3 coordinates, so `vertices` should have shape (8,3)\n"
   ]
  },
  {
   "cell_type": "code",
   "execution_count": null,
   "id": "7ee04129",
   "metadata": {},
   "outputs": [],
   "source": [
    "x_v, y_v, z_v = np.meshgrid(x, y, z)\n",
    "vertices = np.c_[x_v.reshape(-1), y_v.reshape(-1), z_v.reshape(-1)]\n",
    "\n",
    "vertices.shape"
   ]
  },
  {
   "cell_type": "markdown",
   "id": "4cd7f3c8",
   "metadata": {},
   "source": [
    "### 2.2 - Vertex normals\n",
    "\n",
    "We want to generate an array of vertex normals with the correct shape.\n"
   ]
  },
  {
   "cell_type": "markdown",
   "id": "93498980",
   "metadata": {},
   "source": [
    "Calculate the normals.\n"
   ]
  },
  {
   "cell_type": "code",
   "execution_count": null,
   "id": "a94d7514",
   "metadata": {},
   "outputs": [],
   "source": [
    "center = np.array([0.5, 0.5, 0.5])\n",
    "normals = vertices - center[None, :]"
   ]
  },
  {
   "cell_type": "markdown",
   "id": "2e88b7ad",
   "metadata": {},
   "source": [
    "Normalize the normals. Similarly to `vertices`, `normals` should have shape (8,3).\n"
   ]
  },
  {
   "cell_type": "code",
   "execution_count": null,
   "id": "c0ce044f",
   "metadata": {},
   "outputs": [],
   "source": [
    "normals = normals / np.linalg.norm(normals, axis=1)[:, None]\n",
    "\n",
    "normals.shape"
   ]
  },
  {
   "cell_type": "markdown",
   "id": "f98967c0",
   "metadata": {},
   "source": [
    "### 2.3 - Triangles\n",
    "\n",
    "We want to generate an array of triangles.\n"
   ]
  },
  {
   "cell_type": "markdown",
   "id": "9cc2ea67",
   "metadata": {},
   "source": [
    "The triangulation is handled by SciPy's `ConvexHull` method. The triangle array, `triangles`, should have shape (12, 3) - there are 12 triangles (2 triangles per face), and each triangle has 3 vertices. The format of `triangles` is `[[v1, v2, v3], [v4, v5, v6], ...]`.\n"
   ]
  },
  {
   "cell_type": "code",
   "execution_count": null,
   "id": "cf706fa0",
   "metadata": {},
   "outputs": [],
   "source": [
    "triangles = ConvexHull(vertices).simplices\n",
    "\n",
    "triangles.shape"
   ]
  },
  {
   "cell_type": "markdown",
   "id": "fe596453",
   "metadata": {},
   "source": [
    "### 2.4 - PyVista mesh\n",
    "\n",
    "We want to create the PyVista mesh.\n"
   ]
  },
  {
   "cell_type": "markdown",
   "id": "867fa7c6",
   "metadata": {},
   "source": [
    "PyVista expects the triangles to be given in the format `[3, v1, v2, v3, 3, v4, v5, v6, ...]`. Reformat `triangles`.\n"
   ]
  },
  {
   "cell_type": "code",
   "execution_count": null,
   "id": "dea033ab",
   "metadata": {},
   "outputs": [],
   "source": [
    "triangles_reformatted = np.zeros((triangles.shape[0], 4), dtype=int)\n",
    "triangles_reformatted[:, 0] = 3\n",
    "triangles_reformatted[:, 1:] = triangles"
   ]
  },
  {
   "cell_type": "markdown",
   "id": "ddcff16a",
   "metadata": {},
   "source": [
    "Flatten `triangles_reformatted`. The flattened array, `triangles_flattened`, should have shape (48,) - there are 12 triangles, each with 3 vertices; 12 $\\cdot$ (3+1) = 48.\n"
   ]
  },
  {
   "cell_type": "code",
   "execution_count": null,
   "id": "e77e4e8f",
   "metadata": {},
   "outputs": [],
   "source": [
    "triangles_flattened = triangles_reformatted.ravel()\n",
    "\n",
    "triangles_flattened.shape"
   ]
  },
  {
   "cell_type": "markdown",
   "id": "6995ec44",
   "metadata": {},
   "source": [
    "Create the PyVista mesh, and add the normals as point data. The mesh should have 8 vertices, and 12 cells.\n"
   ]
  },
  {
   "cell_type": "code",
   "execution_count": null,
   "id": "f9dbb9af",
   "metadata": {},
   "outputs": [],
   "source": [
    "cube_mesh = pv.PolyData(vertices, triangles_flattened)\n",
    "cube_mesh.point_data[\"normals\"] = normals\n",
    "\n",
    "print(f\"Number of vertices: {cube_mesh.n_points}\")\n",
    "print(f\"Number of cells: {cube_mesh.n_cells}\")"
   ]
  },
  {
   "cell_type": "markdown",
   "id": "7b0e6723",
   "metadata": {},
   "source": [
    "### 2.5 - Plot the mesh\n",
    "\n",
    "We want to plot the PyVista mesh.\n"
   ]
  },
  {
   "cell_type": "markdown",
   "id": "26763074",
   "metadata": {},
   "source": [
    "Plot the PyVista mesh, along with the vertex normals.\n"
   ]
  },
  {
   "cell_type": "code",
   "execution_count": null,
   "id": "de046020",
   "metadata": {},
   "outputs": [],
   "source": [
    "pl = pv.Plotter()\n",
    "\n",
    "pl.add_mesh(cube_mesh, show_edges=True, color=\"lightblue\")\n",
    "arrows = cube_mesh.glyph(orient=\"normals\", scale=False, factor=0.3)\n",
    "pl.add_mesh(arrows, color=\"red\")\n",
    "\n",
    "pl.show()"
   ]
  },
  {
   "cell_type": "code",
   "execution_count": null,
   "id": "48b5b2b6",
   "metadata": {},
   "outputs": [],
   "source": []
  }
 ],
 "metadata": {
  "kernelspec": {
   "display_name": "venv",
   "language": "python",
   "name": "python3"
  },
  "language_info": {
   "codemirror_mode": {
    "name": "ipython",
    "version": 3
   },
   "file_extension": ".py",
   "mimetype": "text/x-python",
   "name": "python",
   "nbconvert_exporter": "python",
   "pygments_lexer": "ipython3",
   "version": "3.13.5"
  }
 },
 "nbformat": 4,
 "nbformat_minor": 5
}
