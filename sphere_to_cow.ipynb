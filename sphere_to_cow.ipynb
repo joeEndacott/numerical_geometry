{
 "cells": [
  {
   "cell_type": "markdown",
   "id": "8d389b06",
   "metadata": {},
   "source": [
    "# Deform a hemisphere into a cow's head\n"
   ]
  },
  {
   "cell_type": "markdown",
   "id": "e2cb446f",
   "metadata": {},
   "source": [
    "Import the required modules.\n"
   ]
  },
  {
   "cell_type": "code",
   "execution_count": 1,
   "id": "a2f98094",
   "metadata": {},
   "outputs": [],
   "source": [
    "import numpy as np\n",
    "import pyvista as pv\n",
    "import pycpd as cpd"
   ]
  },
  {
   "cell_type": "markdown",
   "id": "cc530598",
   "metadata": {},
   "source": [
    "## 1. Create a hemisphere\n"
   ]
  },
  {
   "cell_type": "markdown",
   "id": "8cb48ee7",
   "metadata": {},
   "source": [
    "We will create a mesh of a hemisphere using the `pv.Sphere()` function.\n"
   ]
  },
  {
   "cell_type": "code",
   "execution_count": 2,
   "id": "c386a249",
   "metadata": {},
   "outputs": [
    {
     "data": {
      "application/vnd.jupyter.widget-view+json": {
       "model_id": "6350d01561ee44ffa4e3d908e7e24566",
       "version_major": 2,
       "version_minor": 0
      },
      "text/plain": [
       "Widget(value='<iframe src=\"http://localhost:54900/index.html?ui=P_0x162ce1940_0&reconnect=auto\" class=\"pyvista…"
      ]
     },
     "metadata": {},
     "output_type": "display_data"
    }
   ],
   "source": [
    "hemisphere_mesh = pv.Sphere(\n",
    "    radius=0.5, theta_resolution=100, phi_resolution=100, end_phi=90\n",
    ")\n",
    "hemisphere_mesh.plot(show_edges=True)"
   ]
  },
  {
   "cell_type": "markdown",
   "id": "03bb0cf6",
   "metadata": {},
   "source": [
    "## 2. Create a cow's head\n"
   ]
  },
  {
   "cell_type": "markdown",
   "id": "7f0f41f1",
   "metadata": {},
   "source": [
    "### 2.1 Import the mesh\n"
   ]
  },
  {
   "cell_type": "markdown",
   "id": "593ac501",
   "metadata": {},
   "source": [
    "We will import a mesh of a cow's head from PyVista. A cow's head is a complicated geometry which is topologically equivalent to the hemisphere mesh. It should be a good mesh to benchmark different deformation algorithms.\n"
   ]
  },
  {
   "cell_type": "code",
   "execution_count": 3,
   "id": "6bfe1489",
   "metadata": {},
   "outputs": [
    {
     "data": {
      "application/vnd.jupyter.widget-view+json": {
       "model_id": "f11011eb83f846a08c1084aa3948fa37",
       "version_major": 2,
       "version_minor": 0
      },
      "text/plain": [
       "Widget(value='<iframe src=\"http://localhost:54900/index.html?ui=P_0x168cb7d90_1&reconnect=auto\" class=\"pyvista…"
      ]
     },
     "metadata": {},
     "output_type": "display_data"
    }
   ],
   "source": [
    "cow_head_filename = pv.examples.download_cow_head(load=False)\n",
    "cow_head_mesh = pv.get_reader(cow_head_filename).read()\n",
    "cow_head_mesh.plot(show_edges=True)"
   ]
  },
  {
   "cell_type": "markdown",
   "id": "9bcb52f5",
   "metadata": {},
   "source": [
    "### 2.2 Rotate and translate the mesh\n"
   ]
  },
  {
   "cell_type": "markdown",
   "id": "a2b71564",
   "metadata": {},
   "source": [
    "We will rotate and translate the cow's head mesh so that it lines up nicely with the hemisphere mesh.\n"
   ]
  },
  {
   "cell_type": "code",
   "execution_count": 4,
   "id": "0ac07162",
   "metadata": {},
   "outputs": [],
   "source": [
    "cow_head_mesh = cow_head_mesh.rotate_x(angle=90)\n",
    "cow_head_mesh = cow_head_mesh.rotate_y(angle=-62)\n",
    "cow_head_mesh = cow_head_mesh.translate((-0.8, 0, -3.7))"
   ]
  },
  {
   "cell_type": "code",
   "execution_count": 5,
   "id": "c049b945",
   "metadata": {},
   "outputs": [
    {
     "data": {
      "application/vnd.jupyter.widget-view+json": {
       "model_id": "c50d57f8da0e4c9e9b490077e2048a98",
       "version_major": 2,
       "version_minor": 0
      },
      "text/plain": [
       "Widget(value='<iframe src=\"http://localhost:54900/index.html?ui=P_0x168de65d0_2&reconnect=auto\" class=\"pyvista…"
      ]
     },
     "metadata": {},
     "output_type": "display_data"
    }
   ],
   "source": [
    "plotter = pv.Plotter()\n",
    "plotter.add_mesh(hemisphere_mesh, color=\"lightblue\")\n",
    "plotter.add_mesh(cow_head_mesh, color=\"brown\", opacity=0.5, show_edges=True)\n",
    "plotter.show()"
   ]
  },
  {
   "cell_type": "markdown",
   "id": "3650a430",
   "metadata": {},
   "source": [
    "## 3. Use `pycpd` to deform the hemisphere to the cow's head\n"
   ]
  },
  {
   "cell_type": "markdown",
   "id": "7c8ec11d",
   "metadata": {},
   "source": [
    "First, we will try using the `pypcd` [1] package to deform the hemisphere mesh to the cow's head mesh. `pypcd` is a NumPy implementation of the Coherent Point Drift (CPD) algorithm by Myronenko and Song [2].\n",
    "\n",
    "After running 5 iterations, the general shape of the cow's head is captured fairly well. However, the ears and horns of the cow are not distinct, and the hole for the neck is in completely the wrong place!\n"
   ]
  },
  {
   "cell_type": "code",
   "execution_count": 6,
   "id": "36113c9b",
   "metadata": {},
   "outputs": [
    {
     "data": {
      "application/vnd.jupyter.widget-view+json": {
       "model_id": "cfd8227112f647ee9fa6a02df8974692",
       "version_major": 2,
       "version_minor": 0
      },
      "text/plain": [
       "Widget(value='<iframe src=\"http://localhost:54900/index.html?ui=P_0x3042c4a50_3&reconnect=auto\" class=\"pyvista…"
      ]
     },
     "metadata": {},
     "output_type": "display_data"
    }
   ],
   "source": [
    "NUM_ITERATIONS = 5\n",
    "\n",
    "hemisphere_mesh_deformation_3 = hemisphere_mesh.copy()\n",
    "\n",
    "for i in range(NUM_ITERATIONS):\n",
    "    # Create a deformable registration object.\n",
    "    deformable_registration = cpd.DeformableRegistration(\n",
    "        alpha=0.05,\n",
    "        X=np.array(cow_head_mesh.points),\n",
    "        Y=np.array(hemisphere_mesh_deformation_3.points),\n",
    "    )\n",
    "\n",
    "    # Run the deformable registration, and update the hemisphere mesh.\n",
    "    transformed_hemisphere_points, _ = deformable_registration.register()\n",
    "    hemisphere_mesh_deformation_3.points = transformed_hemisphere_points\n",
    "\n",
    "# Plot the meshes.\n",
    "pl = pv.Plotter()\n",
    "pl.add_mesh(hemisphere_mesh_deformation_3, color=\"lightblue\", opacity=0.5)\n",
    "pl.add_mesh(cow_head_mesh, color=\"orange\", opacity=0.5)\n",
    "pl.show()"
   ]
  },
  {
   "cell_type": "code",
   "execution_count": 8,
   "id": "a6eec036",
   "metadata": {},
   "outputs": [
    {
     "data": {
      "application/vnd.jupyter.widget-view+json": {
       "model_id": "7874ad58bfb94db2828ef5754a6f1d47",
       "version_major": 2,
       "version_minor": 0
      },
      "text/plain": [
       "Widget(value='<iframe src=\"http://localhost:54900/index.html?ui=P_0x3042c65d0_5&reconnect=auto\" class=\"pyvista…"
      ]
     },
     "metadata": {},
     "output_type": "display_data"
    }
   ],
   "source": [
    "pl = pv.Plotter()\n",
    "pl.add_mesh(hemisphere_mesh_deformation_3, color=\"lightblue\")\n",
    "pl.show()"
   ]
  },
  {
   "cell_type": "markdown",
   "id": "b34c3d84",
   "metadata": {},
   "source": [
    "## References\n"
   ]
  },
  {
   "cell_type": "markdown",
   "id": "09353d0b",
   "metadata": {},
   "source": [
    "[1] - Khallaghi, S. siavashk/pycpd. (2025) (https://github.com/siavashk/pycpd).\n",
    "\n",
    "[2] - Myronenko, A. & Song, X. Point-Set Registration: Coherent Point Drift. IEEE Trans. Pattern Anal. Mach. Intell. 32, 2262–2275 (2010) (https://doi.org/10.1109/TPAMI.2010.46).\n"
   ]
  },
  {
   "cell_type": "markdown",
   "id": "14ff2586",
   "metadata": {},
   "source": []
  }
 ],
 "metadata": {
  "kernelspec": {
   "display_name": "numerical_geometry",
   "language": "python",
   "name": "python3"
  },
  "language_info": {
   "codemirror_mode": {
    "name": "ipython",
    "version": 3
   },
   "file_extension": ".py",
   "mimetype": "text/x-python",
   "name": "python",
   "nbconvert_exporter": "python",
   "pygments_lexer": "ipython3",
   "version": "3.13.5"
  }
 },
 "nbformat": 4,
 "nbformat_minor": 5
}
