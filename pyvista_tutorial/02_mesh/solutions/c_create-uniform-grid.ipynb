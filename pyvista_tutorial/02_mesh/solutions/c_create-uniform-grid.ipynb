{
  "cells": [
    {
      "cell_type": "markdown",
      "metadata": {},
      "source": [
        "# Creating a Uniform Grid {#create_uniform_grid_solution}\n",
        "\n",
        "Create a simple uniform grid from a 3D NumPy array of values.\n"
      ]
    },
    {
      "cell_type": "code",
      "execution_count": 1,
      "metadata": {
        "collapsed": false
      },
      "outputs": [],
      "source": [
        "import numpy as np\n",
        "import pyvista as pv"
      ]
    },
    {
      "cell_type": "markdown",
      "metadata": {},
      "source": [
        "Take a 3D NumPy array of data values that holds some spatial data where\n",
        "each axis corresponds to the XYZ cartesian axes. This example will\n",
        "create a `pyvista.ImageData`{.interpreted-text role=\"class\"} that will\n",
        "hold the spatial reference for a 3D grid by which a 3D NumPy array of\n",
        "values can be plotted against.\n"
      ]
    },
    {
      "cell_type": "markdown",
      "metadata": {},
      "source": [
        "Create the 3D NumPy array of spatially referenced data. This is\n",
        "spatially referenced such that the grid is `(20, 5, 10)` `(nx, ny, nz)`.\n"
      ]
    },
    {
      "cell_type": "code",
      "execution_count": null,
      "metadata": {
        "collapsed": false
      },
      "outputs": [],
      "source": [
        "values = np.linspace(0, 10, 1000).reshape((20, 5, 10))\n",
        "values.shape"
      ]
    },
    {
      "cell_type": "markdown",
      "metadata": {},
      "source": [
        "Create the ImageData\n"
      ]
    },
    {
      "cell_type": "code",
      "execution_count": null,
      "metadata": {
        "collapsed": false
      },
      "outputs": [],
      "source": [
        "grid = pv.ImageData()"
      ]
    },
    {
      "cell_type": "markdown",
      "metadata": {},
      "source": [
        "Set the grid dimensions to `shape + 1` because we want to inject our\n",
        "values on the CELL data.\n"
      ]
    },
    {
      "cell_type": "code",
      "execution_count": null,
      "metadata": {
        "collapsed": false
      },
      "outputs": [],
      "source": [
        "grid.dimensions = np.array(values.shape) + 1"
      ]
    },
    {
      "cell_type": "markdown",
      "metadata": {},
      "source": [
        "Edit the spatial reference\n"
      ]
    },
    {
      "cell_type": "code",
      "execution_count": null,
      "metadata": {
        "collapsed": false
      },
      "outputs": [],
      "source": [
        "grid.origin = (100, 33, 55.6)  # The bottom left corner of the data set\n",
        "grid.spacing = (1, 5, 2)  # These are the cell sizes along each axis"
      ]
    },
    {
      "cell_type": "markdown",
      "metadata": {},
      "source": [
        "Assign the data to the cell data. Be sure to flatten the data for\n",
        "`ImageData` objects using Fortran ordering.\n"
      ]
    },
    {
      "cell_type": "code",
      "execution_count": null,
      "metadata": {
        "collapsed": false
      },
      "outputs": [],
      "source": [
        "grid.cell_data[\"values\"] = values.flatten(order=\"F\")\n",
        "grid"
      ]
    },
    {
      "cell_type": "markdown",
      "metadata": {},
      "source": [
        "Now plot the grid!\n"
      ]
    },
    {
      "cell_type": "code",
      "execution_count": null,
      "metadata": {
        "collapsed": false
      },
      "outputs": [],
      "source": [
        "grid.plot(show_edges=True)"
      ]
    },
    {
      "cell_type": "markdown",
      "metadata": {},
      "source": [
        "Don\\'t like cell data? You could also add the NumPy array to the point\n",
        "data of a `pyvista.ImageData`{.interpreted-text role=\"class\"}. Take note\n",
        "of the subtle difference when setting the grid dimensions upon\n",
        "initialization.\n"
      ]
    },
    {
      "cell_type": "code",
      "execution_count": null,
      "metadata": {
        "collapsed": false
      },
      "outputs": [],
      "source": [
        "# Create the 3D NumPy array of spatially referenced data again.\n",
        "values = np.linspace(0, 10, 1000).reshape((20, 5, 10))\n",
        "values.shape"
      ]
    },
    {
      "cell_type": "markdown",
      "metadata": {},
      "source": [
        "Create the PyVista object and set the same attributes as earlier.\n"
      ]
    },
    {
      "cell_type": "code",
      "execution_count": null,
      "metadata": {
        "collapsed": false
      },
      "outputs": [],
      "source": [
        "grid = pv.ImageData()\n",
        "\n",
        "# Set the grid dimensions to ``shape`` because we want to inject our values on\n",
        "# the POINT data\n",
        "grid.dimensions = values.shape\n",
        "\n",
        "# Edit the spatial reference\n",
        "grid.origin = (100, 33, 55.6)  # The bottom left corner of the data set\n",
        "grid.spacing = (1, 5, 2)  # These are the cell sizes along each axis"
      ]
    },
    {
      "cell_type": "markdown",
      "metadata": {},
      "source": [
        "Add the data values to the cell data\n"
      ]
    },
    {
      "cell_type": "code",
      "execution_count": null,
      "metadata": {
        "collapsed": false
      },
      "outputs": [],
      "source": [
        "grid.point_data[\"values\"] = values.flatten(order=\"F\")  # Flatten the array!\n",
        "grid"
      ]
    },
    {
      "cell_type": "markdown",
      "metadata": {},
      "source": [
        "Now plot the grid!\n"
      ]
    },
    {
      "cell_type": "code",
      "execution_count": null,
      "metadata": {
        "collapsed": false
      },
      "outputs": [],
      "source": [
        "grid.plot(show_edges=True)"
      ]
    },
    {
      "cell_type": "markdown",
      "metadata": {},
      "source": [
        "# Exercise\n",
        "\n",
        "Now create your own `pyvista.ImageData`{.interpreted-text role=\"class\"}\n",
        "from a 3D NumPy array!\n"
      ]
    },
    {
      "cell_type": "code",
      "execution_count": null,
      "metadata": {
        "collapsed": false
      },
      "outputs": [],
      "source": [
        "help(pv.ImageData)"
      ]
    },
    {
      "cell_type": "markdown",
      "metadata": {},
      "source": [
        "Generate example 3D data using `numpy.random.random`{.interpreted-text\n",
        "role=\"func\"}. Feel free to use your own 3D numpy array here.\n"
      ]
    },
    {
      "cell_type": "code",
      "execution_count": 2,
      "metadata": {
        "collapsed": false
      },
      "outputs": [
        {
          "data": {
            "text/plain": [
              "(100, 100, 100)"
            ]
          },
          "execution_count": 2,
          "metadata": {},
          "output_type": "execute_result"
        }
      ],
      "source": [
        "arr = np.random.random((100, 100, 100))\n",
        "arr.shape"
      ]
    },
    {
      "cell_type": "markdown",
      "metadata": {},
      "source": [
        "Create the `pyvista.ImageData`{.interpreted-text role=\"class\"}.\n",
        "\n",
        "::: note\n",
        "::: title\n",
        "Note\n",
        ":::\n",
        "\n",
        "You will likely need to `ravel` the array with Fortran-ordering:\n",
        "`arr.ravel(order=\"F\")`\n",
        ":::\n"
      ]
    },
    {
      "cell_type": "code",
      "execution_count": 3,
      "metadata": {
        "collapsed": false
      },
      "outputs": [],
      "source": [
        "vol = pv.ImageData()\n",
        "vol.dimensions = arr.shape\n",
        "vol[\"array\"] = arr.ravel(order=\"F\")"
      ]
    },
    {
      "cell_type": "markdown",
      "metadata": {},
      "source": [
        "Plot the ImageData\n"
      ]
    },
    {
      "cell_type": "code",
      "execution_count": 4,
      "metadata": {
        "collapsed": false
      },
      "outputs": [
        {
          "data": {
            "application/vnd.jupyter.widget-view+json": {
              "model_id": "636cfccdca6743d48a406ff24902e3cd",
              "version_major": 2,
              "version_minor": 0
            },
            "text/plain": [
              "Widget(value='<iframe src=\"http://localhost:52942/index.html?ui=P_0x11d523230_0&reconnect=auto\" class=\"pyvista…"
            ]
          },
          "metadata": {},
          "output_type": "display_data"
        }
      ],
      "source": [
        "vol.plot()"
      ]
    },
    {
      "cell_type": "markdown",
      "metadata": {},
      "source": [
        "# Example\n",
        "\n",
        "PyVista has several examples that use `ImageData`.\n",
        "\n",
        "See the PyVista documentation for further details on [Volume\n",
        "Rendering](https://docs.pyvista.org/examples/02-plot/volume.html)\n",
        "\n",
        "Here\\'s one of these example datasets:\n"
      ]
    },
    {
      "cell_type": "code",
      "execution_count": null,
      "metadata": {
        "collapsed": false
      },
      "outputs": [],
      "source": [
        "from pyvista import examples\n",
        "\n",
        "vol = examples.download_knee_full()\n",
        "\n",
        "pl = pv.Plotter()\n",
        "pl.add_volume(vol, cmap=\"bone\", opacity=\"sigmoid\")\n",
        "pl.show()"
      ]
    },
    {
      "cell_type": "code",
      "execution_count": null,
      "metadata": {
        "collapsed": false
      },
      "outputs": [],
      "source": [
        "vol = pv.Wavelet()\n",
        "vol.plot(volume=True)"
      ]
    },
    {
      "cell_type": "markdown",
      "metadata": {},
      "source": [
        "```{=html}\n",
        "<center>\n",
        "  <a target=\"_blank\" href=\"https://colab.research.google.com/github/pyvista/pyvista-tutorial/blob/gh-pages/notebooks/tutorial/02_mesh/solutions/c_create-uniform-grid.ipynb\">\n",
        "    <img src=\"https://colab.research.google.com/assets/colab-badge.svg\" alt=\"Open In Colab\"/ width=\"150px\">\n",
        "  </a>\n",
        "</center>\n",
        "```\n"
      ]
    }
  ],
  "metadata": {
    "kernelspec": {
      "display_name": "venv",
      "language": "python",
      "name": "python3"
    },
    "language_info": {
      "codemirror_mode": {
        "name": "ipython",
        "version": 3
      },
      "file_extension": ".py",
      "mimetype": "text/x-python",
      "name": "python",
      "nbconvert_exporter": "python",
      "pygments_lexer": "ipython3",
      "version": "3.13.5"
    }
  },
  "nbformat": 4,
  "nbformat_minor": 0
}
