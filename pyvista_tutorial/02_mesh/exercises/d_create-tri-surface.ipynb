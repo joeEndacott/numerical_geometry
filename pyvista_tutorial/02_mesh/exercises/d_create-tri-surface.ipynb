{
  "cells": [
    {
      "cell_type": "markdown",
      "metadata": {},
      "source": [
        "# Create Triangulated Surface {#triangulated_surface_exercises}\n",
        "\n",
        "Create a surface from a set of points through a Delaunay triangulation.\n",
        "\n",
        "::: note\n",
        "::: title\n",
        "Note\n",
        ":::\n",
        "\n",
        "We will use a filter from PyVista to perform our triangulation:\n",
        "[delaunay_2d](https://docs.pyvista.org/api/core/_autosummary/pyvista.PolyData.delaunay_2d.html).\n",
        ":::\n"
      ]
    },
    {
      "cell_type": "code",
      "execution_count": 24,
      "metadata": {
        "collapsed": false
      },
      "outputs": [],
      "source": [
        "import numpy as np\n",
        "import pyvista as pv"
      ]
    },
    {
      "cell_type": "markdown",
      "metadata": {},
      "source": [
        "# Simple Triangulations\n",
        "\n",
        "First, create some points for the surface.\n"
      ]
    },
    {
      "cell_type": "code",
      "execution_count": 25,
      "metadata": {
        "collapsed": false
      },
      "outputs": [
        {
          "data": {
            "text/plain": [
              "array([[-203.99413257, -202.581284  ,    1.60404899],\n",
              "       [-174.34528764, -202.581284  ,    2.81059833],\n",
              "       [-159.51627001, -202.581284  ,    3.60001976],\n",
              "       [-139.77689316, -202.581284  ,    4.8371822 ],\n",
              "       [-119.56658338, -202.581284  ,    6.28649047]])"
            ]
          },
          "execution_count": 25,
          "metadata": {},
          "output_type": "execute_result"
        }
      ],
      "source": [
        "# Define a simple Gaussian surface\n",
        "n = 20\n",
        "x = np.linspace(-200, 200, num=n) + np.random.uniform(-5, 5, size=n)\n",
        "y = np.linspace(-200, 200, num=n) + np.random.uniform(-5, 5, size=n)\n",
        "xx, yy = np.meshgrid(x, y)\n",
        "A, b = 100, 100\n",
        "zz = A * np.exp(-0.5 * ((xx / b) ** 2.0 + (yy / b) ** 2.0))\n",
        "\n",
        "# Get the points as a 2D NumPy array (N by 3)\n",
        "points = np.c_[xx.reshape(-1), yy.reshape(-1), zz.reshape(-1)]\n",
        "points[0:5, :]"
      ]
    },
    {
      "cell_type": "markdown",
      "metadata": {},
      "source": [
        "Now use those points to create a point cloud PyVista data object. This\n",
        "will be encompassed in a `pyvista.PolyData`{.interpreted-text\n",
        "role=\"class\"} object.\n"
      ]
    },
    {
      "cell_type": "code",
      "execution_count": 26,
      "metadata": {
        "collapsed": false
      },
      "outputs": [
        {
          "data": {
            "application/vnd.jupyter.widget-view+json": {
              "model_id": "5c466458274f4306846cb6418d0351bf",
              "version_major": 2,
              "version_minor": 0
            },
            "text/plain": [
              "Widget(value='<iframe src=\"http://localhost:52989/index.html?ui=P_0x301cb3d90_12&reconnect=auto\" class=\"pyvist…"
            ]
          },
          "metadata": {},
          "output_type": "display_data"
        }
      ],
      "source": [
        "# simply pass the numpy points to the PolyData constructor\n",
        "cloud = pv.PolyData(points)\n",
        "cloud.plot(point_size=15)"
      ]
    },
    {
      "cell_type": "markdown",
      "metadata": {},
      "source": [
        "Now that we have a PyVista data structure of the points, we can perform\n",
        "a triangulation to turn those boring discrete points into a connected\n",
        "surface. See\n",
        "`pyvista.UnstructuredGridFilters.delaunay_2d`{.interpreted-text\n",
        "role=\"func\"}.\n"
      ]
    },
    {
      "cell_type": "code",
      "execution_count": 27,
      "metadata": {
        "collapsed": false
      },
      "outputs": [
        {
          "name": "stdout",
          "output_type": "stream",
          "text": [
            "Help on method delaunay_2d in module pyvista.core.filters.poly_data:\n",
            "\n",
            "delaunay_2d(\n",
            "    tol=1e-05,\n",
            "    alpha=0.0,\n",
            "    offset=1.0,\n",
            "    bound: 'bool' = False,\n",
            "    inplace: 'bool' = False,\n",
            "    edge_source=None,\n",
            "    progress_bar: 'bool' = False\n",
            ") method of pyvista.core.pointset.PolyData instance\n",
            "    Apply a 2D Delaunay filter along the best fitting plane.\n",
            "\n",
            "    This filter can be used to generate a 2d surface from a set of\n",
            "    points on a plane.  If you want to create a surface from a\n",
            "    point cloud, see :func:`pyvista.PolyDataFilters.reconstruct_surface`.\n",
            "\n",
            "    Parameters\n",
            "    ----------\n",
            "    tol : float, default: 1e-05\n",
            "        Specify a tolerance to control discarding of closely\n",
            "        spaced points. This tolerance is specified as a fraction\n",
            "        of the diagonal length of the bounding box of the points.\n",
            "\n",
            "    alpha : float, default: 0.0\n",
            "        Specify alpha (or distance) value to control output of\n",
            "        this filter. For a non-zero alpha value, only edges or\n",
            "        triangles contained within a sphere centered at mesh\n",
            "        vertices will be output. Otherwise, only triangles will be\n",
            "        output.\n",
            "\n",
            "    offset : float, default: 1.0\n",
            "        Specify a multiplier to control the size of the initial,\n",
            "        bounding Delaunay triangulation.\n",
            "\n",
            "    bound : bool, default: False\n",
            "        Boolean controls whether bounding triangulation points\n",
            "        and associated triangles are included in the\n",
            "        output. These are introduced as an initial triangulation\n",
            "        to begin the triangulation process. This feature is nice\n",
            "        for debugging output.\n",
            "\n",
            "    inplace : bool, default: False\n",
            "        If ``True``, overwrite this mesh with the triangulated\n",
            "        mesh.\n",
            "\n",
            "    edge_source : pyvista.PolyData, optional\n",
            "        Specify the source object used to specify constrained\n",
            "        edges and loops. If set, and lines/polygons are defined, a\n",
            "        constrained triangulation is created. The lines/polygons\n",
            "        are assumed to reference points in the input point set\n",
            "        (i.e. point ids are identical in the input and\n",
            "        source).\n",
            "\n",
            "    progress_bar : bool, default: False\n",
            "        Display a progress bar to indicate progress.\n",
            "\n",
            "    Returns\n",
            "    -------\n",
            "    pyvista.PolyData\n",
            "        Mesh from the 2D delaunay filter.\n",
            "\n",
            "    Examples\n",
            "    --------\n",
            "    First, generate 30 points on circle and plot them.\n",
            "\n",
            "    >>> import pyvista as pv\n",
            "    >>> points = pv.Polygon(n_sides=30).points\n",
            "    >>> circle = pv.PolyData(points)\n",
            "    >>> circle.plot(show_edges=True, point_size=15)\n",
            "\n",
            "    Use :func:`delaunay_2d` to fill the interior of the circle.\n",
            "\n",
            "    >>> filled_circle = circle.delaunay_2d()\n",
            "    >>> filled_circle.plot(show_edges=True, line_width=5)\n",
            "\n",
            "    Use the ``edge_source`` parameter to create a constrained delaunay\n",
            "    triangulation and plot it.\n",
            "\n",
            "    >>> squar = pv.Polygon(n_sides=4, radius=8, fill=False)\n",
            "    >>> squar = squar.rotate_z(45, inplace=False)\n",
            "    >>> circ0 = pv.Polygon(center=(2, 3, 0), n_sides=30, radius=1)\n",
            "    >>> circ1 = pv.Polygon(center=(-2, -3, 0), n_sides=30, radius=1)\n",
            "    >>> comb = circ0 + circ1 + squar\n",
            "    >>> tess = comb.delaunay_2d(edge_source=comb)\n",
            "    >>> tess.plot(cpos='xy', show_edges=True)\n",
            "\n",
            "    See :ref:`triangulated_surface` for more examples using this filter.\n",
            "\n"
          ]
        }
      ],
      "source": [
        "help(cloud.delaunay_2d)"
      ]
    },
    {
      "cell_type": "markdown",
      "metadata": {},
      "source": [
        "Apply the `delaunay_2d` filter.\n"
      ]
    },
    {
      "cell_type": "code",
      "execution_count": 28,
      "metadata": {
        "collapsed": false
      },
      "outputs": [
        {
          "data": {
            "application/vnd.jupyter.widget-view+json": {
              "model_id": "2890761b8f4b4d159ec2eb8242b9e46a",
              "version_major": 2,
              "version_minor": 0
            },
            "text/plain": [
              "Widget(value='<iframe src=\"http://localhost:52989/index.html?ui=P_0x31a0f4f50_13&reconnect=auto\" class=\"pyvist…"
            ]
          },
          "metadata": {},
          "output_type": "display_data"
        }
      ],
      "source": [
        "surf = cloud.delaunay_2d()\n",
        "\n",
        "# And plot it with edges shown\n",
        "surf.plot(show_edges=True)"
      ]
    },
    {
      "cell_type": "markdown",
      "metadata": {},
      "source": [
        "# Clean Edges & Triangulations\n"
      ]
    },
    {
      "cell_type": "code",
      "execution_count": 17,
      "metadata": {
        "collapsed": false
      },
      "outputs": [
        {
          "data": {
            "text/html": [
              "\n",
              "<table style='width: 100%;'>\n",
              "<tr><th>PolyData</th><th>Information</th></tr>\n",
              "<tr><td>N Cells</td><td>100</td></tr>\n",
              "<tr><td>N Points</td><td>100</td></tr>\n",
              "<tr><td>N Strips</td><td>0</td></tr>\n",
              "<tr><td>X Bounds</td><td>2.517e-03, 9.280e+00</td></tr>\n",
              "<tr><td>Y Bounds</td><td>5.539e-03, 9.265e+00</td></tr>\n",
              "<tr><td>Z Bounds</td><td>0.000e+00, 0.000e+00</td></tr>\n",
              "<tr><td>N Arrays</td><td>0</td></tr>\n",
              "</table>\n",
              "\n"
            ],
            "text/plain": [
              "PolyData (0x30a14cdc0)\n",
              "  N Cells:    100\n",
              "  N Points:   100\n",
              "  N Strips:   0\n",
              "  X Bounds:   2.517e-03, 9.280e+00\n",
              "  Y Bounds:   5.539e-03, 9.265e+00\n",
              "  Z Bounds:   0.000e+00, 0.000e+00\n",
              "  N Arrays:   0"
            ]
          },
          "execution_count": 17,
          "metadata": {},
          "output_type": "execute_result"
        }
      ],
      "source": [
        "# Create the points to triangulate\n",
        "x = np.arange(10, dtype=float)\n",
        "xx, yy, zz = np.meshgrid(x, x, [0])\n",
        "points = np.column_stack(\n",
        "    (xx.ravel(order=\"F\"), yy.ravel(order=\"F\"), zz.ravel(order=\"F\"))\n",
        ")\n",
        "\n",
        "# Perturb the points in the x, y directions.\n",
        "points[:, 0] += np.random.rand(len(points)) * 0.3\n",
        "points[:, 1] += np.random.rand(len(points)) * 0.3\n",
        "\n",
        "# Create the point cloud mesh to triangulate from the coordinates\n",
        "cloud = pv.PolyData(points)\n",
        "cloud"
      ]
    },
    {
      "cell_type": "code",
      "execution_count": 13,
      "metadata": {
        "collapsed": false
      },
      "outputs": [
        {
          "data": {
            "application/vnd.jupyter.widget-view+json": {
              "model_id": "5318ed780b134bb5aaf4f0920860181a",
              "version_major": 2,
              "version_minor": 0
            },
            "text/plain": [
              "Widget(value='<iframe src=\"http://localhost:52989/index.html?ui=P_0x301cb0550_5&reconnect=auto\" class=\"pyvista…"
            ]
          },
          "metadata": {},
          "output_type": "display_data"
        }
      ],
      "source": [
        "cloud.plot(cpos=\"xy\")"
      ]
    },
    {
      "cell_type": "markdown",
      "metadata": {},
      "source": [
        "Run the triangulation on these points\n"
      ]
    },
    {
      "cell_type": "code",
      "execution_count": 18,
      "metadata": {
        "collapsed": false
      },
      "outputs": [
        {
          "data": {
            "application/vnd.jupyter.widget-view+json": {
              "model_id": "69cc79831bdc461aaf91b70fa4e2e59d",
              "version_major": 2,
              "version_minor": 0
            },
            "text/plain": [
              "Widget(value='<iframe src=\"http://localhost:52989/index.html?ui=P_0x301cb1090_6&reconnect=auto\" class=\"pyvista…"
            ]
          },
          "metadata": {},
          "output_type": "display_data"
        }
      ],
      "source": [
        "surf = cloud.delaunay_2d()\n",
        "surf.plot(cpos=\"xy\", show_edges=True)"
      ]
    },
    {
      "cell_type": "markdown",
      "metadata": {},
      "source": [
        "Note that some of the outer edges are unconstrained and the\n",
        "triangulation added unwanted triangles. We can mitigate that with the\n",
        "`alpha` parameter.\n"
      ]
    },
    {
      "cell_type": "code",
      "execution_count": 23,
      "metadata": {
        "collapsed": false
      },
      "outputs": [
        {
          "data": {
            "application/vnd.jupyter.widget-view+json": {
              "model_id": "48c54e4acd254239b75a6dbb360528ca",
              "version_major": 2,
              "version_minor": 0
            },
            "text/plain": [
              "Widget(value='<iframe src=\"http://localhost:52989/index.html?ui=P_0x301cb34d0_11&reconnect=auto\" class=\"pyvist…"
            ]
          },
          "metadata": {},
          "output_type": "display_data"
        }
      ],
      "source": [
        "surf = cloud.delaunay_2d(alpha=1)\n",
        "surf.plot(cpos=\"xy\", show_edges=True)"
      ]
    },
    {
      "cell_type": "markdown",
      "metadata": {},
      "source": [
        "```{=html}\n",
        "<center>\n",
        "  <a target=\"_blank\" href=\"https://colab.research.google.com/github/pyvista/pyvista-tutorial/blob/gh-pages/notebooks/tutorial/02_mesh/exercises/d_create-tri-surface.ipynb\">\n",
        "    <img src=\"https://colab.research.google.com/assets/colab-badge.svg\" alt=\"Open In Colab\"/ width=\"150px\">\n",
        "  </a>\n",
        "</center>\n",
        "```\n"
      ]
    }
  ],
  "metadata": {
    "kernelspec": {
      "display_name": "venv",
      "language": "python",
      "name": "python3"
    },
    "language_info": {
      "codemirror_mode": {
        "name": "ipython",
        "version": 3
      },
      "file_extension": ".py",
      "mimetype": "text/x-python",
      "name": "python",
      "nbconvert_exporter": "python",
      "pygments_lexer": "ipython3",
      "version": "3.13.5"
    }
  },
  "nbformat": 4,
  "nbformat_minor": 0
}
