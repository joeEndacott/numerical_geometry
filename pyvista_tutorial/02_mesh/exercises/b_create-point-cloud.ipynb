{
  "cells": [
    {
      "cell_type": "markdown",
      "metadata": {},
      "source": [
        "# Create Point Cloud {#create_point_cloud_exercise}\n",
        "\n",
        "Create a `pyvista.PolyData`{.interpreted-text role=\"class\"} object from\n",
        "a point cloud of vertices and scalar arrays for those points.\n"
      ]
    },
    {
      "cell_type": "code",
      "execution_count": 1,
      "metadata": {
        "collapsed": false
      },
      "outputs": [],
      "source": [
        "import numpy as np\n",
        "import pyvista as pv\n",
        "from pyvista import examples"
      ]
    },
    {
      "cell_type": "markdown",
      "metadata": {},
      "source": [
        "Point clouds are generally constructed using\n",
        "`pyvista.PolyData`{.interpreted-text role=\"class\"} and can easily have\n",
        "scalar or vector data arrays associated with the individual points. In\n",
        "this example, we\\'ll start by working backwards using a point cloud that\n",
        "is available from our `examples` module. This however is no different\n",
        "than creating a PyVista mesh with your own NumPy arrays of vertice\n",
        "locations.\n"
      ]
    },
    {
      "cell_type": "code",
      "execution_count": 2,
      "metadata": {
        "collapsed": false
      },
      "outputs": [
        {
          "data": {
            "text/plain": [
              "pyvista_ndarray([[4.81012275e+05, 4.40010430e+06, 1.76214001e+03],\n",
              "                 [4.80954575e+05, 4.40019700e+06, 1.77672998e+03],\n",
              "                 [4.81120175e+05, 4.40013490e+06, 1.75882996e+03],\n",
              "                 [4.81005475e+05, 4.40022750e+06, 1.75797998e+03],\n",
              "                 [4.81073875e+05, 4.40019210e+06, 1.75863000e+03]])"
            ]
          },
          "execution_count": 2,
          "metadata": {},
          "output_type": "execute_result"
        }
      ],
      "source": [
        "# Define some helpers - ignore these and use your own data if you like!\n",
        "def generate_points(subset=0.02):\n",
        "    \"\"\"A helper to make a 3D NumPy array of points (n_points by 3).\"\"\"\n",
        "    dataset = examples.download_lidar()\n",
        "    ids = np.random.randint(\n",
        "        low=0, high=dataset.n_points - 1, size=int(dataset.n_points * subset)\n",
        "    )\n",
        "    return dataset.points[ids]\n",
        "\n",
        "\n",
        "points = generate_points()\n",
        "# Output the first 5 rows to prove it's a numpy array (n_points by 3)\n",
        "# Columns are (X, Y, Z)\n",
        "points[0:5, :]"
      ]
    },
    {
      "cell_type": "markdown",
      "metadata": {},
      "source": [
        "Now that you have a NumPy array of points/vertices either from our\n",
        "sample data or your own project, create a PyVista mesh using those\n",
        "points.\n"
      ]
    },
    {
      "cell_type": "code",
      "execution_count": 3,
      "metadata": {
        "collapsed": false
      },
      "outputs": [],
      "source": [
        "# insert your code here\n",
        "point_cloud = pv.PolyData(points)"
      ]
    },
    {
      "cell_type": "markdown",
      "metadata": {},
      "source": [
        "Now, perform a sanity check to show that the points have been loaded\n",
        "correctly.\n"
      ]
    },
    {
      "cell_type": "code",
      "execution_count": 4,
      "metadata": {
        "collapsed": false
      },
      "outputs": [
        {
          "data": {
            "text/plain": [
              "True"
            ]
          },
          "execution_count": 4,
          "metadata": {},
          "output_type": "execute_result"
        }
      ],
      "source": [
        "np.allclose(points, point_cloud.points)"
      ]
    },
    {
      "cell_type": "markdown",
      "metadata": {},
      "source": [
        "Now that we have a PyVista mesh, we can plot it. Note that we add an\n",
        "option to use eye dome lighting - this is a shading technique to improve\n",
        "depth perception with point clouds (learn more about\n",
        "[EDL](https://docs.pyvista.org/examples/02-plot/edl.html)).\n"
      ]
    },
    {
      "cell_type": "code",
      "execution_count": 5,
      "metadata": {
        "collapsed": false
      },
      "outputs": [
        {
          "data": {
            "application/vnd.jupyter.widget-view+json": {
              "model_id": "3020317ea4b94f1a84247c4e0cbafcac",
              "version_major": 2,
              "version_minor": 0
            },
            "text/plain": [
              "Widget(value='<iframe src=\"http://localhost:53196/index.html?ui=P_0x1512eef90_0&reconnect=auto\" class=\"pyvista…"
            ]
          },
          "metadata": {},
          "output_type": "display_data"
        }
      ],
      "source": [
        "point_cloud.plot(eye_dome_lighting=True)"
      ]
    },
    {
      "cell_type": "markdown",
      "metadata": {},
      "source": [
        "Now what if you have data attributes (scalar or vector arrays) that\n",
        "you\\'d like to associate with every point of your mesh? You can easily\n",
        "add NumPy data arrays that have a length equal to the number of points\n",
        "in the mesh along the first axis. For example, lets add a few arrays to\n",
        "this new `point_cloud` mesh.\n",
        "\n",
        "Make an array of scalar values with the same length as the points array.\n",
        "Each element in this array will correspond to points at the same index:\n",
        "\n",
        "::: note\n",
        "::: title\n",
        "Note\n",
        ":::\n",
        "\n",
        "You can use a component of the `points` array or use the `n_points`\n",
        "property of the mesh to make an array of that length.\n",
        ":::\n"
      ]
    },
    {
      "cell_type": "code",
      "execution_count": 6,
      "metadata": {
        "collapsed": false
      },
      "outputs": [],
      "source": [
        "elevation_data = point_cloud.points[:, -1]"
      ]
    },
    {
      "cell_type": "markdown",
      "metadata": {},
      "source": [
        "Add that data to the mesh with the name \\\"elevation\\\".\n"
      ]
    },
    {
      "cell_type": "code",
      "execution_count": 7,
      "metadata": {
        "collapsed": false
      },
      "outputs": [],
      "source": [
        "point_cloud[\"elevation\"] = elevation_data"
      ]
    },
    {
      "cell_type": "markdown",
      "metadata": {},
      "source": [
        "And now we can plot the point cloud with that elevation data. PyVista is\n",
        "smart enough to plot the scalar array you added by default. This time,\n",
        "let\\'s render every point as its own sphere using\n",
        "`render_points_as_spheres`.\n"
      ]
    },
    {
      "cell_type": "code",
      "execution_count": 8,
      "metadata": {
        "collapsed": false
      },
      "outputs": [
        {
          "data": {
            "application/vnd.jupyter.widget-view+json": {
              "model_id": "72400679186c4d3ea5d0c6abf8124aa3",
              "version_major": 2,
              "version_minor": 0
            },
            "text/plain": [
              "Widget(value='<iframe src=\"http://localhost:53196/index.html?ui=P_0x15caa5810_1&reconnect=auto\" class=\"pyvista…"
            ]
          },
          "metadata": {},
          "output_type": "display_data"
        }
      ],
      "source": [
        "point_cloud.plot(render_points_as_spheres=True)"
      ]
    },
    {
      "cell_type": "markdown",
      "metadata": {},
      "source": [
        "That data is kind of boring, right? You can also add data arrays with\n",
        "more than one scalar value - perhaps a vector with three elements?\n",
        "Let\\'s make a little function that will compute vectors for every point\n",
        "in the point cloud and add those vectors to the mesh.\n",
        "\n",
        "This time, we\\'re going to create a totally new, random point cloud\n",
        "containing 100 points using `numpy.random.random`{.interpreted-text\n",
        "role=\"func\"}.\n"
      ]
    },
    {
      "cell_type": "code",
      "execution_count": 9,
      "metadata": {
        "collapsed": false
      },
      "outputs": [
        {
          "data": {
            "text/plain": [
              "pyvista_ndarray([[ 0.86090144, -0.16115552,  0.48257393],\n",
              "                 [ 0.6027738 ,  0.26833374, -0.75143912],\n",
              "                 [ 0.1952766 , -0.97269533, -0.12542266],\n",
              "                 [ 0.65689829,  0.66920208, -0.34735171],\n",
              "                 [ 0.81254803, -0.36338821,  0.45575728]])"
            ]
          },
          "execution_count": 9,
          "metadata": {},
          "output_type": "execute_result"
        }
      ],
      "source": [
        "# Create a random point cloud with Cartesian coordinates\n",
        "points = np.random.rand(100, 3)\n",
        "# Construct PolyData from those points\n",
        "point_cloud = pv.PolyData(points)\n",
        "\n",
        "\n",
        "def compute_vectors(mesh):\n",
        "    \"\"\"Create normalized vectors pointing outward from the center of the cloud.\"\"\"\n",
        "    origin = mesh.center\n",
        "    vectors = mesh.points - origin\n",
        "    return vectors / np.linalg.norm(vectors, axis=1)[:, None]\n",
        "\n",
        "\n",
        "vectors = compute_vectors(point_cloud)\n",
        "vectors[0:5, :]"
      ]
    },
    {
      "cell_type": "markdown",
      "metadata": {},
      "source": [
        "Add the vector array as point data to the new mesh:\n"
      ]
    },
    {
      "cell_type": "code",
      "execution_count": 10,
      "metadata": {},
      "outputs": [],
      "source": [
        "point_cloud[\"vectors\"] = vectors"
      ]
    },
    {
      "cell_type": "markdown",
      "metadata": {},
      "source": [
        "Now we can make arrows using those vectors using the glyph filter (see\n",
        "the [Glyph\n",
        "Example](https://docs.pyvista.org/examples/01-filter/glyphs.html) for\n",
        "more details).\n"
      ]
    },
    {
      "cell_type": "code",
      "execution_count": 11,
      "metadata": {
        "collapsed": false
      },
      "outputs": [
        {
          "data": {
            "application/vnd.jupyter.widget-view+json": {
              "model_id": "61c7b57ea72947b0916f8f5e80db5f76",
              "version_major": 2,
              "version_minor": 0
            },
            "text/plain": [
              "Widget(value='<iframe src=\"http://localhost:53196/index.html?ui=P_0x15cbf07d0_2&reconnect=auto\" class=\"pyvista…"
            ]
          },
          "metadata": {},
          "output_type": "display_data"
        }
      ],
      "source": [
        "arrows = point_cloud.glyph(\n",
        "    orient=\"vectors\",\n",
        "    scale=False,\n",
        "    factor=0.1,\n",
        ")\n",
        "\n",
        "# Display the arrows\n",
        "plotter = pv.Plotter()\n",
        "plotter.add_mesh(\n",
        "    point_cloud, color=\"maroon\", point_size=10.0, render_points_as_spheres=True\n",
        ")\n",
        "plotter.add_mesh(arrows, color=\"lightblue\")\n",
        "# plotter.add_point_labels([point_cloud.center,], ['Center',],\n",
        "#                          point_color='yellow', point_size=20)\n",
        "plotter.show_grid()\n",
        "plotter.show()"
      ]
    },
    {
      "cell_type": "markdown",
      "metadata": {},
      "source": [
        "```{=html}\n",
        "<center>\n",
        "  <a target=\"_blank\" href=\"https://colab.research.google.com/github/pyvista/pyvista-tutorial/blob/gh-pages/notebooks/tutorial/02_mesh/exercises/b_create-point-cloud.ipynb\">\n",
        "    <img src=\"https://colab.research.google.com/assets/colab-badge.svg\" alt=\"Open In Colab\"/ width=\"150px\">\n",
        "  </a>\n",
        "</center>\n",
        "```\n"
      ]
    },
    {
      "cell_type": "markdown",
      "metadata": {},
      "source": [
        "# Questions\n",
        "\n",
        "- How is `pv.PolyData(points)` different to the original `points` NumPy array?\n"
      ]
    }
  ],
  "metadata": {
    "kernelspec": {
      "display_name": "venv",
      "language": "python",
      "name": "python3"
    },
    "language_info": {
      "codemirror_mode": {
        "name": "ipython",
        "version": 3
      },
      "file_extension": ".py",
      "mimetype": "text/x-python",
      "name": "python",
      "nbconvert_exporter": "python",
      "pygments_lexer": "ipython3",
      "version": "3.13.5"
    }
  },
  "nbformat": 4,
  "nbformat_minor": 0
}
