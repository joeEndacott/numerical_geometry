{
  "cells": [
    {
      "cell_type": "markdown",
      "metadata": {},
      "source": [
        "# Create Basic Geometric Objects {#ref_geometric_example}\n",
        "\n",
        "This is the \\\"Hello, world!\\\" of PyVista.\n"
      ]
    },
    {
      "cell_type": "code",
      "execution_count": null,
      "metadata": {
        "collapsed": false
      },
      "outputs": [],
      "source": [
        "import pyvista as pv\n",
        "\n",
        "# Set the backend.\n",
        "pv.set_jupyter_backend(\"trame\")"
      ]
    },
    {
      "cell_type": "markdown",
      "metadata": {},
      "source": [
        "This runs through several of the available geometric objects available\n",
        "in VTK which PyVista provides simple convenience methods for generating.\n",
        "\n",
        "Let\\'s run through creating a few geometric objects!\n"
      ]
    },
    {
      "cell_type": "code",
      "execution_count": 4,
      "metadata": {
        "collapsed": false
      },
      "outputs": [],
      "source": [
        "cyl = pv.Cylinder()\n",
        "arrow = pv.Arrow()\n",
        "sphere = pv.Sphere()\n",
        "plane = pv.Plane()\n",
        "line = pv.Line()\n",
        "box = pv.Box()\n",
        "cone = pv.Cone()\n",
        "poly = pv.Polygon()\n",
        "disc = pv.Disc()"
      ]
    },
    {
      "cell_type": "markdown",
      "metadata": {},
      "source": [
        "Now let\\'s plot them all in one window\n"
      ]
    },
    {
      "cell_type": "code",
      "execution_count": 6,
      "metadata": {
        "collapsed": false
      },
      "outputs": [
        {
          "data": {
            "application/vnd.jupyter.widget-view+json": {
              "model_id": "ae3812a54a344b7e9c818c5d92df2c82",
              "version_major": 2,
              "version_minor": 0
            },
            "text/plain": [
              "Widget(value='<iframe src=\"http://localhost:50946/index.html?ui=P_0x153336c10_1&reconnect=auto\" class=\"pyvista…"
            ]
          },
          "metadata": {},
          "output_type": "display_data"
        }
      ],
      "source": [
        "pl = pv.Plotter(shape=(3, 3))\n",
        "# Top row\n",
        "pl.subplot(0, 0)\n",
        "pl.add_mesh(cyl, color=\"tan\", show_edges=True)\n",
        "pl.subplot(0, 1)\n",
        "pl.add_mesh(arrow, color=\"tan\", show_edges=True)\n",
        "pl.subplot(0, 2)\n",
        "pl.add_mesh(sphere, color=\"tan\", show_edges=True)\n",
        "# Middle row\n",
        "pl.subplot(1, 0)\n",
        "pl.add_mesh(plane, color=\"tan\", show_edges=True)\n",
        "pl.subplot(1, 1)\n",
        "pl.add_mesh(line, color=\"tan\", line_width=3)\n",
        "pl.subplot(1, 2)\n",
        "pl.add_mesh(box, color=\"tan\", show_edges=True)\n",
        "# Bottom row\n",
        "pl.subplot(2, 0)\n",
        "pl.add_mesh(cone, color=\"tan\", show_edges=True)\n",
        "pl.subplot(2, 1)\n",
        "pl.add_mesh(poly, color=\"tan\", show_edges=True)\n",
        "pl.subplot(2, 2)\n",
        "pl.add_mesh(disc, color=\"tan\", show_edges=True)\n",
        "# Render all of them\n",
        "pl.show()\n",
        "# Export this plotter as an interactive scene to a HTML file.\n",
        "# p.export_html(\"a_basic.html\")"
      ]
    },
    {
      "cell_type": "markdown",
      "metadata": {},
      "source": [
        "```{=html}\n",
        "<center>\n",
        "  <a target=\"_blank\" href=\"https://colab.research.google.com/github/pyvista/pyvista-tutorial/blob/gh-pages/notebooks/tutorial/00_intro/a_basic.ipynb\">\n",
        "    <img src=\"https://colab.research.google.com/assets/colab-badge.svg\" alt=\"Open In Colab\"/ width=\"150px\">\n",
        "  </a>\n",
        "</center>\n",
        "```\n"
      ]
    },
    {
      "cell_type": "markdown",
      "metadata": {},
      "source": [
        "# More examples\n"
      ]
    },
    {
      "cell_type": "code",
      "execution_count": 7,
      "metadata": {},
      "outputs": [
        {
          "data": {
            "application/vnd.jupyter.widget-view+json": {
              "model_id": "5c04b0f3eca74bcba67b8832dabb0136",
              "version_major": 2,
              "version_minor": 0
            },
            "text/plain": [
              "Widget(value='<iframe src=\"http://localhost:50946/index.html?ui=P_0x153441090_2&reconnect=auto\" class=\"pyvista…"
            ]
          },
          "metadata": {},
          "output_type": "display_data"
        }
      ],
      "source": [
        "pl = pv.Plotter()\n",
        "pl.add_mesh(pv.ParametricKlein())\n",
        "pl.show()"
      ]
    },
    {
      "cell_type": "code",
      "execution_count": 11,
      "metadata": {},
      "outputs": [
        {
          "data": {
            "application/vnd.jupyter.widget-view+json": {
              "model_id": "3d8b1ec602844243bc2ae65b954f007c",
              "version_major": 2,
              "version_minor": 0
            },
            "text/plain": [
              "Widget(value='<iframe src=\"http://localhost:50946/index.html?ui=P_0x153443ed0_6&reconnect=auto\" class=\"pyvista…"
            ]
          },
          "metadata": {},
          "output_type": "display_data"
        }
      ],
      "source": [
        "pl = pv.Plotter()\n",
        "pl.add_mesh(pv.ParametricRandomHills().elevation())\n",
        "pl.show()"
      ]
    },
    {
      "cell_type": "code",
      "execution_count": 12,
      "metadata": {},
      "outputs": [
        {
          "data": {
            "application/vnd.jupyter.widget-view+json": {
              "model_id": "88096705becd47f1952aaf9120acf67e",
              "version_major": 2,
              "version_minor": 0
            },
            "text/plain": [
              "Widget(value='<iframe src=\"http://localhost:50946/index.html?ui=P_0x1642e4f50_7&reconnect=auto\" class=\"pyvista…"
            ]
          },
          "metadata": {},
          "output_type": "display_data"
        }
      ],
      "source": [
        "pl = pv.Plotter()\n",
        "pl.add_volume(pv.Wavelet())\n",
        "pl.show()"
      ]
    },
    {
      "cell_type": "code",
      "execution_count": null,
      "metadata": {},
      "outputs": [],
      "source": []
    }
  ],
  "metadata": {
    "kernelspec": {
      "display_name": "venv",
      "language": "python",
      "name": "python3"
    },
    "language_info": {
      "codemirror_mode": {
        "name": "ipython",
        "version": 3
      },
      "file_extension": ".py",
      "mimetype": "text/x-python",
      "name": "python",
      "nbconvert_exporter": "python",
      "pygments_lexer": "ipython3",
      "version": "3.13.5"
    }
  },
  "nbformat": 4,
  "nbformat_minor": 0
}
