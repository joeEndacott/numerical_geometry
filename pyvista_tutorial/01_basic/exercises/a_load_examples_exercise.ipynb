{
  "cells": [
    {
      "cell_type": "markdown",
      "metadata": {},
      "source": [
        "# Download and Plot Examples {#load_examples}\n",
        "\n",
        "Download and plot example datasets.\n",
        "\n",
        "PyVista contains many downloadable datasets documented at\n",
        "[pyvista.examples.downloads](https://docs.pyvista.org/api/examples/_autosummary/pyvista.examples.downloads.html).\n",
        "You can download these through Python and immediately plot them.\n",
        "\n",
        "This is an easy way to immediately get started with example datasets\n",
        "within PyVista without having to manually download and load them.\n"
      ]
    },
    {
      "cell_type": "markdown",
      "metadata": {},
      "source": [
        "# Import PyVista and the examples module\n"
      ]
    },
    {
      "cell_type": "code",
      "execution_count": 1,
      "metadata": {
        "collapsed": false
      },
      "outputs": [],
      "source": [
        "import pyvista as pv\n",
        "from pyvista import examples"
      ]
    },
    {
      "cell_type": "markdown",
      "metadata": {},
      "source": [
        "# Surface DataSet - Download\n",
        "\n",
        "Download a surface dataset of pine roots. Note how the dataset is\n",
        "automatically loaded right into Python.\n"
      ]
    },
    {
      "cell_type": "code",
      "execution_count": 2,
      "metadata": {
        "collapsed": false
      },
      "outputs": [
        {
          "data": {
            "text/html": [
              "<table style='width: 100%;'><tr><th>Header</th><th>Data Arrays</th></tr><tr><td>\n",
              "<table style='width: 100%;'>\n",
              "<tr><th>PolyData</th><th>Information</th></tr>\n",
              "<tr><td>N Cells</td><td>351536</td></tr>\n",
              "<tr><td>N Points</td><td>178091</td></tr>\n",
              "<tr><td>N Strips</td><td>0</td></tr>\n",
              "<tr><td>X Bounds</td><td>2.742e+00, 7.847e+01</td></tr>\n",
              "<tr><td>Y Bounds</td><td>0.000e+00, 7.969e+01</td></tr>\n",
              "<tr><td>Z Bounds</td><td>0.000e+00, 9.961e+01</td></tr>\n",
              "<tr><td>N Arrays</td><td>1</td></tr>\n",
              "</table>\n",
              "\n",
              "</td><td>\n",
              "<table style='width: 100%;'>\n",
              "<tr><th>Name</th><th>Field</th><th>Type</th><th>N Comp</th><th>Min</th><th>Max</th></tr>\n",
              "<tr><td>Unnamed_0</td><td>Points</td><td>float32</td><td>3</td><td>-1.000e+00</td><td>1.000e+00</td></tr>\n",
              "</table>\n",
              "\n",
              "</td></tr> </table>"
            ],
            "text/plain": [
              "PolyData (0x136edb8e0)\n",
              "  N Cells:    351536\n",
              "  N Points:   178091\n",
              "  N Strips:   0\n",
              "  X Bounds:   2.742e+00, 7.847e+01\n",
              "  Y Bounds:   0.000e+00, 7.969e+01\n",
              "  Z Bounds:   0.000e+00, 9.961e+01\n",
              "  N Arrays:   1"
            ]
          },
          "execution_count": 2,
          "metadata": {},
          "output_type": "execute_result"
        }
      ],
      "source": [
        "dataset = examples.download_pine_roots()\n",
        "dataset"
      ]
    },
    {
      "cell_type": "markdown",
      "metadata": {},
      "source": [
        "# Surface DataSet - Plot\n",
        "\n",
        "Plot the pine roots using PyVista\\'s default plotting settings.\n"
      ]
    },
    {
      "cell_type": "code",
      "execution_count": 3,
      "metadata": {
        "collapsed": false
      },
      "outputs": [
        {
          "data": {
            "application/vnd.jupyter.widget-view+json": {
              "model_id": "bdb193708f3a42ce90f6e0add04c5312",
              "version_major": 2,
              "version_minor": 0
            },
            "text/plain": [
              "Widget(value='<iframe src=\"http://localhost:51494/index.html?ui=P_0x136ef1550_0&reconnect=auto\" class=\"pyvista…"
            ]
          },
          "metadata": {},
          "output_type": "display_data"
        }
      ],
      "source": [
        "dataset.plot()"
      ]
    },
    {
      "cell_type": "markdown",
      "metadata": {},
      "source": [
        "# Volume DataSet - Download\n",
        "\n",
        "Download the bolt dataset. This is an excellent dataset to visualize\n",
        "using \\\"volumetric\\\" plotting.\n"
      ]
    },
    {
      "cell_type": "code",
      "execution_count": 4,
      "metadata": {
        "collapsed": false
      },
      "outputs": [
        {
          "data": {
            "text/html": [
              "<table style='width: 100%;'><tr><th>Information</th><th>Blocks</th></tr><tr><td>\n",
              "<table>\n",
              "<tr><th>MultiBlock</th><th>Values</th></tr>\n",
              "<tr><td>N Blocks:</td><td>2</td></tr>\n",
              "<tr><td>X Bounds:</td><td>0.000e+00, 6.900e+01</td></tr>\n",
              "<tr><td>Y Bounds:</td><td>0.000e+00, 1.220e+02</td></tr>\n",
              "<tr><td>Z Bounds:</td><td>0.000e+00, 6.500e+01</td></tr>\n",
              "</table>\n",
              "\n",
              "</td><td>\n",
              "<table>\n",
              "<tr><th>Index</th><th>Name</th><th>Type</th></tr>\n",
              "<tr><th>0</th><th>bolt</th><th>ImageData</th></tr>\n",
              "<tr><th>1</th><th>nut</th><th>ImageData</th></tr>\n",
              "</table>\n",
              "\n",
              "</td></tr> </table>"
            ],
            "text/plain": [
              "MultiBlock (0x140da2980)\n",
              "  N Blocks:   2\n",
              "  X Bounds:   0.000e+00, 6.900e+01\n",
              "  Y Bounds:   0.000e+00, 1.220e+02\n",
              "  Z Bounds:   0.000e+00, 6.500e+01"
            ]
          },
          "execution_count": 4,
          "metadata": {},
          "output_type": "execute_result"
        }
      ],
      "source": [
        "dataset = examples.download_bolt_nut()\n",
        "dataset"
      ]
    },
    {
      "cell_type": "markdown",
      "metadata": {},
      "source": [
        "# Volume DataSet - Plot\n",
        "\n",
        "Here, we plot the dataset using a custom view direction using\n",
        "`pyvista.Plotter`{.interpreted-text role=\"class\"}.\n"
      ]
    },
    {
      "cell_type": "code",
      "execution_count": 6,
      "metadata": {
        "collapsed": false
      },
      "outputs": [
        {
          "data": {
            "application/vnd.jupyter.widget-view+json": {
              "model_id": "ba12038713e146bc8c1a364c3d1f0871",
              "version_major": 2,
              "version_minor": 0
            },
            "text/plain": [
              "Widget(value='<iframe src=\"http://localhost:51494/index.html?ui=P_0x16a8cde50_2&reconnect=auto\" class=\"pyvista…"
            ]
          },
          "metadata": {},
          "output_type": "display_data"
        }
      ],
      "source": [
        "pl = pv.Plotter()\n",
        "_ = pl.add_volume(\n",
        "    dataset,\n",
        "    cmap=\"coolwarm\",\n",
        "    opacity=\"sigmoid_5\",\n",
        "    show_scalar_bar=False,\n",
        ")\n",
        "pl.camera_position = [(194.6, -141.8, 182.0), (34.5, 61.0, 32.5), (-0.229, 0.45, 0.86)]\n",
        "pl.show()"
      ]
    },
    {
      "cell_type": "markdown",
      "metadata": {},
      "source": [
        "# Exercise #1 - Use PyVista Examples\n",
        "\n",
        "Visualize one of PyVista\\'s built in examples.\n",
        "\n",
        "If your IDE supports it, you should be able to type\n",
        "`dataset = examples.download_` and press tab to see all the available\n",
        "examples you can download.\n"
      ]
    },
    {
      "cell_type": "code",
      "execution_count": 12,
      "metadata": {},
      "outputs": [
        {
          "data": {
            "application/vnd.jupyter.widget-view+json": {
              "model_id": "cd0788f8bc0c4755b5089e7f96cd618b",
              "version_major": 2,
              "version_minor": 0
            },
            "text/plain": [
              "Widget(value='<iframe src=\"http://localhost:51494/index.html?ui=P_0x173659a90_4&reconnect=auto\" class=\"pyvista…"
            ]
          },
          "metadata": {},
          "output_type": "display_data"
        }
      ],
      "source": [
        "import pyvista as pv\n",
        "from pyvista import examples\n",
        "\n",
        "dataset = examples.download_armadillo()\n",
        "dataset.plot()"
      ]
    },
    {
      "cell_type": "markdown",
      "metadata": {},
      "source": [
        "# Exercise #2 - Download and View a File\n",
        "\n",
        "Experiment on your own by downloading a dataset and reading it in with\n",
        "`pyvista.read`{.interpreted-text role=\"func\"}. You can use one of your\n",
        "own files or try downloading one from the following sources:\n",
        "\n",
        "- [Sample VTK\n",
        "  DataSets](https://github.com/pyvista/vtk-data/tree/master/Data)\n",
        "- [Sample STL\n",
        "  files](https://www.amtekcompany.com/teaching-resources/stl-files/)\n",
        "- [Thingiverse](https://www.thingiverse.com/)\n"
      ]
    },
    {
      "cell_type": "code",
      "execution_count": 14,
      "metadata": {},
      "outputs": [
        {
          "data": {
            "application/vnd.jupyter.widget-view+json": {
              "model_id": "cff882d682294b89a5b63d8170a52a89",
              "version_major": 2,
              "version_minor": 0
            },
            "text/plain": [
              "Widget(value='<iframe src=\"http://localhost:51494/index.html?ui=P_0x17365a850_5&reconnect=auto\" class=\"pyvista…"
            ]
          },
          "metadata": {},
          "output_type": "display_data"
        }
      ],
      "source": [
        "dataset = pv.read(\"T0000000500.pvtu\")\n",
        "dataset\n",
        "\n",
        "dataset.plot()"
      ]
    },
    {
      "cell_type": "markdown",
      "metadata": {},
      "source": [
        "```{=html}\n",
        "<center>\n",
        "  <a target=\"_blank\" href=\"https://colab.research.google.com/github/pyvista/pyvista-tutorial/blob/gh-pages/notebooks/tutorial/01_basic/exercises/a_load_examples_exercise.ipynb\">\n",
        "    <img src=\"https://colab.research.google.com/assets/colab-badge.svg\" alt=\"Open In Colab\"/ width=\"150px\">\n",
        "  </a>\n",
        "</center>\n",
        "```\n"
      ]
    }
  ],
  "metadata": {
    "kernelspec": {
      "display_name": "venv",
      "language": "python",
      "name": "python3"
    },
    "language_info": {
      "codemirror_mode": {
        "name": "ipython",
        "version": 3
      },
      "file_extension": ".py",
      "mimetype": "text/x-python",
      "name": "python",
      "nbconvert_exporter": "python",
      "pygments_lexer": "ipython3",
      "version": "3.13.5"
    }
  },
  "nbformat": 4,
  "nbformat_minor": 0
}
