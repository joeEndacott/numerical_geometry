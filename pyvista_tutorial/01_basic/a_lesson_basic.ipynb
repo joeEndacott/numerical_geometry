{
  "cells": [
    {
      "cell_type": "markdown",
      "metadata": {},
      "source": [
        "# Basic Usage Lesson {#basic_lesson}\n",
        "\n",
        "This section demonstrates how to use PyVista to read and plot 3D data\n",
        "using the\n",
        "[pyvista.examples.downloads](https://docs.pyvista.org/api/examples/_autosummary/pyvista.examples.downloads.html)\n",
        "module and external files.\n"
      ]
    },
    {
      "cell_type": "code",
      "execution_count": 1,
      "metadata": {
        "collapsed": false
      },
      "outputs": [],
      "source": [
        "import pyvista as pv\n",
        "from pyvista import examples\n",
        "\n",
        "# Set the default plot theme to the \"document\" theme.\n",
        "# pv.set_plot_theme('document')"
      ]
    },
    {
      "cell_type": "markdown",
      "metadata": {},
      "source": [
        "# Using Existing Data\n",
        "\n",
        "There are two main ways of getting data into PyVista: creating it\n",
        "yourself from scratch or loading the dataset from any one of the\n",
        "[compatible file\n",
        "formats](https://docs.pyvista.org/api/readers/index.html). Since we\\'re\n",
        "just starting out, let\\'s load a file.\n"
      ]
    },
    {
      "cell_type": "code",
      "execution_count": 2,
      "metadata": {
        "collapsed": false
      },
      "outputs": [
        {
          "data": {
            "text/html": [
              "\n",
              "<table style='width: 100%;'>\n",
              "<tr><th>PolyData</th><th>Information</th></tr>\n",
              "<tr><td>N Cells</td><td>5131</td></tr>\n",
              "<tr><td>N Points</td><td>2669</td></tr>\n",
              "<tr><td>N Strips</td><td>0</td></tr>\n",
              "<tr><td>X Bounds</td><td>-2.001e+01, 2.000e+01</td></tr>\n",
              "<tr><td>Y Bounds</td><td>-6.480e-01, 4.024e+01</td></tr>\n",
              "<tr><td>Z Bounds</td><td>-6.093e-01, 1.513e+01</td></tr>\n",
              "<tr><td>N Arrays</td><td>0</td></tr>\n",
              "</table>\n",
              "\n"
            ],
            "text/plain": [
              "PolyData (0x1529df820)\n",
              "  N Cells:    5131\n",
              "  N Points:   2669\n",
              "  N Strips:   0\n",
              "  X Bounds:   -2.001e+01, 2.000e+01\n",
              "  Y Bounds:   -6.480e-01, 4.024e+01\n",
              "  Z Bounds:   -6.093e-01, 1.513e+01\n",
              "  N Arrays:   0"
            ]
          },
          "execution_count": 2,
          "metadata": {},
          "output_type": "execute_result"
        }
      ],
      "source": [
        "# If you have a dataset handy, like a surface model, point cloud, or VTK file,\n",
        "# you can use that. If you don't have something immediately available, PyVista\n",
        "# has a variety of files you can download in its `pyvista.examples.downloads\n",
        "# <https://docs.pyvista.org/api/examples/_autosummary/pyvista.examples.downloads.html>`_\n",
        "#\n",
        "\n",
        "\n",
        "dataset = examples.download_saddle_surface()\n",
        "dataset"
      ]
    },
    {
      "cell_type": "markdown",
      "metadata": {},
      "source": [
        "Note how this is a `pyvista.PolyData`{.interpreted-text role=\"class\"},\n",
        "which is effectively a surface dataset containing points, lines, and/or\n",
        "faces. We can immediately plot this with:\n"
      ]
    },
    {
      "cell_type": "code",
      "execution_count": 3,
      "metadata": {
        "collapsed": false
      },
      "outputs": [
        {
          "data": {
            "application/vnd.jupyter.widget-view+json": {
              "model_id": "f3ef7f5f6f1a43c9bfceacd5184ee55e",
              "version_major": 2,
              "version_minor": 0
            },
            "text/plain": [
              "Widget(value='<iframe src=\"http://localhost:51429/index.html?ui=P_0x1529f5550_0&reconnect=auto\" class=\"pyvista…"
            ]
          },
          "metadata": {},
          "output_type": "display_data"
        }
      ],
      "source": [
        "dataset.plot(color=\"tan\")"
      ]
    },
    {
      "cell_type": "markdown",
      "metadata": {},
      "source": [
        "This is a fairly basic plot. You can change how its plotted by adding\n",
        "parameters as `show_edges=True` or changing the color by setting `color`\n",
        "to a different value. All of this is described in PyVista\\'s API\n",
        "documentation in `pyvista.plot`{.interpreted-text role=\"func\"}, but for\n",
        "now let\\'s take a look at another dataset. This one is a volumetric\n",
        "dataset.\n"
      ]
    },
    {
      "cell_type": "code",
      "execution_count": 4,
      "metadata": {
        "collapsed": false
      },
      "outputs": [
        {
          "data": {
            "text/html": [
              "<table style='width: 100%;'><tr><th>Header</th><th>Data Arrays</th></tr><tr><td>\n",
              "<table style='width: 100%;'>\n",
              "<tr><th>ImageData</th><th>Information</th></tr>\n",
              "<tr><td>N Cells</td><td>31594185</td></tr>\n",
              "<tr><td>N Points</td><td>31960000</td></tr>\n",
              "<tr><td>X Bounds</td><td>0.000e+00, 4.990e+02</td></tr>\n",
              "<tr><td>Y Bounds</td><td>0.000e+00, 4.690e+02</td></tr>\n",
              "<tr><td>Z Bounds</td><td>0.000e+00, 2.025e+02</td></tr>\n",
              "<tr><td>Dimensions</td><td>500, 470, 136</td></tr>\n",
              "<tr><td>Spacing</td><td>1.000e+00, 1.000e+00, 1.500e+00</td></tr>\n",
              "<tr><td>N Arrays</td><td>1</td></tr>\n",
              "</table>\n",
              "\n",
              "</td><td>\n",
              "<table style='width: 100%;'>\n",
              "<tr><th>Name</th><th>Field</th><th>Type</th><th>N Comp</th><th>Min</th><th>Max</th></tr>\n",
              "<tr><td><b>MetaImage</b></td><td>Points</td><td>uint8</td><td>1</td><td>0.000e+00</td><td>2.540e+02</td></tr>\n",
              "</table>\n",
              "\n",
              "</td></tr> </table>"
            ],
            "text/plain": [
              "ImageData (0x154136500)\n",
              "  N Cells:      31594185\n",
              "  N Points:     31960000\n",
              "  X Bounds:     0.000e+00, 4.990e+02\n",
              "  Y Bounds:     0.000e+00, 4.690e+02\n",
              "  Z Bounds:     0.000e+00, 2.025e+02\n",
              "  Dimensions:   500, 470, 136\n",
              "  Spacing:      1.000e+00, 1.000e+00, 1.500e+00\n",
              "  N Arrays:     1"
            ]
          },
          "execution_count": 4,
          "metadata": {},
          "output_type": "execute_result"
        }
      ],
      "source": [
        "dataset = examples.download_frog()\n",
        "dataset"
      ]
    },
    {
      "cell_type": "markdown",
      "metadata": {},
      "source": [
        "This is a `pyvista.ImageData`{.interpreted-text role=\"class\"}, which is\n",
        "a dataset containing a uniform set of points with consistent spacing.\n",
        "When we plot this dataset, we have the option of enabling volumetric\n",
        "plotting, which plots individual cells based on the content of the data\n",
        "associated with those cells.\n"
      ]
    },
    {
      "cell_type": "code",
      "execution_count": 5,
      "metadata": {
        "collapsed": false
      },
      "outputs": [
        {
          "data": {
            "application/vnd.jupyter.widget-view+json": {
              "model_id": "1c4fb35b7fc748c99eb0665c2fe8ff58",
              "version_major": 2,
              "version_minor": 0
            },
            "text/plain": [
              "Widget(value='<iframe src=\"http://localhost:51429/index.html?ui=P_0x154152850_1&reconnect=auto\" class=\"pyvista…"
            ]
          },
          "metadata": {},
          "output_type": "display_data"
        }
      ],
      "source": [
        "dataset.plot(volume=True)"
      ]
    },
    {
      "cell_type": "markdown",
      "metadata": {},
      "source": [
        "# Read from a file\n",
        "\n",
        "You can read datasets directly from a file if you have access to it on\n",
        "your environment. This can be one of the many file formats that VTK\n",
        "supports, and many more that it doesn\\'t as PyVista can rely on\n",
        "libraries like [meshio](https://github.com/nschloe/meshio).\n",
        "\n",
        "In the following example, we load VTK\\'s iron protein dataset\n",
        "[ironProt.vtk](https://github.com/naucoin/VTKData/blob/master/Data/ironProt.vtk)\n",
        "from a file using `pyvista.read`{.interpreted-text role=\"func\"}.\n"
      ]
    },
    {
      "cell_type": "code",
      "execution_count": 6,
      "metadata": {
        "collapsed": false
      },
      "outputs": [
        {
          "data": {
            "text/html": [
              "<table style='width: 100%;'><tr><th>Header</th><th>Data Arrays</th></tr><tr><td>\n",
              "<table style='width: 100%;'>\n",
              "<tr><th>ImageData</th><th>Information</th></tr>\n",
              "<tr><td>N Cells</td><td>300763</td></tr>\n",
              "<tr><td>N Points</td><td>314432</td></tr>\n",
              "<tr><td>X Bounds</td><td>0.000e+00, 6.700e+01</td></tr>\n",
              "<tr><td>Y Bounds</td><td>0.000e+00, 6.700e+01</td></tr>\n",
              "<tr><td>Z Bounds</td><td>0.000e+00, 6.700e+01</td></tr>\n",
              "<tr><td>Dimensions</td><td>68, 68, 68</td></tr>\n",
              "<tr><td>Spacing</td><td>1.000e+00, 1.000e+00, 1.000e+00</td></tr>\n",
              "<tr><td>N Arrays</td><td>1</td></tr>\n",
              "</table>\n",
              "\n",
              "</td><td>\n",
              "<table style='width: 100%;'>\n",
              "<tr><th>Name</th><th>Field</th><th>Type</th><th>N Comp</th><th>Min</th><th>Max</th></tr>\n",
              "<tr><td><b>scalars</b></td><td>Points</td><td>uint8</td><td>1</td><td>0.000e+00</td><td>2.550e+02</td></tr>\n",
              "</table>\n",
              "\n",
              "</td></tr> </table>"
            ],
            "text/plain": [
              "ImageData (0x154137f40)\n",
              "  N Cells:      300763\n",
              "  N Points:     314432\n",
              "  X Bounds:     0.000e+00, 6.700e+01\n",
              "  Y Bounds:     0.000e+00, 6.700e+01\n",
              "  Z Bounds:     0.000e+00, 6.700e+01\n",
              "  Dimensions:   68, 68, 68\n",
              "  Spacing:      1.000e+00, 1.000e+00, 1.000e+00\n",
              "  N Arrays:     1"
            ]
          },
          "execution_count": 6,
          "metadata": {},
          "output_type": "execute_result"
        }
      ],
      "source": [
        "dataset = pv.read(\"ironProt.vtk\")\n",
        "dataset"
      ]
    },
    {
      "cell_type": "markdown",
      "metadata": {},
      "source": [
        "This is again a `pyvista.ImageData`{.interpreted-text role=\"class\"} and\n",
        "we can plot it volumetrically with:\n"
      ]
    },
    {
      "cell_type": "code",
      "execution_count": 7,
      "metadata": {
        "collapsed": false
      },
      "outputs": [
        {
          "data": {
            "application/vnd.jupyter.widget-view+json": {
              "model_id": "56319087708d469a8b1cdff79731d287",
              "version_major": 2,
              "version_minor": 0
            },
            "text/plain": [
              "Widget(value='<iframe src=\"http://localhost:51429/index.html?ui=P_0x162a51450_2&reconnect=auto\" class=\"pyvista…"
            ]
          },
          "metadata": {},
          "output_type": "display_data"
        }
      ],
      "source": [
        "dataset.plot(volume=True)"
      ]
    },
    {
      "cell_type": "markdown",
      "metadata": {},
      "source": [
        "```{=html}\n",
        "<center>\n",
        "  <a target=\"_blank\" href=\"https://colab.research.google.com/github/pyvista/pyvista-tutorial/blob/gh-pages/notebooks/tutorial/01_basic/a_lesson_basic.ipynb\">\n",
        "    <img src=\"https://colab.research.google.com/assets/colab-badge.svg\" alt=\"Open In Colab\"/ width=\"150px\">\n",
        "  </a>\n",
        "</center>\n",
        "```\n"
      ]
    }
  ],
  "metadata": {
    "kernelspec": {
      "display_name": "venv",
      "language": "python",
      "name": "python3"
    },
    "language_info": {
      "codemirror_mode": {
        "name": "ipython",
        "version": 3
      },
      "file_extension": ".py",
      "mimetype": "text/x-python",
      "name": "python",
      "nbconvert_exporter": "python",
      "pygments_lexer": "ipython3",
      "version": "3.13.5"
    }
  },
  "nbformat": 4,
  "nbformat_minor": 0
}
